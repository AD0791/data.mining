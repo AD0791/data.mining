{
 "cells": [
  {
   "cell_type": "markdown",
   "metadata": {},
   "source": [
    "# Spark\n",
    "\n",
    "Apache's framework for distributed processing\n",
    "\n",
    "- Initialisation Process\n",
    "\n",
    "- basic dice exemple\n",
    "\n",
    "---\n",
    "\n",
    "## guide\n",
    "\n",
    "\n",
    "nous vle konnen exactement mete en claire concept poun kember yo poun k travay avec spark."
   ]
  },
  {
   "cell_type": "markdown",
   "metadata": {},
   "source": [
    "The first thing a Spark program must do is to create a SparkContext object, which tells Spark how to access a cluster. To create a SparkContext you first need to build a SparkConf object that contains information about your application.\n",
    "\n",
    "The appName parameter is a name for your application to show on the cluster UI. master is a Spark, Mesos or YARN cluster URL, or a special “local” string to run in local mode. In practice, when running on a cluster, you will not want to hardcode master in the program, but rather launch the application with spark-submit and receive it there. However, for local testing and unit tests, you can pass “local” to run Spark in-process.\n",
    "\n",
    "\n",
    "> Heuresment pou nous msambler jwenn deux methode pou demarrer Spark sou machine la.\n",
    "\n",
    "Fok nous set driver/host computer a.\n",
    "\n",
    "\n",
    "\n",
    "key concepts for Spark:\n",
    "\n",
    "- RDD\n",
    "- transformer\n",
    "- action\n",
    "\n",
    "\n"
   ]
  },
  {
   "cell_type": "code",
   "execution_count": null,
   "metadata": {},
   "outputs": [],
   "source": [
    "from pyspark import SparkContext, SparkConf\n",
    "master=\"local[3]\"\n",
    "appName=\"datamining-spark\"\n",
    "conf = SparkConf().set(\"spark.driver.host\",\"127.0.0.1\").setAppName(appName).setMaster(master)\n",
    "sc = SparkContext(conf=conf)\n",
    "\n",
    "# That would work: SparkSession.builder.config('spark.driver.host', '127.0.0.1').getOrCreate()\n"
   ]
  },
  {
   "cell_type": "code",
   "execution_count": null,
   "metadata": {},
   "outputs": [],
   "source": [
    "from pyspark.sql import SparkSession\n",
    "spark = SparkSession.builder \\\n",
    "    .config('spark.driver.host', '127.0.0.1') \\\n",
    "    .master(\"local[1]\") \\\n",
    "    .appName(\"Word Count\") \\\n",
    "    .getOrCreate()\n",
    "\n",
    "sparkSc = spark.sparkContext"
   ]
  },
  {
   "source": [
    "## Nou pral demarrer exemple Dice la."
   ],
   "cell_type": "markdown",
   "metadata": {}
  },
  {
   "cell_type": "code",
   "execution_count": null,
   "metadata": {},
   "outputs": [],
   "source": [
    "import random as rd \n",
    "n = 100\n",
    "rd.seed(1)\n",
    "simulations = range(100)\n",
    "\n"
   ]
  },
  {
   "source": [
    "- SC cluster/context"
   ],
   "cell_type": "markdown",
   "metadata": {}
  },
  {
   "cell_type": "code",
   "execution_count": null,
   "metadata": {},
   "outputs": [],
   "source": [
    "headsc = (sc.parallelize(simulations)\n",
    "        .map(lambda _: rd.random())\n",
    "        .filter(lambda dice: dice<0.2)\n",
    "        .count()\n",
    "    )"
   ]
  },
  {
   "cell_type": "code",
   "execution_count": null,
   "metadata": {},
   "outputs": [],
   "source": [
    "print(headsc)\n",
    "tails = n -headsc\n",
    "ratio = headsc / n\n",
    "print(f'number of tails: {tails}', f'ratio: {ratio}')"
   ]
  },
  {
   "source": [
    "- sparkSc cluster/context"
   ],
   "cell_type": "markdown",
   "metadata": {}
  },
  {
   "cell_type": "code",
   "execution_count": null,
   "metadata": {},
   "outputs": [],
   "source": [
    "hsp = (sparkSc.parallelize(simulations)\n",
    "        .map(lambda _: rd.random())\n",
    "        .filter(lambda dice: dice<0.3)\n",
    "        .count()\n",
    "    )\n",
    "\n",
    "print(hsp)\n",
    "t = n -hsp\n",
    "rat = hsp / n\n",
    "print(f'number of tails: {t}', f'ratio: {rat}')\n"
   ]
  },
  {
   "cell_type": "code",
   "execution_count": null,
   "metadata": {},
   "outputs": [],
   "source": [
    "#sparkSc.stop()\n",
    "#sc.stop()"
   ]
  },
  {
   "source": [
    "## Map VS FlatMap\n",
    "\n",
    "---"
   ],
   "cell_type": "markdown",
   "metadata": {}
  },
  {
   "cell_type": "code",
   "execution_count": null,
   "metadata": {},
   "outputs": [],
   "source": [
    "%%writefile input.txt\n",
    "Hello world\n",
    "Another line\n",
    "Yet another line\n",
    "The last line"
   ]
  },
  {
   "cell_type": "code",
   "execution_count": null,
   "metadata": {},
   "outputs": [],
   "source": [
    "from pyspark import SparkContext, SparkConf\n",
    "mast=\"local[2]\"\n",
    "Name=\"mapVSflatmap\"\n",
    "con = SparkConf().set(\"spark.driver.host\",\"127.0.0.1\").setAppName(Name).setMaster(mast)\n",
    "spC = SparkContext(conf=con)"
   ]
  },
  {
   "cell_type": "code",
   "execution_count": null,
   "metadata": {},
   "outputs": [],
   "source": [
    "# we can get access to the inut.txt\n",
    "spC.textFile(\"./input.txt\")\\\n",
    "    .map(lambda x: x.split()) \\\n",
    "        .collect()"
   ]
  },
  {
   "cell_type": "code",
   "execution_count": null,
   "metadata": {},
   "outputs": [],
   "source": [
    "spC.textFile(\"./input.txt\")\\\n",
    "    .flatMap(lambda x: x.split()) \\\n",
    "        .collect()"
   ]
  },
  {
   "cell_type": "code",
   "execution_count": null,
   "metadata": {},
   "outputs": [],
   "source": [
    "#spC.stop()"
   ]
  },
  {
   "source": [
    "## PairRDD\n",
    "\n",
    "---"
   ],
   "cell_type": "markdown",
   "metadata": {}
  },
  {
   "cell_type": "code",
   "execution_count": 1,
   "metadata": {},
   "outputs": [],
   "source": [
    "from pyspark import SparkContext, SparkConf\n",
    "Mastery=\"local\"\n",
    "NameApp=\"PairRDD\"\n",
    "conn = SparkConf().set(\"spark.driver.host\",\"127.0.0.1\").setAppName(NameApp).setMaster(Mastery)\n",
    "sconn = SparkContext(conf=conn)"
   ]
  },
  {
   "cell_type": "code",
   "execution_count": 30,
   "metadata": {},
   "outputs": [
    {
     "output_type": "stream",
     "name": "stdout",
     "text": [
      "Overwriting sales.txt\n"
     ]
    }
   ],
   "source": [
    "%%writefile sales.txt\n",
    "#ID DATE        STORE  PRODUCT AMOUNT\n",
    "100 12/13/2001  34     G345   375.43\n",
    "103 12/13/2004  31     H325   375.90\n",
    " 10 12/13/2011   3     O145    23.00\n",
    "100 12/13/2001  34     P345   375.43\n",
    "103 12/13/2004  31     Y325   375.90\n",
    " 10 12/13/2011   3     N145    23.00"
   ]
  },
  {
   "cell_type": "code",
   "execution_count": 19,
   "metadata": {},
   "outputs": [
    {
     "output_type": "execute_result",
     "data": {
      "text/plain": [
       "['#ID DATE        STORE  PRODUCT AMOUNT',\n",
       " '100 12/13/2001  34     G345   375.43']"
      ]
     },
     "metadata": {},
     "execution_count": 19
    }
   ],
   "source": [
    "sconn.textFile(\"./sales.txt\")\\\n",
    "    .take(2)"
   ]
  },
  {
   "cell_type": "code",
   "execution_count": 20,
   "metadata": {},
   "outputs": [
    {
     "output_type": "execute_result",
     "data": {
      "text/plain": [
       "['103 12/13/2004  31     Y325   375.90',\n",
       " '103 12/13/2004  31     H325   375.90']"
      ]
     },
     "metadata": {},
     "execution_count": 20
    }
   ],
   "source": [
    "sconn.textFile(\"./sales.txt\")\\\n",
    "    .top(2)"
   ]
  },
  {
   "cell_type": "code",
   "execution_count": 21,
   "metadata": {},
   "outputs": [
    {
     "output_type": "execute_result",
     "data": {
      "text/plain": [
       "[['#ID', 'DATE', 'STORE', 'PRODUCT', 'AMOUNT'],\n",
       " ['100', '12/13/2001', '34', 'G345', '375.43']]"
      ]
     },
     "metadata": {},
     "execution_count": 21
    }
   ],
   "source": [
    "sconn.textFile(\"./sales.txt\")\\\n",
    "    .map(lambda x: x.split()) \\\n",
    "    .take(2)"
   ]
  },
  {
   "cell_type": "code",
   "execution_count": 22,
   "metadata": {},
   "outputs": [
    {
     "output_type": "execute_result",
     "data": {
      "text/plain": [
       "[['100', '12/13/2001', '34', 'G345', '375.43'],\n",
       " ['103', '12/13/2004', '31', 'H325', '375.90']]"
      ]
     },
     "metadata": {},
     "execution_count": 22
    }
   ],
   "source": [
    "sconn.textFile(\"./sales.txt\")\\\n",
    "    .map(lambda x: x.split()) \\\n",
    "        .filter(lambda x: not x[0].startswith('#'))\\\n",
    "    .take(2)"
   ]
  },
  {
   "cell_type": "code",
   "execution_count": 23,
   "metadata": {},
   "outputs": [
    {
     "output_type": "execute_result",
     "data": {
      "text/plain": [
       "['DATE',\n",
       " 'STORE',\n",
       " 'PRODUCT',\n",
       " 'AMOUNT',\n",
       " '100',\n",
       " '12/13/2001',\n",
       " '34',\n",
       " 'G345',\n",
       " '375.43',\n",
       " '103',\n",
       " '12/13/2004',\n",
       " '31',\n",
       " 'H325',\n",
       " '375.90',\n",
       " '10',\n",
       " '12/13/2011',\n",
       " '3',\n",
       " 'O145',\n",
       " '23.00',\n",
       " '100',\n",
       " '12/13/2001',\n",
       " '34',\n",
       " 'P345',\n",
       " '375.43',\n",
       " '103',\n",
       " '12/13/2004',\n",
       " '31',\n",
       " 'Y325',\n",
       " '375.90',\n",
       " '10',\n",
       " '12/13/2011',\n",
       " '3',\n",
       " 'N145',\n",
       " '23.00']"
      ]
     },
     "metadata": {},
     "execution_count": 23
    }
   ],
   "source": [
    "sconn.textFile(\"./sales.txt\")\\\n",
    "    .flatMap(lambda x: x.split()) \\\n",
    "        .filter(lambda x: not x.startswith('#'))\\\n",
    "    .collect()"
   ]
  },
  {
   "cell_type": "code",
   "execution_count": 24,
   "metadata": {},
   "outputs": [
    {
     "output_type": "execute_result",
     "data": {
      "text/plain": [
       "['375.43', '375.90', '23.00', '375.43', '375.90', '23.00']"
      ]
     },
     "metadata": {},
     "execution_count": 24
    }
   ],
   "source": [
    "sconn.textFile(\"./sales.txt\")\\\n",
    "    .map(lambda x: x.split()) \\\n",
    "        .filter(lambda x: not x[0].startswith('#'))\\\n",
    "        .map(lambda x: x[-1])\\\n",
    "    .collect()"
   ]
  },
  {
   "cell_type": "code",
   "execution_count": 25,
   "metadata": {},
   "outputs": [
    {
     "output_type": "execute_result",
     "data": {
      "text/plain": [
       "1548.6599999999999"
      ]
     },
     "metadata": {},
     "execution_count": 25
    }
   ],
   "source": [
    "sconn.textFile(\"./sales.txt\")\\\n",
    "    .map(lambda x: x.split()) \\\n",
    "        .filter(lambda x: not x[0].startswith('#'))\\\n",
    "        .map(lambda x: float(x[-1]))\\\n",
    "    .sum()"
   ]
  },
  {
   "cell_type": "code",
   "execution_count": 32,
   "metadata": {},
   "outputs": [
    {
     "output_type": "execute_result",
     "data": {
      "text/plain": [
       "[('100', 750.86), ('103', 751.8), ('10', 46.0)]"
      ]
     },
     "metadata": {},
     "execution_count": 32
    }
   ],
   "source": [
    "sconn.textFile(\"./sales.txt\")\\\n",
    "    .map(lambda x: x.split()) \\\n",
    "        .filter(lambda x: not x[0].startswith('#'))\\\n",
    "            .map(lambda x: (x[-5],float(x[-1])))\\\n",
    "                .reduceByKey(lambda amount1,amount2: amount1+amount2)\\\n",
    "                    .collect()"
   ]
  },
  {
   "cell_type": "code",
   "execution_count": 33,
   "metadata": {},
   "outputs": [
    {
     "output_type": "execute_result",
     "data": {
      "text/plain": [
       "[('103', 751.8), ('100', 750.86), ('10', 46.0)]"
      ]
     },
     "metadata": {},
     "execution_count": 33
    }
   ],
   "source": [
    "sconn.textFile(\"./sales.txt\")\\\n",
    "    .map(lambda x: x.split()) \\\n",
    "        .filter(lambda x: not x[0].startswith('#'))\\\n",
    "            .map(lambda x: (x[-5],float(x[-1])))\\\n",
    "                .reduceByKey(lambda amount1,amount2: amount1+amount2)\\\n",
    "                    .sortBy(lambda product: product[-2],ascending=False)\\\n",
    "                        .collect()"
   ]
  },
  {
   "cell_type": "code",
   "execution_count": 35,
   "metadata": {},
   "outputs": [
    {
     "output_type": "execute_result",
     "data": {
      "text/plain": [
       "516.2199999999999"
      ]
     },
     "metadata": {},
     "execution_count": 35
    }
   ],
   "source": [
    "sconn.textFile(\"./sales.txt\")\\\n",
    "    .map(lambda x: x.split()) \\\n",
    "        .filter(lambda x: not x[0].startswith('#'))\\\n",
    "            .map(lambda x: (x[-5],float(x[-1])))\\\n",
    "                .reduceByKey(lambda amount1,amount2: amount1+amount2)\\\n",
    "                    .sortBy(lambda product: product[-2],ascending=False)\\\n",
    "                        .map(lambda x: x[1])\\\n",
    "                            .mean()"
   ]
  },
  {
   "cell_type": "code",
   "execution_count": 36,
   "metadata": {},
   "outputs": [
    {
     "output_type": "execute_result",
     "data": {
      "text/plain": [
       "[('Hello', 1),\n",
       " ('world', 1),\n",
       " ('Another', 1),\n",
       " ('line', 3),\n",
       " ('Yet', 1),\n",
       " ('another', 1),\n",
       " ('The', 1),\n",
       " ('last', 1)]"
      ]
     },
     "metadata": {},
     "execution_count": 36
    }
   ],
   "source": [
    "sconn.textFile(\"./input.txt\")\\\n",
    "    .flatMap(lambda line: line.split())\\\n",
    "        .map(lambda word: (word, 1))\\\n",
    "            .reduceByKey(lambda count1,count2: count1+count2)\\\n",
    "                .collect()"
   ]
  },
  {
   "cell_type": "code",
   "execution_count": null,
   "metadata": {},
   "outputs": [],
   "source": [
    "#sconn.stop()"
   ]
  },
  {
   "source": [
    "## Spark ML\n",
    "\n",
    "----\n",
    "\n",
    "1. data munging\n",
    "2. spark ml \n",
    "3. chain spark ml transformers and estimators composing an ml pipeline"
   ],
   "cell_type": "markdown",
   "metadata": {}
  },
  {
   "cell_type": "code",
   "execution_count": 9,
   "metadata": {},
   "outputs": [],
   "source": [
    "from pyspark import SparkContext, SparkConf, SQLContext\n",
    "from pyspark.sql import functions as F\n",
    "newMastery=\"local[4]\"\n",
    "newNameApp=\"ML.pipelines\"\n",
    "newconn = SparkConf().set(\"spark.driver.host\",\"127.0.0.1\").setAppName(newNameApp).setMaster(newMastery)\n",
    "sml = SparkContext(conf=newconn).getOrCreate()"
   ]
  },
  {
   "cell_type": "code",
   "execution_count": 11,
   "metadata": {},
   "outputs": [],
   "source": [
    "sqlCon = SQLContext(sml)\n",
    "#  in order to use the sql functions"
   ]
  },
  {
   "cell_type": "code",
   "execution_count": 12,
   "metadata": {},
   "outputs": [
    {
     "output_type": "execute_result",
     "data": {
      "text/plain": [
       "Text(0.5, 1.0, 'Apple Socks')"
      ]
     },
     "metadata": {},
     "execution_count": 12
    },
    {
     "output_type": "display_data",
     "data": {
      "text/plain": "<Figure size 432x288 with 1 Axes>",
      "image/svg+xml": "<?xml version=\"1.0\" encoding=\"utf-8\" standalone=\"no\"?>\n<!DOCTYPE svg PUBLIC \"-//W3C//DTD SVG 1.1//EN\"\n  \"http://www.w3.org/Graphics/SVG/1.1/DTD/svg11.dtd\">\n<!-- Created with matplotlib (https://matplotlib.org/) -->\n<svg height=\"263.63625pt\" version=\"1.1\" viewBox=\"0 0 372.103125 263.63625\" width=\"372.103125pt\" xmlns=\"http://www.w3.org/2000/svg\" xmlns:xlink=\"http://www.w3.org/1999/xlink\">\n <metadata>\n  <rdf:RDF xmlns:cc=\"http://creativecommons.org/ns#\" xmlns:dc=\"http://purl.org/dc/elements/1.1/\" xmlns:rdf=\"http://www.w3.org/1999/02/22-rdf-syntax-ns#\">\n   <cc:Work>\n    <dc:type rdf:resource=\"http://purl.org/dc/dcmitype/StillImage\"/>\n    <dc:date>2021-01-26T13:26:14.186088</dc:date>\n    <dc:format>image/svg+xml</dc:format>\n    <dc:creator>\n     <cc:Agent>\n      <dc:title>Matplotlib v3.3.3, https://matplotlib.org/</dc:title>\n     </cc:Agent>\n    </dc:creator>\n   </cc:Work>\n  </rdf:RDF>\n </metadata>\n <defs>\n  <style type=\"text/css\">*{stroke-linecap:butt;stroke-linejoin:round;}</style>\n </defs>\n <g id=\"figure_1\">\n  <g id=\"patch_1\">\n   <path d=\"M 0 263.63625 \nL 372.103125 263.63625 \nL 372.103125 0 \nL 0 0 \nz\n\" style=\"fill:none;\"/>\n  </g>\n  <g id=\"axes_1\">\n   <g id=\"patch_2\">\n    <path d=\"M 30.103125 239.758125 \nL 364.903125 239.758125 \nL 364.903125 22.318125 \nL 30.103125 22.318125 \nz\n\" style=\"fill:#ffffff;\"/>\n   </g>\n   <g id=\"matplotlib.axis_1\">\n    <g id=\"xtick_1\">\n     <g id=\"line2d_1\">\n      <defs>\n       <path d=\"M 0 0 \nL 0 3.5 \n\" id=\"m65c3902cf0\" style=\"stroke:#000000;stroke-width:0.8;\"/>\n      </defs>\n      <g>\n       <use style=\"stroke:#000000;stroke-width:0.8;\" x=\"43.332002\" xlink:href=\"#m65c3902cf0\" y=\"239.758125\"/>\n      </g>\n     </g>\n     <g id=\"text_1\">\n      <!-- 2008 -->\n      <g transform=\"translate(30.607002 254.356563)scale(0.1 -0.1)\">\n       <defs>\n        <path d=\"M 19.1875 8.296875 \nL 53.609375 8.296875 \nL 53.609375 0 \nL 7.328125 0 \nL 7.328125 8.296875 \nQ 12.9375 14.109375 22.625 23.890625 \nQ 32.328125 33.6875 34.8125 36.53125 \nQ 39.546875 41.84375 41.421875 45.53125 \nQ 43.3125 49.21875 43.3125 52.78125 \nQ 43.3125 58.59375 39.234375 62.25 \nQ 35.15625 65.921875 28.609375 65.921875 \nQ 23.96875 65.921875 18.8125 64.3125 \nQ 13.671875 62.703125 7.8125 59.421875 \nL 7.8125 69.390625 \nQ 13.765625 71.78125 18.9375 73 \nQ 24.125 74.21875 28.421875 74.21875 \nQ 39.75 74.21875 46.484375 68.546875 \nQ 53.21875 62.890625 53.21875 53.421875 \nQ 53.21875 48.921875 51.53125 44.890625 \nQ 49.859375 40.875 45.40625 35.40625 \nQ 44.1875 33.984375 37.640625 27.21875 \nQ 31.109375 20.453125 19.1875 8.296875 \nz\n\" id=\"DejaVuSans-50\"/>\n        <path d=\"M 31.78125 66.40625 \nQ 24.171875 66.40625 20.328125 58.90625 \nQ 16.5 51.421875 16.5 36.375 \nQ 16.5 21.390625 20.328125 13.890625 \nQ 24.171875 6.390625 31.78125 6.390625 \nQ 39.453125 6.390625 43.28125 13.890625 \nQ 47.125 21.390625 47.125 36.375 \nQ 47.125 51.421875 43.28125 58.90625 \nQ 39.453125 66.40625 31.78125 66.40625 \nz\nM 31.78125 74.21875 \nQ 44.046875 74.21875 50.515625 64.515625 \nQ 56.984375 54.828125 56.984375 36.375 \nQ 56.984375 17.96875 50.515625 8.265625 \nQ 44.046875 -1.421875 31.78125 -1.421875 \nQ 19.53125 -1.421875 13.0625 8.265625 \nQ 6.59375 17.96875 6.59375 36.375 \nQ 6.59375 54.828125 13.0625 64.515625 \nQ 19.53125 74.21875 31.78125 74.21875 \nz\n\" id=\"DejaVuSans-48\"/>\n        <path d=\"M 31.78125 34.625 \nQ 24.75 34.625 20.71875 30.859375 \nQ 16.703125 27.09375 16.703125 20.515625 \nQ 16.703125 13.921875 20.71875 10.15625 \nQ 24.75 6.390625 31.78125 6.390625 \nQ 38.8125 6.390625 42.859375 10.171875 \nQ 46.921875 13.96875 46.921875 20.515625 \nQ 46.921875 27.09375 42.890625 30.859375 \nQ 38.875 34.625 31.78125 34.625 \nz\nM 21.921875 38.8125 \nQ 15.578125 40.375 12.03125 44.71875 \nQ 8.5 49.078125 8.5 55.328125 \nQ 8.5 64.0625 14.71875 69.140625 \nQ 20.953125 74.21875 31.78125 74.21875 \nQ 42.671875 74.21875 48.875 69.140625 \nQ 55.078125 64.0625 55.078125 55.328125 \nQ 55.078125 49.078125 51.53125 44.71875 \nQ 48 40.375 41.703125 38.8125 \nQ 48.828125 37.15625 52.796875 32.3125 \nQ 56.78125 27.484375 56.78125 20.515625 \nQ 56.78125 9.90625 50.3125 4.234375 \nQ 43.84375 -1.421875 31.78125 -1.421875 \nQ 19.734375 -1.421875 13.25 4.234375 \nQ 6.78125 9.90625 6.78125 20.515625 \nQ 6.78125 27.484375 10.78125 32.3125 \nQ 14.796875 37.15625 21.921875 38.8125 \nz\nM 18.3125 54.390625 \nQ 18.3125 48.734375 21.84375 45.5625 \nQ 25.390625 42.390625 31.78125 42.390625 \nQ 38.140625 42.390625 41.71875 45.5625 \nQ 45.3125 48.734375 45.3125 54.390625 \nQ 45.3125 60.0625 41.71875 63.234375 \nQ 38.140625 66.40625 31.78125 66.40625 \nQ 25.390625 66.40625 21.84375 63.234375 \nQ 18.3125 60.0625 18.3125 54.390625 \nz\n\" id=\"DejaVuSans-56\"/>\n       </defs>\n       <use xlink:href=\"#DejaVuSans-50\"/>\n       <use x=\"63.623047\" xlink:href=\"#DejaVuSans-48\"/>\n       <use x=\"127.246094\" xlink:href=\"#DejaVuSans-48\"/>\n       <use x=\"190.869141\" xlink:href=\"#DejaVuSans-56\"/>\n      </g>\n     </g>\n    </g>\n    <g id=\"xtick_2\">\n     <g id=\"line2d_2\">\n      <g>\n       <use style=\"stroke:#000000;stroke-width:0.8;\" x=\"90.241093\" xlink:href=\"#m65c3902cf0\" y=\"239.758125\"/>\n      </g>\n     </g>\n     <g id=\"text_2\">\n      <!-- 2010 -->\n      <g transform=\"translate(77.516093 254.356563)scale(0.1 -0.1)\">\n       <defs>\n        <path d=\"M 12.40625 8.296875 \nL 28.515625 8.296875 \nL 28.515625 63.921875 \nL 10.984375 60.40625 \nL 10.984375 69.390625 \nL 28.421875 72.90625 \nL 38.28125 72.90625 \nL 38.28125 8.296875 \nL 54.390625 8.296875 \nL 54.390625 0 \nL 12.40625 0 \nz\n\" id=\"DejaVuSans-49\"/>\n       </defs>\n       <use xlink:href=\"#DejaVuSans-50\"/>\n       <use x=\"63.623047\" xlink:href=\"#DejaVuSans-48\"/>\n       <use x=\"127.246094\" xlink:href=\"#DejaVuSans-49\"/>\n       <use x=\"190.869141\" xlink:href=\"#DejaVuSans-48\"/>\n      </g>\n     </g>\n    </g>\n    <g id=\"xtick_3\">\n     <g id=\"line2d_3\">\n      <g>\n       <use style=\"stroke:#000000;stroke-width:0.8;\" x=\"137.086013\" xlink:href=\"#m65c3902cf0\" y=\"239.758125\"/>\n      </g>\n     </g>\n     <g id=\"text_3\">\n      <!-- 2012 -->\n      <g transform=\"translate(124.361013 254.356563)scale(0.1 -0.1)\">\n       <use xlink:href=\"#DejaVuSans-50\"/>\n       <use x=\"63.623047\" xlink:href=\"#DejaVuSans-48\"/>\n       <use x=\"127.246094\" xlink:href=\"#DejaVuSans-49\"/>\n       <use x=\"190.869141\" xlink:href=\"#DejaVuSans-50\"/>\n      </g>\n     </g>\n    </g>\n    <g id=\"xtick_4\">\n     <g id=\"line2d_4\">\n      <g>\n       <use style=\"stroke:#000000;stroke-width:0.8;\" x=\"183.995104\" xlink:href=\"#m65c3902cf0\" y=\"239.758125\"/>\n      </g>\n     </g>\n     <g id=\"text_4\">\n      <!-- 2014 -->\n      <g transform=\"translate(171.270104 254.356563)scale(0.1 -0.1)\">\n       <defs>\n        <path d=\"M 37.796875 64.3125 \nL 12.890625 25.390625 \nL 37.796875 25.390625 \nz\nM 35.203125 72.90625 \nL 47.609375 72.90625 \nL 47.609375 25.390625 \nL 58.015625 25.390625 \nL 58.015625 17.1875 \nL 47.609375 17.1875 \nL 47.609375 0 \nL 37.796875 0 \nL 37.796875 17.1875 \nL 4.890625 17.1875 \nL 4.890625 26.703125 \nz\n\" id=\"DejaVuSans-52\"/>\n       </defs>\n       <use xlink:href=\"#DejaVuSans-50\"/>\n       <use x=\"63.623047\" xlink:href=\"#DejaVuSans-48\"/>\n       <use x=\"127.246094\" xlink:href=\"#DejaVuSans-49\"/>\n       <use x=\"190.869141\" xlink:href=\"#DejaVuSans-52\"/>\n      </g>\n     </g>\n    </g>\n    <g id=\"xtick_5\">\n     <g id=\"line2d_5\">\n      <g>\n       <use style=\"stroke:#000000;stroke-width:0.8;\" x=\"230.840023\" xlink:href=\"#m65c3902cf0\" y=\"239.758125\"/>\n      </g>\n     </g>\n     <g id=\"text_5\">\n      <!-- 2016 -->\n      <g transform=\"translate(218.115023 254.356563)scale(0.1 -0.1)\">\n       <defs>\n        <path d=\"M 33.015625 40.375 \nQ 26.375 40.375 22.484375 35.828125 \nQ 18.609375 31.296875 18.609375 23.390625 \nQ 18.609375 15.53125 22.484375 10.953125 \nQ 26.375 6.390625 33.015625 6.390625 \nQ 39.65625 6.390625 43.53125 10.953125 \nQ 47.40625 15.53125 47.40625 23.390625 \nQ 47.40625 31.296875 43.53125 35.828125 \nQ 39.65625 40.375 33.015625 40.375 \nz\nM 52.59375 71.296875 \nL 52.59375 62.3125 \nQ 48.875 64.0625 45.09375 64.984375 \nQ 41.3125 65.921875 37.59375 65.921875 \nQ 27.828125 65.921875 22.671875 59.328125 \nQ 17.53125 52.734375 16.796875 39.40625 \nQ 19.671875 43.65625 24.015625 45.921875 \nQ 28.375 48.1875 33.59375 48.1875 \nQ 44.578125 48.1875 50.953125 41.515625 \nQ 57.328125 34.859375 57.328125 23.390625 \nQ 57.328125 12.15625 50.6875 5.359375 \nQ 44.046875 -1.421875 33.015625 -1.421875 \nQ 20.359375 -1.421875 13.671875 8.265625 \nQ 6.984375 17.96875 6.984375 36.375 \nQ 6.984375 53.65625 15.1875 63.9375 \nQ 23.390625 74.21875 37.203125 74.21875 \nQ 40.921875 74.21875 44.703125 73.484375 \nQ 48.484375 72.75 52.59375 71.296875 \nz\n\" id=\"DejaVuSans-54\"/>\n       </defs>\n       <use xlink:href=\"#DejaVuSans-50\"/>\n       <use x=\"63.623047\" xlink:href=\"#DejaVuSans-48\"/>\n       <use x=\"127.246094\" xlink:href=\"#DejaVuSans-49\"/>\n       <use x=\"190.869141\" xlink:href=\"#DejaVuSans-54\"/>\n      </g>\n     </g>\n    </g>\n    <g id=\"xtick_6\">\n     <g id=\"line2d_6\">\n      <g>\n       <use style=\"stroke:#000000;stroke-width:0.8;\" x=\"277.749114\" xlink:href=\"#m65c3902cf0\" y=\"239.758125\"/>\n      </g>\n     </g>\n     <g id=\"text_6\">\n      <!-- 2018 -->\n      <g transform=\"translate(265.024114 254.356563)scale(0.1 -0.1)\">\n       <use xlink:href=\"#DejaVuSans-50\"/>\n       <use x=\"63.623047\" xlink:href=\"#DejaVuSans-48\"/>\n       <use x=\"127.246094\" xlink:href=\"#DejaVuSans-49\"/>\n       <use x=\"190.869141\" xlink:href=\"#DejaVuSans-56\"/>\n      </g>\n     </g>\n    </g>\n    <g id=\"xtick_7\">\n     <g id=\"line2d_7\">\n      <g>\n       <use style=\"stroke:#000000;stroke-width:0.8;\" x=\"324.594034\" xlink:href=\"#m65c3902cf0\" y=\"239.758125\"/>\n      </g>\n     </g>\n     <g id=\"text_7\">\n      <!-- 2020 -->\n      <g transform=\"translate(311.869034 254.356563)scale(0.1 -0.1)\">\n       <use xlink:href=\"#DejaVuSans-50\"/>\n       <use x=\"63.623047\" xlink:href=\"#DejaVuSans-48\"/>\n       <use x=\"127.246094\" xlink:href=\"#DejaVuSans-50\"/>\n       <use x=\"190.869141\" xlink:href=\"#DejaVuSans-48\"/>\n      </g>\n     </g>\n    </g>\n   </g>\n   <g id=\"matplotlib.axis_2\">\n    <g id=\"ytick_1\">\n     <g id=\"line2d_8\">\n      <defs>\n       <path d=\"M 0 0 \nL -3.5 0 \n\" id=\"m4f3e9c472b\" style=\"stroke:#000000;stroke-width:0.8;\"/>\n      </defs>\n      <g>\n       <use style=\"stroke:#000000;stroke-width:0.8;\" x=\"30.103125\" xlink:href=\"#m4f3e9c472b\" y=\"229.874489\"/>\n      </g>\n     </g>\n     <g id=\"text_8\">\n      <!-- 0.0 -->\n      <g transform=\"translate(7.2 233.673708)scale(0.1 -0.1)\">\n       <defs>\n        <path d=\"M 10.6875 12.40625 \nL 21 12.40625 \nL 21 0 \nL 10.6875 0 \nz\n\" id=\"DejaVuSans-46\"/>\n       </defs>\n       <use xlink:href=\"#DejaVuSans-48\"/>\n       <use x=\"63.623047\" xlink:href=\"#DejaVuSans-46\"/>\n       <use x=\"95.410156\" xlink:href=\"#DejaVuSans-48\"/>\n      </g>\n     </g>\n    </g>\n    <g id=\"ytick_2\">\n     <g id=\"line2d_9\">\n      <g>\n       <use style=\"stroke:#000000;stroke-width:0.8;\" x=\"30.103125\" xlink:href=\"#m4f3e9c472b\" y=\"192.180283\"/>\n      </g>\n     </g>\n     <g id=\"text_9\">\n      <!-- 0.5 -->\n      <g transform=\"translate(7.2 195.979502)scale(0.1 -0.1)\">\n       <defs>\n        <path d=\"M 10.796875 72.90625 \nL 49.515625 72.90625 \nL 49.515625 64.59375 \nL 19.828125 64.59375 \nL 19.828125 46.734375 \nQ 21.96875 47.46875 24.109375 47.828125 \nQ 26.265625 48.1875 28.421875 48.1875 \nQ 40.625 48.1875 47.75 41.5 \nQ 54.890625 34.8125 54.890625 23.390625 \nQ 54.890625 11.625 47.5625 5.09375 \nQ 40.234375 -1.421875 26.90625 -1.421875 \nQ 22.3125 -1.421875 17.546875 -0.640625 \nQ 12.796875 0.140625 7.71875 1.703125 \nL 7.71875 11.625 \nQ 12.109375 9.234375 16.796875 8.0625 \nQ 21.484375 6.890625 26.703125 6.890625 \nQ 35.15625 6.890625 40.078125 11.328125 \nQ 45.015625 15.765625 45.015625 23.390625 \nQ 45.015625 31 40.078125 35.4375 \nQ 35.15625 39.890625 26.703125 39.890625 \nQ 22.75 39.890625 18.8125 39.015625 \nQ 14.890625 38.140625 10.796875 36.28125 \nz\n\" id=\"DejaVuSans-53\"/>\n       </defs>\n       <use xlink:href=\"#DejaVuSans-48\"/>\n       <use x=\"63.623047\" xlink:href=\"#DejaVuSans-46\"/>\n       <use x=\"95.410156\" xlink:href=\"#DejaVuSans-53\"/>\n      </g>\n     </g>\n    </g>\n    <g id=\"ytick_3\">\n     <g id=\"line2d_10\">\n      <g>\n       <use style=\"stroke:#000000;stroke-width:0.8;\" x=\"30.103125\" xlink:href=\"#m4f3e9c472b\" y=\"154.486077\"/>\n      </g>\n     </g>\n     <g id=\"text_10\">\n      <!-- 1.0 -->\n      <g transform=\"translate(7.2 158.285296)scale(0.1 -0.1)\">\n       <use xlink:href=\"#DejaVuSans-49\"/>\n       <use x=\"63.623047\" xlink:href=\"#DejaVuSans-46\"/>\n       <use x=\"95.410156\" xlink:href=\"#DejaVuSans-48\"/>\n      </g>\n     </g>\n    </g>\n    <g id=\"ytick_4\">\n     <g id=\"line2d_11\">\n      <g>\n       <use style=\"stroke:#000000;stroke-width:0.8;\" x=\"30.103125\" xlink:href=\"#m4f3e9c472b\" y=\"116.791871\"/>\n      </g>\n     </g>\n     <g id=\"text_11\">\n      <!-- 1.5 -->\n      <g transform=\"translate(7.2 120.59109)scale(0.1 -0.1)\">\n       <use xlink:href=\"#DejaVuSans-49\"/>\n       <use x=\"63.623047\" xlink:href=\"#DejaVuSans-46\"/>\n       <use x=\"95.410156\" xlink:href=\"#DejaVuSans-53\"/>\n      </g>\n     </g>\n    </g>\n    <g id=\"ytick_5\">\n     <g id=\"line2d_12\">\n      <g>\n       <use style=\"stroke:#000000;stroke-width:0.8;\" x=\"30.103125\" xlink:href=\"#m4f3e9c472b\" y=\"79.097666\"/>\n      </g>\n     </g>\n     <g id=\"text_12\">\n      <!-- 2.0 -->\n      <g transform=\"translate(7.2 82.896884)scale(0.1 -0.1)\">\n       <use xlink:href=\"#DejaVuSans-50\"/>\n       <use x=\"63.623047\" xlink:href=\"#DejaVuSans-46\"/>\n       <use x=\"95.410156\" xlink:href=\"#DejaVuSans-48\"/>\n      </g>\n     </g>\n    </g>\n    <g id=\"ytick_6\">\n     <g id=\"line2d_13\">\n      <g>\n       <use style=\"stroke:#000000;stroke-width:0.8;\" x=\"30.103125\" xlink:href=\"#m4f3e9c472b\" y=\"41.40346\"/>\n      </g>\n     </g>\n     <g id=\"text_13\">\n      <!-- 2.5 -->\n      <g transform=\"translate(7.2 45.202679)scale(0.1 -0.1)\">\n       <use xlink:href=\"#DejaVuSans-50\"/>\n       <use x=\"63.623047\" xlink:href=\"#DejaVuSans-46\"/>\n       <use x=\"95.410156\" xlink:href=\"#DejaVuSans-53\"/>\n      </g>\n     </g>\n    </g>\n    <g id=\"text_14\">\n     <!-- 1e9 -->\n     <g transform=\"translate(30.103125 19.318125)scale(0.1 -0.1)\">\n      <defs>\n       <path d=\"M 56.203125 29.59375 \nL 56.203125 25.203125 \nL 14.890625 25.203125 \nQ 15.484375 15.921875 20.484375 11.0625 \nQ 25.484375 6.203125 34.421875 6.203125 \nQ 39.59375 6.203125 44.453125 7.46875 \nQ 49.3125 8.734375 54.109375 11.28125 \nL 54.109375 2.78125 \nQ 49.265625 0.734375 44.1875 -0.34375 \nQ 39.109375 -1.421875 33.890625 -1.421875 \nQ 20.796875 -1.421875 13.15625 6.1875 \nQ 5.515625 13.8125 5.515625 26.8125 \nQ 5.515625 40.234375 12.765625 48.109375 \nQ 20.015625 56 32.328125 56 \nQ 43.359375 56 49.78125 48.890625 \nQ 56.203125 41.796875 56.203125 29.59375 \nz\nM 47.21875 32.234375 \nQ 47.125 39.59375 43.09375 43.984375 \nQ 39.0625 48.390625 32.421875 48.390625 \nQ 24.90625 48.390625 20.390625 44.140625 \nQ 15.875 39.890625 15.1875 32.171875 \nz\n\" id=\"DejaVuSans-101\"/>\n       <path d=\"M 10.984375 1.515625 \nL 10.984375 10.5 \nQ 14.703125 8.734375 18.5 7.8125 \nQ 22.3125 6.890625 25.984375 6.890625 \nQ 35.75 6.890625 40.890625 13.453125 \nQ 46.046875 20.015625 46.78125 33.40625 \nQ 43.953125 29.203125 39.59375 26.953125 \nQ 35.25 24.703125 29.984375 24.703125 \nQ 19.046875 24.703125 12.671875 31.3125 \nQ 6.296875 37.9375 6.296875 49.421875 \nQ 6.296875 60.640625 12.9375 67.421875 \nQ 19.578125 74.21875 30.609375 74.21875 \nQ 43.265625 74.21875 49.921875 64.515625 \nQ 56.59375 54.828125 56.59375 36.375 \nQ 56.59375 19.140625 48.40625 8.859375 \nQ 40.234375 -1.421875 26.421875 -1.421875 \nQ 22.703125 -1.421875 18.890625 -0.6875 \nQ 15.09375 0.046875 10.984375 1.515625 \nz\nM 30.609375 32.421875 \nQ 37.25 32.421875 41.125 36.953125 \nQ 45.015625 41.5 45.015625 49.421875 \nQ 45.015625 57.28125 41.125 61.84375 \nQ 37.25 66.40625 30.609375 66.40625 \nQ 23.96875 66.40625 20.09375 61.84375 \nQ 16.21875 57.28125 16.21875 49.421875 \nQ 16.21875 41.5 20.09375 36.953125 \nQ 23.96875 32.421875 30.609375 32.421875 \nz\n\" id=\"DejaVuSans-57\"/>\n      </defs>\n      <use xlink:href=\"#DejaVuSans-49\"/>\n      <use x=\"63.623047\" xlink:href=\"#DejaVuSans-101\"/>\n      <use x=\"125.146484\" xlink:href=\"#DejaVuSans-57\"/>\n     </g>\n    </g>\n   </g>\n   <g id=\"line2d_14\">\n    <path clip-path=\"url(#p51eced6d7b)\" d=\"M 45.321307 229.874488 \nL 349.684943 229.874478 \nL 349.684943 229.874478 \n\" style=\"fill:none;stroke:#1f77b4;stroke-linecap:square;stroke-width:1.5;\"/>\n   </g>\n   <g id=\"line2d_15\">\n    <path clip-path=\"url(#p51eced6d7b)\" d=\"M 45.321307 229.874488 \nL 349.684943 229.874478 \nL 349.684943 229.874478 \n\" style=\"fill:none;stroke:#ff7f0e;stroke-linecap:square;stroke-width:1.5;\"/>\n   </g>\n   <g id=\"line2d_16\">\n    <path clip-path=\"url(#p51eced6d7b)\" d=\"M 45.321307 229.874488 \nL 349.684943 229.874478 \nL 349.684943 229.874478 \n\" style=\"fill:none;stroke:#2ca02c;stroke-linecap:square;stroke-width:1.5;\"/>\n   </g>\n   <g id=\"line2d_17\">\n    <path clip-path=\"url(#p51eced6d7b)\" d=\"M 45.321307 229.874488 \nL 349.684943 229.874478 \nL 349.684943 229.874478 \n\" style=\"fill:none;stroke:#d62728;stroke-linecap:square;stroke-width:1.5;\"/>\n   </g>\n   <g id=\"line2d_18\">\n    <path clip-path=\"url(#p51eced6d7b)\" d=\"M 45.321307 153.676104 \nL 45.51382 162.082666 \nL 45.642162 111.267982 \nL 45.706334 72.815429 \nL 45.770505 127.649853 \nL 45.963018 139.300409 \nL 46.027189 137.449804 \nL 46.155531 157.946616 \nL 46.219703 161.926883 \nL 46.476387 154.105667 \nL 46.604729 159.151504 \nL 46.6689 114.539416 \nL 46.861414 135.128263 \nL 47.053927 107.87686 \nL 47.118098 135.225786 \nL 47.374783 95.277255 \nL 47.438954 137.762214 \nL 47.503125 118.774677 \nL 47.567296 137.111853 \nL 47.759809 154.517077 \nL 47.952323 134.726563 \nL 48.016494 142.677176 \nL 48.209007 149.012969 \nL 48.273178 139.022406 \nL 48.401521 161.362435 \nL 48.786547 140.759024 \nL 48.91489 176.001146 \nL 49.107403 171.971273 \nL 49.235745 151.095981 \nL 49.299916 150.598448 \nL 49.364088 165.461333 \nL 49.556601 142.550101 \nL 49.684943 164.030371 \nL 49.749114 157.821019 \nL 49.813285 138.648781 \nL 50.06997 177.250573 \nL 50.134141 169.882351 \nL 50.198312 176.780903 \nL 50.262483 152.468261 \nL 50.454997 151.53441 \nL 50.64751 102.010737 \nL 50.711681 155.05345 \nL 50.904195 170.527646 \nL 51.032537 143.967554 \nL 51.096708 161.755269 \nL 51.160879 154.027565 \nL 51.353392 165.450779 \nL 51.417564 160.602309 \nL 51.481735 142.640025 \nL 51.610077 179.13263 \nL 51.930932 160.756614 \nL 52.059275 172.144365 \nL 52.444301 138.900609 \nL 52.508473 161.503442 \nL 52.829328 173.787049 \nL 52.95767 183.873656 \nL 53.150184 178.622431 \nL 53.214355 173.293948 \nL 53.278526 175.06835 \nL 53.342697 172.922645 \nL 53.599382 87.511555 \nL 53.727724 157.384701 \nL 53.856066 128.404913 \nL 54.241093 170.170697 \nL 54.305264 162.901897 \nL 54.561949 182.986877 \nL 54.62612 181.290367 \nL 54.754462 151.300947 \nL 54.946975 178.293979 \nL 55.011146 146.096794 \nL 55.075318 166.735247 \nL 55.139489 190.419059 \nL 55.524515 162.343359 \nL 55.588686 166.496296 \nL 55.652858 159.762392 \nL 55.845371 163.076255 \nL 55.909542 151.467284 \nL 55.973713 173.499758 \nL 56.037884 172.765807 \nL 56.294569 127.310847 \nL 56.35874 88.175003 \nL 56.551253 182.105587 \nL 56.743767 171.017791 \nL 57.000451 188.815005 \nL 57.192965 185.204774 \nL 57.321307 170.211436 \nL 57.385478 179.185402 \nL 57.449649 176.047374 \nL 57.642162 162.680466 \nL 58.09136 188.259 \nL 58.155531 183.419818 \nL 58.348045 196.732899 \nL 58.540558 193.354442 \nL 58.604729 196.285182 \nL 58.6689 193.855353 \nL 58.733072 197.353074 \nL 58.797243 184.694998 \nL 59.053927 171.013991 \nL 59.118098 174.47646 \nL 59.182269 173.831799 \nL 59.246441 170.552554 \nL 59.503125 136.013986 \nL 59.695638 170.089428 \nL 59.888152 160.469324 \nL 60.080665 103.504392 \nL 60.33735 165.288241 \nL 60.401521 133.34985 \nL 60.465692 150.941676 \nL 60.529863 154.030309 \nL 60.594034 144.953122 \nL 60.786547 32.201761 \nL 60.91489 132.134619 \nL 61.043232 56.903438 \nL 61.235745 70.999654 \nL 61.299916 88.236852 \nL 61.364088 63.436387 \nL 61.428259 107.942508 \nL 61.49243 62.565017 \nL 61.684943 113.845994 \nL 61.749114 80.530468 \nL 61.813285 110.446007 \nL 61.877457 80.566141 \nL 61.941628 97.022949 \nL 62.134141 113.085023 \nL 62.262483 60.340365 \nL 62.390826 110.002512 \nL 62.583339 138.747148 \nL 62.711681 82.793326 \nL 62.775852 106.381516 \nL 62.840023 104.74812 \nL 63.032537 150.118223 \nL 63.096708 124.430135 \nL 63.160879 135.152327 \nL 63.22505 130.431565 \nL 63.289221 147.30506 \nL 63.481735 145.151333 \nL 63.545906 137.558514 \nL 63.610077 140.993331 \nL 63.674248 90.0978 \nL 63.738419 123.933657 \nL 63.930932 142.23347 \nL 63.995104 138.677489 \nL 64.059275 141.526749 \nL 64.123446 100.446578 \nL 64.187617 111.569626 \nL 64.38013 121.144979 \nL 64.636815 207.42575 \nL 64.95767 128.95353 \nL 65.086013 151.184427 \nL 65.342697 139.144837 \nL 65.406868 159.15657 \nL 65.471039 151.424011 \nL 65.535211 151.382005 \nL 65.727724 162.64627 \nL 65.856066 132.332408 \nL 65.984408 169.419014 \nL 66.176922 166.190852 \nL 66.305264 209.41905 \nL 66.433606 206.630372 \nL 66.690291 156.928541 \nL 66.754462 184.072923 \nL 66.882804 173.633588 \nL 67.139489 132.675426 \nL 67.332002 188.648668 \nL 67.524515 183.305831 \nL 67.652858 152.852863 \nL 67.717029 91.790511 \nL 67.7812 150.895659 \nL 68.037884 160.523573 \nL 68.166227 123.612382 \nL 68.230398 172.295082 \nL 68.422911 177.687735 \nL 68.487082 183.281556 \nL 68.551253 164.934459 \nL 68.615424 185.189576 \nL 68.679596 180.760537 \nL 68.872109 187.789119 \nL 68.93628 184.69352 \nL 69.000451 168.928868 \nL 69.064622 173.389993 \nL 69.128793 178.066849 \nL 69.321307 175.97096 \nL 69.385478 165.865144 \nL 69.449649 178.989301 \nL 69.51382 168.267953 \nL 69.577991 183.964635 \nL 69.898847 178.250073 \nL 69.963018 160.305731 \nL 70.027189 173.309357 \nL 70.283874 169.02808 \nL 70.348045 167.071931 \nL 70.412216 182.389711 \nL 70.476387 176.600634 \nL 70.6689 171.755331 \nL 70.861414 176.582481 \nL 70.925585 153.645708 \nL 71.118098 177.230942 \nL 71.246441 166.067788 \nL 71.374783 184.553358 \nL 71.567296 169.77153 \nL 71.631467 170.570496 \nL 71.695638 169.862509 \nL 71.759809 192.166653 \nL 71.823981 177.435275 \nL 72.080665 181.579768 \nL 72.144836 181.126985 \nL 72.209007 183.416229 \nL 72.273178 192.717591 \nL 72.465692 191.969497 \nL 72.658205 168.631446 \nL 72.722376 181.909275 \nL 72.91489 180.264059 \nL 73.043232 195.525267 \nL 73.107403 189.861577 \nL 73.364088 200.530575 \nL 73.556601 185.135538 \nL 73.620772 192.369086 \nL 73.813285 194.708358 \nL 73.877457 194.390249 \nL 74.005799 158.620619 \nL 74.06997 189.10715 \nL 74.326654 195.508169 \nL 74.390826 195.338243 \nL 74.454997 192.29415 \nL 74.519168 199.906389 \nL 74.711681 183.935927 \nL 74.775852 199.850662 \nL 74.840023 194.175151 \nL 74.904195 189.784741 \nL 74.968366 194.595426 \nL 75.160879 199.367905 \nL 75.22505 183.926639 \nL 75.289221 184.945137 \nL 75.417564 202.164181 \nL 75.610077 195.283149 \nL 75.674248 201.798156 \nL 75.738419 200.579758 \nL 75.80259 199.120088 \nL 75.866761 207.408863 \nL 76.187617 181.141761 \nL 76.315959 195.457086 \nL 76.508473 195.761263 \nL 76.572644 195.480516 \nL 76.95767 159.638694 \nL 77.150184 190.308871 \nL 77.214355 187.42436 \nL 77.406868 189.183563 \nL 77.471039 191.064143 \nL 77.535211 186.796585 \nL 77.599382 197.632343 \nL 77.663553 175.454851 \nL 77.856066 182.009331 \nL 77.920237 176.610133 \nL 77.984408 193.271485 \nL 78.04858 185.436971 \nL 78.112751 196.749997 \nL 78.305264 187.08282 \nL 78.497777 201.94465 \nL 78.754462 192.279162 \nL 78.818633 195.075439 \nL 78.882804 186.456101 \nL 78.946975 204.014364 \nL 79.011146 196.305869 \nL 79.20366 193.424101 \nL 79.267831 203.696044 \nL 79.460344 184.479055 \nL 79.652858 174.424322 \nL 79.717029 163.926093 \nL 79.7812 163.977177 \nL 79.909542 196.827044 \nL 80.102055 197.207846 \nL 80.166227 202.46667 \nL 80.230398 201.064204 \nL 80.294569 194.471729 \nL 80.35874 198.020111 \nL 80.551253 200.153361 \nL 80.615424 200.034941 \nL 80.679596 197.971349 \nL 80.743767 204.120541 \nL 80.807938 200.672426 \nL 81.000451 207.235771 \nL 81.128793 196.321278 \nL 81.192965 196.705035 \nL 81.257136 206.819506 \nL 81.449649 190.342223 \nL 81.642162 204.0893 \nL 81.706334 198.507301 \nL 81.898847 199.196713 \nL 82.027189 206.956502 \nL 82.155531 195.670706 \nL 82.348045 206.403242 \nL 82.412216 194.515213 \nL 82.476387 202.41432 \nL 82.540558 207.713673 \nL 82.604729 201.631819 \nL 82.861414 206.123551 \nL 82.925585 168.727913 \nL 82.989756 192.848677 \nL 83.053927 203.566858 \nL 83.246441 205.598576 \nL 83.310612 197.723533 \nL 83.438954 168.766753 \nL 83.503125 184.522117 \nL 83.759809 202.979402 \nL 83.823981 185.126672 \nL 83.888152 188.34449 \nL 83.952323 196.308613 \nL 84.144836 204.435061 \nL 84.209007 203.836417 \nL 84.273178 189.196018 \nL 84.33735 190.317315 \nL 84.401521 188.161478 \nL 84.594034 197.975149 \nL 84.658205 184.258047 \nL 84.850719 207.765179 \nL 85.043232 208.160757 \nL 85.299916 197.349908 \nL 85.620772 139.881321 \nL 85.749114 198.15204 \nL 85.941628 193.360986 \nL 86.06997 168.177608 \nL 86.134141 186.882709 \nL 86.198312 175.781404 \nL 86.390826 178.687024 \nL 86.64751 207.627549 \nL 86.840023 190.004905 \nL 87.032537 202.453371 \nL 87.096708 203.99811 \nL 87.289221 193.295549 \nL 87.417564 201.655038 \nL 87.481735 188.989363 \nL 87.545906 199.216555 \nL 87.738419 194.072773 \nL 87.866761 208.279177 \nL 87.995104 207.615517 \nL 88.251788 194.761341 \nL 88.315959 175.952174 \nL 88.38013 196.046231 \nL 88.444301 167.536957 \nL 88.765157 178.249862 \nL 88.893499 197.474449 \nL 89.086013 192.497638 \nL 89.214355 203.263525 \nL 89.278526 200.560549 \nL 89.342697 183.980255 \nL 89.535211 183.743837 \nL 89.663553 203.825863 \nL 89.727724 192.113248 \nL 89.984408 181.281712 \nL 90.176922 203.306798 \nL 90.433606 192.652999 \nL 90.497777 184.497842 \nL 90.561949 188.248023 \nL 90.690291 196.129822 \nL 90.882804 195.027733 \nL 91.011146 184.197253 \nL 91.075318 197.239298 \nL 91.139489 185.088676 \nL 91.396173 174.840375 \nL 91.524515 184.026695 \nL 91.588686 163.39943 \nL 91.7812 149.533089 \nL 91.845371 89.116032 \nL 91.909542 100.012793 \nL 91.973713 141.406007 \nL 92.037884 135.944116 \nL 92.35874 183.485888 \nL 92.487082 165.77121 \nL 92.679596 193.818413 \nL 92.743767 182.162158 \nL 92.807938 201.953516 \nL 92.872109 188.384808 \nL 92.93628 180.459737 \nL 93.192965 188.882975 \nL 93.321307 197.998369 \nL 93.577991 200.430519 \nL 93.770505 179.731696 \nL 93.834676 191.617825 \nL 94.09136 187.163456 \nL 94.219703 202.279224 \nL 94.283874 162.053536 \nL 94.476387 197.465795 \nL 94.540558 160.497609 \nL 94.604729 184.926561 \nL 94.6689 199.28938 \nL 94.733072 198.488514 \nL 94.925585 192.670097 \nL 95.118098 204.083389 \nL 95.182269 187.698774 \nL 95.374783 195.46574 \nL 95.438954 184.458158 \nL 95.503125 184.808774 \nL 95.567296 188.992529 \nL 95.631467 181.559925 \nL 95.952323 197.407746 \nL 96.016494 184.40433 \nL 96.273178 178.270548 \nL 96.33735 196.174572 \nL 96.401521 182.492721 \nL 96.465692 186.677743 \nL 96.529863 204.680978 \nL 96.722376 204.768157 \nL 96.786547 206.789743 \nL 96.979061 173.292048 \nL 97.171574 187.134959 \nL 97.299916 155.813577 \nL 97.364088 170.059453 \nL 97.428259 169.793272 \nL 97.620772 193.758253 \nL 97.749114 172.699737 \nL 97.877457 188.97902 \nL 98.06997 195.622367 \nL 98.326654 103.522124 \nL 98.711681 184.663124 \nL 98.775852 172.627333 \nL 98.968366 172.365585 \nL 99.032537 170.869607 \nL 99.160879 133.15755 \nL 99.22505 137.607275 \nL 99.417564 173.013624 \nL 99.481735 150.866951 \nL 99.545906 165.745035 \nL 99.610077 179.644517 \nL 99.674248 168.386585 \nL 99.930932 163.798597 \nL 100.059275 180.86397 \nL 100.123446 172.707125 \nL 100.38013 154.427998 \nL 100.572644 188.73057 \nL 100.765157 184.418262 \nL 100.829328 185.766689 \nL 100.95767 164.071322 \nL 101.021842 170.723113 \nL 101.214355 171.336111 \nL 101.278526 175.801246 \nL 101.342697 171.941721 \nL 101.406868 176.026265 \nL 101.471039 188.415205 \nL 101.663553 185.776188 \nL 101.727724 144.433425 \nL 101.791895 174.128377 \nL 101.856066 152.759984 \nL 101.920237 177.566782 \nL 102.176922 183.492854 \nL 102.305264 174.226955 \nL 102.369435 197.207001 \nL 102.561949 187.43998 \nL 102.62612 140.09262 \nL 102.690291 168.65551 \nL 102.754462 167.689151 \nL 102.818633 151.481216 \nL 103.011146 152.64072 \nL 103.139489 140.48862 \nL 103.267831 189.663154 \nL 103.460344 198.169772 \nL 103.652858 181.338917 \nL 103.717029 196.084649 \nL 103.973713 198.388247 \nL 104.037884 198.18307 \nL 104.102055 208.07991 \nL 104.166227 196.334365 \nL 104.35874 207.02215 \nL 104.487082 183.129572 \nL 104.551253 189.54769 \nL 104.615424 203.121464 \nL 104.807938 205.868557 \nL 104.872109 198.0123 \nL 104.93628 204.265347 \nL 105.000451 197.705801 \nL 105.064622 200.907999 \nL 105.257136 198.66055 \nL 105.321307 184.448025 \nL 105.385478 184.877589 \nL 105.449649 194.705403 \nL 105.51382 188.532147 \nL 105.706334 200.978925 \nL 105.770505 198.15204 \nL 105.834676 177.325931 \nL 105.898847 198.556062 \nL 105.963018 190.613048 \nL 106.219703 204.049615 \nL 106.283874 190.17863 \nL 106.348045 196.811001 \nL 106.412216 200.658283 \nL 106.604729 200.564982 \nL 106.733072 197.505057 \nL 106.797243 180.713464 \nL 106.861414 182.042261 \nL 107.118098 179.509421 \nL 107.182269 185.750436 \nL 107.246441 170.610392 \nL 107.310612 180.91062 \nL 107.503125 193.47434 \nL 107.567296 151.844286 \nL 107.631467 194.468774 \nL 107.695638 179.108566 \nL 107.759809 196.089715 \nL 107.952323 197.057762 \nL 108.080665 179.298756 \nL 108.144836 199.085892 \nL 108.209007 180.238517 \nL 108.401521 197.626855 \nL 108.529863 182.372824 \nL 108.594034 197.058185 \nL 108.658205 160.351748 \nL 108.91489 136.936861 \nL 109.107403 201.771348 \nL 109.428259 199.794301 \nL 109.49243 188.331614 \nL 109.556601 197.418933 \nL 109.749114 197.918155 \nL 109.813285 197.161195 \nL 109.941628 181.438339 \nL 110.005799 202.640184 \nL 110.198312 208.633171 \nL 110.326654 200.908211 \nL 110.390826 202.637862 \nL 110.454997 169.876863 \nL 110.64751 199.447274 \nL 110.711681 180.2953 \nL 110.775852 193.729545 \nL 110.840023 192.595583 \nL 110.904195 200.861771 \nL 111.096708 200.241174 \nL 111.160879 190.714159 \nL 111.353392 211.963288 \nL 111.610077 192.040211 \nL 111.80259 204.084656 \nL 111.995104 196.064173 \nL 112.251788 210.084186 \nL 112.444301 196.717489 \nL 112.508473 203.412553 \nL 112.572644 198.414 \nL 112.636815 205.597098 \nL 112.700986 200.704511 \nL 112.893499 200.803933 \nL 112.95767 210.548368 \nL 113.021842 209.827082 \nL 113.086013 213.051022 \nL 113.342697 211.041257 \nL 113.471039 217.575684 \nL 113.535211 218.001236 \nL 113.599382 215.286228 \nL 113.791895 196.316212 \nL 113.920237 210.611272 \nL 114.241093 196.058263 \nL 114.305264 196.393892 \nL 114.433606 207.500686 \nL 114.497777 206.591532 \nL 114.754462 88.069037 \nL 114.946975 173.001381 \nL 115.267831 191.661942 \nL 115.332002 208.386831 \nL 115.396173 185.240237 \nL 115.717029 210.352268 \nL 115.7812 200.186713 \nL 115.845371 205.611452 \nL 116.037884 193.309481 \nL 116.102055 201.148428 \nL 116.166227 193.481095 \nL 116.230398 159.872579 \nL 116.294569 202.163759 \nL 116.551253 208.451002 \nL 116.743767 168.353233 \nL 117.000451 164.093908 \nL 117.192965 201.225475 \nL 117.385478 199.48738 \nL 117.449649 195.48706 \nL 117.51382 184.446126 \nL 117.577991 192.120847 \nL 117.642162 195.703425 \nL 117.834676 188.703128 \nL 117.898847 203.012331 \nL 117.963018 195.70047 \nL 118.027189 191.611915 \nL 118.09136 194.360486 \nL 118.283874 197.008368 \nL 118.412216 142.27231 \nL 118.476387 180.161682 \nL 118.540558 173.090882 \nL 118.797243 205.303687 \nL 118.861414 201.754883 \nL 118.989756 196.031877 \nL 119.182269 206.552692 \nL 119.246441 203.269858 \nL 119.310612 205.041094 \nL 119.374783 209.216617 \nL 119.438954 198.312256 \nL 119.695638 193.48215 \nL 119.823981 201.720898 \nL 119.888152 201.41271 \nL 120.080665 199.798523 \nL 120.144836 197.786226 \nL 120.273178 207.122206 \nL 120.33735 195.677883 \nL 120.529863 183.895187 \nL 120.594034 198.258217 \nL 120.722376 173.04592 \nL 120.979061 209.780009 \nL 121.043232 204.332895 \nL 121.171574 202.662348 \nL 121.235745 154.007723 \nL 121.49243 206.251681 \nL 121.556601 200.529519 \nL 121.877457 214.438923 \nL 122.005799 204.543983 \nL 122.06997 205.59942 \nL 122.134141 205.289122 \nL 122.390826 195.773717 \nL 122.519168 210.185297 \nL 122.583339 204.395588 \nL 122.775852 200.955494 \nL 123.032537 214.525469 \nL 123.353392 188.057834 \nL 123.481735 206.259069 \nL 123.738419 189.934824 \nL 123.866761 209.135981 \nL 123.930932 197.159296 \nL 124.123446 205.036028 \nL 124.187617 204.651848 \nL 124.572644 181.577235 \nL 124.700986 200.429042 \nL 124.765157 187.675132 \nL 124.829328 196.718123 \nL 125.086013 207.687709 \nL 125.278526 197.056918 \nL 125.535211 203.107532 \nL 125.727724 192.96182 \nL 126.04858 200.349462 \nL 126.369435 186.703074 \nL 126.497777 158.908331 \nL 126.62612 190.919125 \nL 126.818633 185.409951 \nL 126.882804 193.945699 \nL 126.946975 180.16907 \nL 127.011146 185.091209 \nL 127.075318 182.184956 \nL 127.267831 183.673756 \nL 127.332002 181.660614 \nL 127.460344 164.180454 \nL 127.524515 139.062302 \nL 127.717029 143.642691 \nL 127.7812 148.260231 \nL 127.973713 189.995828 \nL 128.166227 195.154808 \nL 128.230398 192.274519 \nL 128.294569 196.548197 \nL 128.35874 165.686142 \nL 128.422911 171.381495 \nL 128.615424 189.517926 \nL 128.807938 164.185098 \nL 128.872109 181.514542 \nL 129.064622 199.321888 \nL 129.128793 198.367983 \nL 129.192965 190.47753 \nL 129.257136 203.961592 \nL 129.321307 196.78356 \nL 129.577991 191.449166 \nL 129.642162 203.445061 \nL 129.706334 198.500968 \nL 129.770505 187.294119 \nL 130.027189 196.66134 \nL 130.09136 189.562466 \nL 130.155531 198.375793 \nL 130.219703 177.214688 \nL 130.412216 167.764932 \nL 130.476387 171.391627 \nL 130.540558 184.190921 \nL 130.604729 156.86226 \nL 130.6689 188.691518 \nL 130.861414 168.593028 \nL 130.989756 197.484793 \nL 131.053927 180.790089 \nL 131.118098 188.588719 \nL 131.310612 179.432163 \nL 131.374783 136.869524 \nL 131.567296 189.507161 \nL 131.759809 196.514001 \nL 131.888152 182.961336 \nL 131.952323 197.745064 \nL 132.016494 186.649246 \nL 132.209007 178.154661 \nL 132.33735 146.641189 \nL 132.401521 188.465866 \nL 132.465692 183.03986 \nL 132.722376 197.425266 \nL 132.786547 195.474395 \nL 132.850719 192.582495 \nL 132.91489 205.535883 \nL 133.107403 200.812166 \nL 133.171574 189.783685 \nL 133.235745 205.196032 \nL 133.299916 196.599069 \nL 133.364088 207.089909 \nL 133.556601 209.498841 \nL 133.749114 173.728788 \nL 133.813285 180.586601 \nL 134.134141 203.548071 \nL 134.198312 193.69556 \nL 134.262483 201.834674 \nL 134.454997 196.101958 \nL 134.711681 210.668477 \nL 135.032537 199.271438 \nL 135.096708 200.685513 \nL 135.353392 202.944994 \nL 135.417564 208.494486 \nL 135.481735 206.900142 \nL 135.545906 201.501578 \nL 135.610077 207.484643 \nL 135.80259 207.177511 \nL 135.930932 199.199879 \nL 135.995104 210.559978 \nL 136.059275 198.099902 \nL 136.251788 212.118226 \nL 136.315959 204.452371 \nL 136.38013 210.051257 \nL 136.444301 214.61898 \nL 136.508473 209.564911 \nL 136.765157 209.89083 \nL 136.95767 216.330056 \nL 137.214355 207.090543 \nL 137.278526 210.271843 \nL 137.342697 209.423905 \nL 137.599382 200.169615 \nL 137.791895 213.847877 \nL 137.856066 212.835079 \nL 138.112751 211.562855 \nL 138.176922 209.00764 \nL 138.241093 210.142447 \nL 138.305264 198.665616 \nL 138.497777 206.800931 \nL 138.62612 157.628719 \nL 138.754462 207.279888 \nL 139.011146 200.346084 \nL 139.139489 215.792205 \nL 139.20366 208.2682 \nL 139.396173 211.071654 \nL 139.524515 199.12431 \nL 139.588686 163.21494 \nL 139.652858 182.281634 \nL 139.909542 195.165785 \nL 139.973713 116.330494 \nL 140.037884 158.666214 \nL 140.102055 189.480986 \nL 140.35874 184.219629 \nL 140.551253 198.58287 \nL 140.807938 184.612251 \nL 140.872109 158.103877 \nL 141.000451 197.328377 \nL 141.257136 168.791873 \nL 141.321307 169.675274 \nL 141.449649 198.292836 \nL 141.642162 199.170116 \nL 141.770505 122.910093 \nL 141.834676 142.445191 \nL 141.898847 167.64229 \nL 142.09136 161.931738 \nL 142.348045 197.420622 \nL 142.6689 180.46037 \nL 142.733072 184.020362 \nL 142.797243 174.762695 \nL 142.989756 184.765712 \nL 143.053927 166.958366 \nL 143.118098 186.678376 \nL 143.182269 181.528051 \nL 143.438954 184.827139 \nL 143.503125 162.799519 \nL 143.567296 177.357806 \nL 143.631467 183.560613 \nL 143.695638 165.067233 \nL 143.888152 150.657341 \nL 143.952323 152.561562 \nL 144.080665 166.946334 \nL 144.144836 152.150152 \nL 144.33735 157.009388 \nL 144.401521 148.74531 \nL 144.594034 199.212333 \nL 144.786547 191.717036 \nL 144.850719 183.81223 \nL 144.979061 200.431575 \nL 145.043232 189.919204 \nL 145.235745 195.186893 \nL 145.299916 192.38745 \nL 145.364088 193.634978 \nL 145.428259 204.75507 \nL 145.49243 199.753351 \nL 145.684943 203.290545 \nL 145.941628 174.668128 \nL 146.134141 182.29641 \nL 146.198312 177.489313 \nL 146.390826 205.108853 \nL 146.64751 201.188535 \nL 146.711681 189.961632 \nL 146.775852 192.807937 \nL 146.840023 190.598061 \nL 147.032537 187.883475 \nL 147.096708 200.607622 \nL 147.160879 199.609389 \nL 147.289221 203.675779 \nL 147.481735 185.299975 \nL 147.610077 207.741959 \nL 147.674248 203.822274 \nL 147.738419 204.600132 \nL 147.930932 196.672528 \nL 148.123446 205.27139 \nL 148.187617 208.428627 \nL 148.38013 206.927583 \nL 148.508473 214.570852 \nL 148.636815 198.098213 \nL 148.829328 199.712188 \nL 148.893499 211.652145 \nL 149.021842 193.357609 \nL 149.086013 198.291991 \nL 149.278526 201.271703 \nL 149.342697 191.278819 \nL 149.406868 194.493049 \nL 149.471039 197.605112 \nL 149.535211 206.396487 \nL 149.791895 207.738582 \nL 149.856066 210.823837 \nL 149.920237 196.940187 \nL 149.984408 199.909766 \nL 150.241093 187.270055 \nL 150.305264 163.73527 \nL 150.433606 199.422365 \nL 150.62612 201.291546 \nL 150.690291 195.020345 \nL 150.818633 204.833595 \nL 150.882804 203.871458 \nL 151.139489 207.978166 \nL 151.332002 215.178362 \nL 151.588686 204.229673 \nL 151.717029 210.685575 \nL 151.7812 196.495425 \nL 151.973713 183.632383 \nL 152.037884 168.604849 \nL 152.166227 198.201646 \nL 152.230398 196.904091 \nL 152.422911 197.683004 \nL 152.551253 214.585206 \nL 152.679596 204.368991 \nL 152.93628 202.139695 \nL 153.000451 204.515697 \nL 153.064622 200.382814 \nL 153.128793 205.021463 \nL 153.385478 191.879996 \nL 153.449649 176.180359 \nL 153.51382 184.765079 \nL 153.577991 184.605708 \nL 153.898847 205.231917 \nL 153.963018 204.501132 \nL 154.027189 186.783287 \nL 154.219703 181.643516 \nL 154.283874 190.763765 \nL 154.348045 186.412828 \nL 154.412216 185.086987 \nL 154.476387 189.533336 \nL 154.6689 188.89374 \nL 154.733072 182.531139 \nL 154.861414 201.926075 \nL 154.925585 185.09332 \nL 155.118098 181.777135 \nL 155.182269 166.653978 \nL 155.246441 191.399561 \nL 155.310612 188.706295 \nL 155.374783 195.194704 \nL 155.567296 197.26885 \nL 155.631467 188.428081 \nL 155.695638 200.545562 \nL 155.759809 193.942532 \nL 155.823981 173.779027 \nL 156.016494 188.657322 \nL 156.080665 176.563905 \nL 156.144836 187.76801 \nL 156.209007 180.395144 \nL 156.273178 153.096458 \nL 156.658205 202.636806 \nL 156.722376 184.688665 \nL 156.91489 189.983796 \nL 156.979061 201.610077 \nL 157.107403 150.253319 \nL 157.171574 159.76978 \nL 157.49243 193.90137 \nL 157.620772 134.365393 \nL 158.06997 209.30654 \nL 158.262483 182.336094 \nL 158.390826 190.607349 \nL 158.454997 191.072164 \nL 158.519168 200.373526 \nL 158.711681 202.411998 \nL 158.904195 141.126316 \nL 158.968366 170.540733 \nL 159.289221 193.149476 \nL 159.353392 182.737161 \nL 159.417564 153.763917 \nL 159.738419 195.997259 \nL 159.80259 193.560675 \nL 159.866761 184.922761 \nL 160.059275 216.624734 \nL 160.508473 180.156404 \nL 160.636815 187.617927 \nL 160.700986 203.265003 \nL 160.765157 185.068623 \nL 161.086013 199.145841 \nL 161.150184 184.555047 \nL 161.214355 203.450338 \nL 161.471039 163.77601 \nL 161.599382 195.672395 \nL 161.663553 194.22159 \nL 161.920237 195.079239 \nL 162.04858 119.743147 \nL 162.112751 138.803297 \nL 162.497777 205.800376 \nL 162.561949 189.203617 \nL 162.754462 193.905381 \nL 162.946975 176.757261 \nL 163.20366 190.86171 \nL 163.267831 183.958935 \nL 163.396173 203.090856 \nL 163.460344 200.34144 \nL 163.717029 197.021455 \nL 163.7812 193.966807 \nL 163.845371 196.162118 \nL 163.909542 204.946949 \nL 164.102055 201.786335 \nL 164.230398 185.595075 \nL 164.294569 205.56058 \nL 164.35874 188.226281 \nL 164.551253 185.94147 \nL 164.615424 181.743994 \nL 164.807938 200.361283 \nL 165.000451 194.12259 \nL 165.064622 194.750153 \nL 165.192965 206.96579 \nL 165.257136 181.327307 \nL 165.449649 184.174245 \nL 165.51382 190.161743 \nL 165.577991 206.605041 \nL 165.642162 200.981458 \nL 165.706334 200.088135 \nL 165.898847 192.094672 \nL 165.963018 207.688132 \nL 166.027189 204.903042 \nL 166.09136 196.489515 \nL 166.348045 200.493212 \nL 166.412216 189.954877 \nL 166.540558 202.851694 \nL 166.604729 200.948317 \nL 166.797243 207.195453 \nL 166.861414 206.759346 \nL 166.925585 201.533874 \nL 166.989756 205.119618 \nL 167.053927 211.885819 \nL 167.246441 205.93716 \nL 167.310612 206.822884 \nL 167.374783 158.628218 \nL 167.438954 179.64325 \nL 167.695638 197.463473 \nL 167.823981 156.774025 \nL 167.888152 200.862193 \nL 167.952323 172.270384 \nL 168.144836 181.601299 \nL 168.209007 177.740507 \nL 168.401521 202.636595 \nL 168.594034 192.433467 \nL 168.658205 193.405103 \nL 168.722376 194.246076 \nL 168.850719 204.630528 \nL 169.043232 205.980222 \nL 169.171574 173.965417 \nL 169.235745 184.399897 \nL 169.299916 197.615456 \nL 169.556601 195.495715 \nL 169.620772 196.474528 \nL 169.749114 209.054712 \nL 170.005799 200.763616 \nL 170.06997 204.952859 \nL 170.134141 203.223208 \nL 170.198312 200.902511 \nL 170.390826 201.803433 \nL 170.519168 207.9674 \nL 170.583339 198.442497 \nL 170.64751 199.377192 \nL 170.840023 195.938154 \nL 170.968366 209.879431 \nL 171.032537 208.326038 \nL 171.096708 209.378943 \nL 171.289221 210.317649 \nL 171.353392 215.171819 \nL 171.545906 193.603737 \nL 171.738419 193.631811 \nL 171.80259 206.190254 \nL 171.866761 202.152361 \nL 171.930932 204.450049 \nL 171.995104 186.261056 \nL 172.187617 200.393579 \nL 172.251788 194.452098 \nL 172.315959 211.711249 \nL 172.700986 203.293711 \nL 172.765157 208.659768 \nL 172.829328 205.275823 \nL 172.893499 208.798663 \nL 173.214355 214.872919 \nL 173.278526 213.373564 \nL 173.342697 209.615994 \nL 173.535211 214.209048 \nL 173.663553 185.249314 \nL 173.791895 214.785317 \nL 173.984408 211.17382 \nL 174.112751 205.527228 \nL 174.176922 214.325569 \nL 174.241093 209.15899 \nL 174.497777 204.630106 \nL 174.62612 210.591852 \nL 174.690291 209.755945 \nL 174.882804 202.400388 \nL 174.946975 163.386343 \nL 175.011146 172.852775 \nL 175.139489 202.560815 \nL 175.332002 191.387318 \nL 175.524515 211.464066 \nL 175.588686 213.083107 \nL 175.845371 197.895569 \nL 175.973713 211.807083 \nL 176.037884 209.346435 \nL 176.35874 203.863014 \nL 176.422911 212.055111 \nL 176.487082 202.770425 \nL 176.679596 204.190622 \nL 176.807938 162.123195 \nL 176.93628 207.345748 \nL 177.128793 188.885297 \nL 177.192965 199.765805 \nL 177.257136 195.432388 \nL 177.321307 199.37677 \nL 177.385478 177.155161 \nL 177.577991 172.420468 \nL 177.770505 211.990729 \nL 177.834676 212.682885 \nL 178.027189 210.261711 \nL 178.09136 203.195766 \nL 178.155531 208.073366 \nL 178.219703 205.542638 \nL 178.283874 210.358811 \nL 178.476387 206.331261 \nL 178.6689 208.871066 \nL 178.733072 209.690086 \nL 178.925585 210.130415 \nL 178.989756 205.744649 \nL 179.053927 210.944368 \nL 179.118098 210.7565 \nL 179.374783 199.86185 \nL 179.438954 189.612282 \nL 179.503125 206.223395 \nL 179.567296 200.867682 \nL 179.631467 204.408886 \nL 179.888152 181.941994 \nL 180.080665 209.150968 \nL 180.273178 211.432403 \nL 180.33735 209.880487 \nL 180.401521 213.034557 \nL 180.529863 208.817239 \nL 180.850719 215.006326 \nL 180.979061 205.906975 \nL 181.299916 215.255409 \nL 181.364088 210.120705 \nL 181.428259 213.008171 \nL 181.620772 212.587052 \nL 181.684943 199.614877 \nL 181.749114 202.474691 \nL 181.877457 205.891354 \nL 182.06997 194.250087 \nL 182.134141 195.876728 \nL 182.198312 201.392023 \nL 182.262483 196.132144 \nL 182.326654 203.914308 \nL 182.519168 205.712985 \nL 182.583339 208.896186 \nL 182.64751 202.75586 \nL 182.711681 210.100862 \nL 182.775852 204.783567 \nL 182.968366 208.570266 \nL 183.032537 212.542512 \nL 183.096708 187.214961 \nL 183.160879 205.726917 \nL 183.22505 196.973961 \nL 183.417564 192.081796 \nL 183.481735 217.242799 \nL 183.866761 210.753756 \nL 183.930932 213.05651 \nL 184.059275 212.181975 \nL 184.123446 200.28698 \nL 184.315959 198.768416 \nL 184.444301 210.384353 \nL 184.508473 208.829904 \nL 184.765157 201.340518 \nL 184.829328 204.803198 \nL 184.893499 200.349462 \nL 184.95767 212.589585 \nL 185.021842 197.703268 \nL 185.278526 205.107375 \nL 185.663553 188.043057 \nL 185.727724 149.546387 \nL 185.791895 191.968442 \nL 185.856066 178.723331 \nL 185.920237 194.834166 \nL 186.241093 205.121096 \nL 186.305264 210.44198 \nL 186.369435 201.959638 \nL 186.561949 203.82333 \nL 186.62612 208.595597 \nL 186.690291 206.647259 \nL 186.754462 206.700242 \nL 186.818633 209.299152 \nL 187.075318 210.254534 \nL 187.139489 206.220018 \nL 187.20366 206.81634 \nL 187.267831 208.857346 \nL 187.460344 208.094053 \nL 187.524515 212.387996 \nL 187.717029 201.832352 \nL 188.037884 214.792072 \nL 188.102055 215.890783 \nL 188.166227 213.234035 \nL 188.35874 216.411325 \nL 188.422911 208.824205 \nL 188.487082 214.847588 \nL 188.551253 210.443669 \nL 188.807938 214.831123 \nL 188.93628 212.930491 \nL 189.000451 214.163664 \nL 189.064622 201.675725 \nL 189.257136 203.05877 \nL 189.449649 213.135879 \nL 189.706334 217.158786 \nL 189.770505 214.739511 \nL 189.834676 216.272851 \nL 189.898847 217.635633 \nL 189.963018 209.123738 \nL 190.155531 208.023128 \nL 190.283874 214.33169 \nL 190.412216 209.390131 \nL 190.604729 214.369053 \nL 190.6689 209.784231 \nL 190.733072 213.683651 \nL 190.797243 208.43897 \nL 191.053927 216.112425 \nL 191.118098 214.603571 \nL 191.246441 172.58596 \nL 191.310612 200.452261 \nL 191.503125 179.403033 \nL 191.695638 211.476098 \nL 191.759809 215.436522 \nL 191.952323 208.232949 \nL 192.016494 201.636674 \nL 192.144836 212.512749 \nL 192.209007 207.891409 \nL 192.465692 217.832155 \nL 192.529863 217.329556 \nL 192.658205 209.047958 \nL 192.850719 205.919429 \nL 192.979061 215.033556 \nL 193.043232 214.739511 \nL 193.364088 203.574035 \nL 193.428259 206.090832 \nL 193.49243 201.492712 \nL 193.556601 187.353857 \nL 193.813285 207.807607 \nL 193.877457 204.583034 \nL 193.941628 206.971067 \nL 194.005799 203.493189 \nL 194.198312 207.132821 \nL 194.326654 216.099217 \nL 194.390826 213.364728 \nL 194.454997 213.432276 \nL 194.711681 220.910505 \nL 194.775852 219.76822 \nL 194.840023 219.160891 \nL 194.904195 199.448329 \nL 195.22505 218.756507 \nL 195.289221 220.035095 \nL 195.353392 210.56631 \nL 195.610077 218.348204 \nL 195.738419 222.971383 \nL 196.059275 210.206557 \nL 196.123446 218.88708 \nL 196.187617 217.907031 \nL 196.251788 219.616237 \nL 196.572644 213.77264 \nL 196.636815 212.596068 \nL 196.893499 218.090074 \nL 197.021842 201.854727 \nL 197.150184 216.766253 \nL 197.342697 213.193144 \nL 197.471039 219.920203 \nL 197.535211 212.733275 \nL 197.599382 215.24582 \nL 197.791895 217.825008 \nL 197.856066 213.007689 \nL 197.920237 218.247183 \nL 197.984408 215.788616 \nL 198.04858 217.249945 \nL 198.369435 220.250103 \nL 198.433606 221.396006 \nL 198.497777 215.113136 \nL 198.690291 215.528979 \nL 198.754462 208.946967 \nL 198.882804 219.779076 \nL 198.946975 216.550643 \nL 199.139489 217.730923 \nL 199.20366 219.877382 \nL 199.332002 209.230126 \nL 199.396173 216.426704 \nL 199.652858 213.722069 \nL 199.717029 192.053329 \nL 199.7812 204.025913 \nL 199.845371 212.246567 \nL 200.037884 215.895457 \nL 200.102055 172.625645 \nL 200.166227 199.456893 \nL 200.230398 211.071684 \nL 200.294569 210.98936 \nL 200.487082 211.384275 \nL 200.551253 209.698107 \nL 200.615424 211.501881 \nL 200.679596 218.626719 \nL 200.743767 208.493612 \nL 200.93628 213.955954 \nL 201.128793 199.691381 \nL 201.192965 211.066437 \nL 201.385478 214.86728 \nL 201.449649 213.209398 \nL 201.51382 214.3471 \nL 201.834676 218.701564 \nL 201.898847 217.180829 \nL 202.027189 206.541323 \nL 202.09136 209.871953 \nL 202.283874 213.716219 \nL 202.348045 210.668959 \nL 202.412216 199.437594 \nL 202.540558 209.314652 \nL 202.733072 206.498864 \nL 202.797243 201.340307 \nL 202.989756 215.685214 \nL 203.182269 219.565063 \nL 203.310612 213.98626 \nL 203.374783 217.614886 \nL 203.438954 216.413345 \nL 203.631467 214.10848 \nL 203.823981 219.32961 \nL 203.888152 219.714694 \nL 204.080665 221.673587 \nL 204.144836 221.599163 \nL 204.273178 211.925141 \nL 204.33735 216.58695 \nL 204.529863 215.777851 \nL 204.658205 217.248679 \nL 204.722376 216.788418 \nL 204.786547 212.631862 \nL 204.979061 215.565527 \nL 205.043232 209.115415 \nL 205.235745 222.391616 \nL 205.428259 204.600071 \nL 205.620772 217.195817 \nL 205.684943 218.319285 \nL 205.941628 211.718547 \nL 206.06997 217.389655 \nL 206.134141 212.979011 \nL 206.326654 209.604626 \nL 206.454997 213.767966 \nL 206.519168 212.080954 \nL 206.583339 203.20816 \nL 206.904195 225.508113 \nL 207.032537 219.705798 \nL 207.22505 221.55194 \nL 207.289221 220.863614 \nL 207.481735 213.830448 \nL 207.738419 210.033133 \nL 207.80259 217.780408 \nL 207.866761 211.972907 \nL 207.930932 213.681209 \nL 208.123446 214.902109 \nL 208.187617 209.642682 \nL 208.251788 215.111448 \nL 208.315959 211.777048 \nL 208.38013 206.198517 \nL 208.700986 215.226249 \nL 208.765157 213.651988 \nL 208.829328 215.862859 \nL 209.021842 213.103583 \nL 209.150184 185.703785 \nL 209.278526 204.620728 \nL 209.535211 214.21912 \nL 209.599382 208.720591 \nL 209.663553 217.134993 \nL 209.727724 216.694604 \nL 209.920237 218.147128 \nL 210.112751 207.416432 \nL 210.176922 213.508509 \nL 210.433606 210.830652 \nL 210.561949 218.607721 \nL 210.818633 208.47199 \nL 210.882804 208.998503 \nL 210.946975 207.344903 \nL 211.011146 202.34641 \nL 211.075318 211.1737 \nL 211.396173 220.325401 \nL 211.524515 207.908688 \nL 211.717029 203.178397 \nL 211.909542 215.29054 \nL 211.973713 214.245778 \nL 212.166227 219.056463 \nL 212.294569 210.191811 \nL 212.35874 216.060467 \nL 212.422911 209.159231 \nL 212.679596 219.970773 \nL 212.743767 214.297675 \nL 212.807938 215.528707 \nL 212.872109 217.949188 \nL 213.064622 215.671403 \nL 213.257136 220.1584 \nL 213.51382 218.658502 \nL 213.577991 219.316402 \nL 213.642162 218.617732 \nL 213.706334 220.07882 \nL 213.770505 217.755651 \nL 213.963018 218.90846 \nL 214.027189 222.177453 \nL 214.09136 221.138359 \nL 214.155531 221.319713 \nL 214.219703 214.206666 \nL 214.412216 215.685093 \nL 214.476387 220.093566 \nL 214.540558 218.519637 \nL 214.604729 216.072107 \nL 214.6689 216.447541 \nL 214.925585 194.012523 \nL 214.989756 210.760179 \nL 215.053927 204.786613 \nL 215.118098 212.229801 \nL 215.374783 215.016518 \nL 215.438954 208.120107 \nL 215.503125 216.62395 \nL 215.567296 213.123063 \nL 215.759809 217.19844 \nL 215.823981 215.351665 \nL 215.888152 219.412326 \nL 215.952323 216.243209 \nL 216.016494 218.352727 \nL 216.209007 214.530565 \nL 216.33735 218.881381 \nL 216.401521 217.893642 \nL 216.722376 208.55537 \nL 216.850719 220.60675 \nL 216.91489 214.530082 \nL 217.107403 220.190757 \nL 217.171574 219.721901 \nL 217.235745 220.531301 \nL 217.299916 218.279721 \nL 217.364088 219.131097 \nL 217.620772 212.964747 \nL 217.749114 219.202234 \nL 217.813285 218.751321 \nL 218.005799 216.609476 \nL 218.06997 220.377328 \nL 218.134141 219.947916 \nL 218.198312 219.197319 \nL 218.262483 213.374408 \nL 218.519168 220.746792 \nL 218.583339 213.204332 \nL 218.64751 220.243438 \nL 218.711681 216.585985 \nL 218.904195 215.049689 \nL 218.968366 216.494342 \nL 219.096708 221.668913 \nL 219.353392 221.412773 \nL 219.545906 206.17388 \nL 219.610077 211.372816 \nL 219.866761 220.294702 \nL 219.930932 219.72745 \nL 219.995104 218.951492 \nL 220.315959 206.728317 \nL 220.38013 195.059939 \nL 220.508473 217.160294 \nL 220.700986 216.468771 \nL 220.765157 219.736828 \nL 220.829328 218.713476 \nL 220.893499 219.733752 \nL 221.150184 208.772971 \nL 221.214355 192.440041 \nL 221.278526 199.926412 \nL 221.406868 218.213289 \nL 221.599382 213.303633 \nL 221.727724 199.351983 \nL 221.856066 216.928942 \nL 222.04858 217.545558 \nL 222.112751 219.452584 \nL 222.241093 209.217582 \nL 222.305264 191.192544 \nL 222.497777 180.960588 \nL 222.690291 204.358195 \nL 222.754462 213.84257 \nL 222.946975 212.918338 \nL 223.011146 206.701327 \nL 223.075318 211.211696 \nL 223.20366 214.797922 \nL 223.460344 213.336201 \nL 223.524515 204.239172 \nL 223.652858 214.822288 \nL 223.845371 212.274793 \nL 223.973713 218.664684 \nL 224.102055 207.473486 \nL 224.422911 219.091926 \nL 224.551253 212.941679 \nL 224.743767 214.16083 \nL 224.807938 207.750885 \nL 224.872109 209.829313 \nL 225.321307 215.772152 \nL 225.385478 211.184314 \nL 225.449649 213.962679 \nL 225.642162 220.686994 \nL 225.706334 219.908352 \nL 225.770505 216.46669 \nL 225.834676 218.513908 \nL 225.898847 218.043755 \nL 226.09136 220.900494 \nL 226.155531 215.10807 \nL 226.219703 217.270994 \nL 226.283874 217.313543 \nL 226.348045 211.972184 \nL 226.604729 208.800593 \nL 226.6689 204.076152 \nL 226.797243 214.988203 \nL 226.989756 220.163466 \nL 227.053927 216.148068 \nL 227.118098 216.338922 \nL 227.246441 219.910463 \nL 227.438954 219.660445 \nL 227.503125 212.044255 \nL 227.567296 216.238836 \nL 227.631467 220.066276 \nL 227.695638 216.059593 \nL 227.888152 218.383274 \nL 227.952323 221.546512 \nL 228.016494 215.799563 \nL 228.080665 216.818482 \nL 228.144836 219.535089 \nL 228.33735 220.079272 \nL 228.401521 216.967028 \nL 228.594034 225.940299 \nL 228.786547 218.059526 \nL 228.850719 219.364621 \nL 228.91489 219.806638 \nL 229.043232 212.451624 \nL 229.235745 220.199381 \nL 229.299916 219.528334 \nL 229.364088 215.89404 \nL 229.428259 221.065293 \nL 229.49243 215.735784 \nL 229.684943 210.47895 \nL 229.877457 216.373088 \nL 229.941628 200.788644 \nL 230.326654 225.782285 \nL 230.64751 220.547073 \nL 230.711681 222.271175 \nL 230.775852 217.537236 \nL 231.032537 209.474566 \nL 231.096708 213.050509 \nL 231.22505 205.420177 \nL 231.481735 214.875391 \nL 231.545906 215.051861 \nL 231.738419 205.800285 \nL 231.995104 213.865699 \nL 232.059275 208.061787 \nL 232.123446 214.144998 \nL 232.187617 210.032108 \nL 232.38013 214.255668 \nL 232.508473 189.656369 \nL 232.572644 213.084344 \nL 232.636815 210.449458 \nL 232.893499 218.609289 \nL 233.021842 215.860778 \nL 233.086013 215.876942 \nL 233.278526 213.584139 \nL 233.406868 217.105622 \nL 233.471039 214.77428 \nL 233.535211 217.706377 \nL 233.791895 215.0809 \nL 233.984408 219.20727 \nL 234.176922 219.536989 \nL 234.241093 220.242081 \nL 234.305264 218.94145 \nL 234.369435 221.556825 \nL 234.433606 221.132117 \nL 234.62612 219.254885 \nL 234.690291 214.674044 \nL 234.754462 219.872075 \nL 234.818633 218.730363 \nL 234.882804 215.986405 \nL 235.20366 221.671717 \nL 235.267831 219.768341 \nL 235.332002 221.609446 \nL 235.524515 222.312699 \nL 235.588686 217.791928 \nL 235.652858 218.323929 \nL 235.717029 219.494801 \nL 235.7812 216.54425 \nL 236.422911 224.02091 \nL 236.551253 216.123311 \nL 236.679596 222.07209 \nL 236.872109 218.60959 \nL 237.000451 221.912236 \nL 237.064622 220.28451 \nL 237.128793 222.763341 \nL 237.321307 221.00655 \nL 237.385478 221.662489 \nL 237.449649 219.845629 \nL 237.51382 222.192741 \nL 237.577991 215.719862 \nL 237.770505 211.533544 \nL 237.898847 220.64363 \nL 238.027189 219.717227 \nL 238.219703 221.421458 \nL 238.348045 195.315808 \nL 238.412216 205.073903 \nL 238.6689 215.351635 \nL 238.733072 212.736803 \nL 238.861414 219.051578 \nL 238.925585 216.696625 \nL 239.246441 221.214139 \nL 239.310612 206.861513 \nL 239.374783 216.487678 \nL 239.567296 211.401373 \nL 239.759809 220.694563 \nL 240.016494 218.409841 \nL 240.080665 219.277833 \nL 240.144836 218.364548 \nL 240.209007 212.88761 \nL 240.273178 218.915667 \nL 240.529863 217.116598 \nL 240.594034 221.077174 \nL 240.658205 217.754565 \nL 240.722376 221.278732 \nL 241.043232 223.587668 \nL 241.171574 220.311348 \nL 241.364088 218.409268 \nL 241.49243 220.995181 \nL 241.556601 220.427778 \nL 241.620772 211.477244 \nL 241.941628 221.063363 \nL 242.005799 220.152339 \nL 242.06997 207.164062 \nL 242.390826 218.858433 \nL 242.454997 219.067892 \nL 242.519168 222.026103 \nL 242.775852 221.519885 \nL 242.840023 220.541675 \nL 242.904195 222.293551 \nL 242.968366 221.15594 \nL 243.160879 222.69905 \nL 243.22505 222.586691 \nL 243.289221 222.066601 \nL 243.353392 218.138322 \nL 243.417564 220.786567 \nL 243.610077 218.86962 \nL 243.674248 222.703573 \nL 243.738419 221.950865 \nL 243.80259 220.013081 \nL 243.866761 221.336389 \nL 244.059275 217.696878 \nL 244.187617 202.027578 \nL 244.315959 221.51129 \nL 244.508473 218.364819 \nL 244.700986 221.609295 \nL 244.765157 217.645463 \nL 245.086013 222.634638 \nL 245.150184 221.586438 \nL 245.214355 224.247377 \nL 245.406868 222.073839 \nL 245.471039 219.683664 \nL 245.599382 223.244922 \nL 245.663553 222.224646 \nL 245.856066 222.088313 \nL 245.920237 223.464152 \nL 245.984408 222.735176 \nL 246.112751 221.50146 \nL 246.369435 222.376689 \nL 246.433606 220.929684 \nL 246.497777 221.822554 \nL 246.818633 221.768606 \nL 246.946975 213.891542 \nL 247.011146 215.835056 \nL 247.20366 216.21628 \nL 247.267831 211.125029 \nL 247.332002 196.435597 \nL 247.396173 202.739606 \nL 247.845371 220.504011 \nL 247.909542 214.048592 \nL 248.166227 222.454038 \nL 248.35874 218.904239 \nL 248.551253 223.330232 \nL 248.615424 220.907248 \nL 248.679596 223.405228 \nL 248.743767 221.195986 \nL 248.807938 222.529124 \nL 249.000451 218.947391 \nL 249.064622 210.562692 \nL 249.192965 219.262092 \nL 249.257136 219.123438 \nL 249.577991 223.832982 \nL 249.642162 222.599266 \nL 249.706334 222.880646 \nL 249.898847 222.776308 \nL 250.027189 209.93148 \nL 250.09136 219.452192 \nL 250.155531 218.457155 \nL 250.348045 221.907622 \nL 250.412216 216.658659 \nL 250.540558 221.752865 \nL 250.604729 220.575479 \nL 250.797243 220.055902 \nL 250.861414 222.560546 \nL 250.925585 212.02963 \nL 250.989756 212.645372 \nL 251.053927 219.578271 \nL 251.246441 214.44233 \nL 251.310612 220.145011 \nL 251.374783 212.130921 \nL 251.438954 221.541958 \nL 251.503125 221.30165 \nL 251.695638 221.049642 \nL 251.952323 226.413889 \nL 252.33735 218.690799 \nL 252.401521 221.874874 \nL 252.594034 219.523811 \nL 252.658205 221.97514 \nL 252.722376 220.828271 \nL 252.786547 221.711944 \nL 252.850719 219.500259 \nL 253.043232 221.921192 \nL 253.107403 216.686402 \nL 253.171574 219.612075 \nL 253.235745 215.844856 \nL 253.299916 216.500253 \nL 253.556601 223.413702 \nL 253.620772 222.702578 \nL 253.684943 222.008191 \nL 253.749114 225.5775 \nL 254.06997 223.570238 \nL 254.134141 225.339273 \nL 254.198312 220.651079 \nL 254.454997 221.195202 \nL 254.519168 223.506249 \nL 254.583339 223.181928 \nL 254.64751 220.299588 \nL 254.840023 219.753775 \nL 254.904195 222.497853 \nL 254.968366 221.555046 \nL 255.096708 222.00035 \nL 255.353392 219.489042 \nL 255.417564 222.723747 \nL 255.481735 222.15553 \nL 255.545906 220.044473 \nL 255.738419 223.225171 \nL 255.80259 222.875127 \nL 255.866761 220.110905 \nL 255.930932 221.932289 \nL 255.995104 223.673671 \nL 256.187617 220.714043 \nL 256.251788 215.037748 \nL 256.315959 196.105004 \nL 256.444301 222.484223 \nL 256.636815 221.77901 \nL 256.700986 218.360025 \nL 256.765157 222.937519 \nL 256.829328 221.325473 \nL 256.893499 223.823664 \nL 257.086013 222.92808 \nL 257.214355 219.132213 \nL 257.342697 223.180541 \nL 257.599382 222.484253 \nL 257.727724 223.605731 \nL 257.791895 223.307676 \nL 257.984408 223.765796 \nL 258.04858 222.793135 \nL 258.112751 218.893533 \nL 258.241093 223.509264 \nL 258.433606 223.315697 \nL 258.497777 224.613493 \nL 258.561949 224.233264 \nL 258.62612 223.193296 \nL 258.690291 223.960177 \nL 258.882804 224.620912 \nL 258.946975 225.257974 \nL 259.139489 216.640807 \nL 259.332002 223.37842 \nL 259.396173 217.954103 \nL 259.524515 223.738988 \nL 259.588686 223.121014 \nL 259.7812 222.765331 \nL 259.845371 219.810196 \nL 259.909542 221.072138 \nL 260.037884 223.945431 \nL 260.294569 223.876165 \nL 260.35874 221.516055 \nL 260.487082 224.846926 \nL 260.679596 224.165053 \nL 260.743767 220.71347 \nL 260.872109 224.499928 \nL 261.128793 224.874096 \nL 261.192965 225.442404 \nL 261.321307 222.842378 \nL 261.385478 224.651308 \nL 261.577991 224.707578 \nL 261.706334 223.830992 \nL 261.770505 225.578465 \nL 262.155531 216.094392 \nL 262.219703 222.826607 \nL 262.283874 221.633721 \nL 262.476387 215.173025 \nL 262.604729 222.092686 \nL 262.6689 221.655614 \nL 262.733072 220.065853 \nL 262.925585 222.031169 \nL 262.989756 223.828791 \nL 263.053927 214.565304 \nL 263.118098 219.751876 \nL 263.182269 221.744361 \nL 263.503125 224.091293 \nL 263.567296 224.073923 \nL 263.631467 223.262141 \nL 263.888152 223.805149 \nL 263.952323 222.50114 \nL 264.016494 224.927773 \nL 264.080665 221.500133 \nL 264.273178 222.235622 \nL 264.33735 221.845653 \nL 264.401521 223.520874 \nL 264.465692 223.466233 \nL 264.529863 210.308874 \nL 264.722376 208.069959 \nL 264.850719 220.36614 \nL 264.91489 220.174895 \nL 264.979061 214.687915 \nL 265.364088 224.112914 \nL 265.428259 219.187609 \nL 265.749114 223.215461 \nL 265.813285 220.37573 \nL 265.877457 222.931488 \nL 266.06997 225.568966 \nL 266.262483 222.598361 \nL 266.326654 224.084146 \nL 266.519168 223.514541 \nL 266.583339 223.909215 \nL 266.711681 222.275518 \nL 266.775852 223.803581 \nL 266.968366 222.699472 \nL 267.032537 224.486087 \nL 267.096708 223.565082 \nL 267.160879 224.674588 \nL 267.22505 221.957922 \nL 267.545906 225.115671 \nL 267.610077 220.081142 \nL 267.674248 224.683635 \nL 267.866761 223.889885 \nL 267.995104 208.784792 \nL 268.123446 223.674576 \nL 268.315959 223.27942 \nL 268.508473 217.569803 \nL 268.572644 221.956565 \nL 268.765157 223.203308 \nL 268.829328 220.98906 \nL 268.893499 221.530017 \nL 268.95767 221.448899 \nL 269.214355 221.922971 \nL 269.342697 224.024619 \nL 269.406868 223.898027 \nL 269.471039 222.190872 \nL 269.663553 222.044347 \nL 269.727724 220.97356 \nL 269.791895 221.651242 \nL 269.856066 221.797344 \nL 269.920237 224.871382 \nL 270.176922 220.988155 \nL 270.241093 223.34534 \nL 270.305264 223.26187 \nL 270.369435 221.246587 \nL 270.561949 220.351183 \nL 270.62612 208.248871 \nL 270.690291 216.332499 \nL 270.754462 222.709363 \nL 270.818633 215.063802 \nL 271.075318 223.598977 \nL 271.139489 213.906801 \nL 271.20366 218.562699 \nL 271.267831 215.808398 \nL 271.460344 216.489337 \nL 271.652858 223.23865 \nL 271.717029 221.943688 \nL 271.973713 224.980183 \nL 272.102055 223.456281 \nL 272.166227 224.625164 \nL 272.422911 225.165126 \nL 272.487082 224.776543 \nL 272.551253 225.011906 \nL 272.615424 224.930758 \nL 272.807938 222.600563 \nL 272.93628 224.936789 \nL 273.000451 217.033068 \nL 273.064622 222.645012 \nL 273.257136 223.245043 \nL 273.321307 224.51974 \nL 273.385478 223.47941 \nL 273.449649 224.747926 \nL 273.51382 216.469163 \nL 273.706334 216.3948 \nL 273.834676 219.730888 \nL 273.963018 211.962624 \nL 274.219703 222.52819 \nL 274.283874 222.513715 \nL 274.348045 220.983903 \nL 274.604729 224.753475 \nL 274.733072 221.081757 \nL 274.861414 223.270615 \nL 275.053927 224.970503 \nL 275.182269 222.158063 \nL 275.310612 225.644686 \nL 275.567296 221.904788 \nL 275.631467 217.309834 \nL 275.695638 217.35181 \nL 275.952323 220.061209 \nL 276.144836 222.132612 \nL 276.209007 222.831643 \nL 276.401521 219.237546 \nL 276.465692 224.021574 \nL 276.529863 222.691963 \nL 276.594034 223.699726 \nL 276.658205 217.76129 \nL 277.107403 224.944268 \nL 277.364088 219.86728 \nL 277.49243 224.904824 \nL 277.556601 222.034124 \nL 277.813285 222.168014 \nL 277.877457 220.973258 \nL 277.941628 223.109253 \nL 278.005799 222.73973 \nL 278.198312 223.672194 \nL 278.326654 222.649294 \nL 278.390826 224.245176 \nL 278.454997 222.209568 \nL 278.711681 220.958784 \nL 278.775852 219.505024 \nL 278.840023 220.468005 \nL 278.904195 220.096582 \nL 279.096708 221.699792 \nL 279.160879 220.016972 \nL 279.22505 214.46356 \nL 279.289221 217.351267 \nL 279.353392 218.070774 \nL 279.545906 214.603692 \nL 279.610077 215.988486 \nL 279.674248 220.080358 \nL 279.80259 203.761813 \nL 280.059275 209.295322 \nL 280.123446 214.311727 \nL 280.187617 213.472835 \nL 280.251788 208.562909 \nL 280.444301 211.534147 \nL 280.508473 220.059159 \nL 280.572644 217.617871 \nL 280.636815 214.450864 \nL 280.700986 217.759239 \nL 280.95767 219.642623 \nL 281.021842 218.574791 \nL 281.086013 220.528768 \nL 281.150184 219.678236 \nL 281.406868 218.135578 \nL 281.471039 218.481159 \nL 281.535211 215.158068 \nL 281.599382 218.278545 \nL 281.856066 222.70098 \nL 281.920237 220.314183 \nL 281.984408 222.705322 \nL 282.04858 220.168924 \nL 282.241093 220.16232 \nL 282.305264 220.317198 \nL 282.369435 221.018341 \nL 282.433606 223.016013 \nL 282.497777 217.991858 \nL 282.690291 219.788484 \nL 282.754462 223.949141 \nL 282.882804 217.362787 \nL 282.946975 217.502105 \nL 283.139489 218.553803 \nL 283.267831 217.309201 \nL 283.332002 218.295281 \nL 283.588686 218.540052 \nL 283.7812 221.752684 \nL 283.845371 219.318513 \nL 284.166227 223.110158 \nL 284.230398 222.972137 \nL 284.294569 222.298165 \nL 284.487082 223.367444 \nL 284.551253 221.851533 \nL 284.615424 223.615894 \nL 284.743767 210.125409 \nL 285.064622 221.315763 \nL 285.128793 221.442144 \nL 285.192965 219.122352 \nL 285.385478 217.080352 \nL 285.51382 209.80929 \nL 285.577991 219.601099 \nL 285.642162 212.926782 \nL 285.834676 217.073114 \nL 285.963018 222.875067 \nL 286.027189 221.434213 \nL 286.09136 221.970104 \nL 286.283874 223.608566 \nL 286.348045 222.729115 \nL 286.476387 224.65942 \nL 286.540558 224.356751 \nL 286.733072 224.32566 \nL 286.797243 225.2786 \nL 286.925585 222.868191 \nL 286.989756 224.609061 \nL 287.246441 223.08528 \nL 287.310612 224.2383 \nL 287.374783 221.58695 \nL 287.438954 222.805317 \nL 287.631467 221.95382 \nL 287.759809 223.561885 \nL 287.823981 223.437163 \nL 287.888152 221.836034 \nL 288.144836 224.774885 \nL 288.209007 223.34935 \nL 288.273178 223.357884 \nL 288.33735 211.262839 \nL 288.529863 224.3003 \nL 288.594034 219.74877 \nL 288.658205 223.653829 \nL 288.722376 222.120972 \nL 288.979061 220.326366 \nL 289.171574 224.637949 \nL 289.235745 223.017852 \nL 289.49243 225.666368 \nL 289.877457 223.916814 \nL 289.941628 225.067995 \nL 290.005799 224.195781 \nL 290.06997 224.434129 \nL 290.134141 226.100877 \nL 290.454997 224.930999 \nL 290.583339 223.639505 \nL 290.775852 225.052827 \nL 290.840023 224.236069 \nL 290.904195 224.835558 \nL 291.032537 222.629964 \nL 291.22505 223.532966 \nL 291.353392 209.388231 \nL 291.417564 211.056335 \nL 291.481735 219.788303 \nL 291.80259 223.081842 \nL 292.123446 222.066994 \nL 292.187617 223.617854 \nL 292.38013 219.191348 \nL 292.636815 221.985906 \nL 292.765157 224.180191 \nL 292.829328 224.302863 \nL 293.021842 223.68507 \nL 293.150184 221.655704 \nL 293.214355 215.160541 \nL 293.278526 216.805124 \nL 293.535211 221.614904 \nL 293.727724 218.530101 \nL 293.920237 217.958144 \nL 293.984408 219.094248 \nL 294.04858 215.014317 \nL 294.112751 217.297772 \nL 294.176922 220.224983 \nL 294.369435 218.658171 \nL 294.561949 221.850508 \nL 294.62612 200.850945 \nL 294.882804 222.47002 \nL 294.946975 222.641815 \nL 295.011146 220.773238 \nL 295.075318 222.960045 \nL 295.267831 222.757582 \nL 295.332002 222.399517 \nL 295.524515 219.748167 \nL 295.7812 221.76541 \nL 295.909542 213.854632 \nL 295.973713 217.710448 \nL 296.294569 222.973313 \nL 296.422911 219.899486 \nL 296.615424 221.192126 \nL 296.743767 217.533255 \nL 296.807938 220.871363 \nL 296.872109 215.623546 \nL 297.064622 216.022471 \nL 297.128793 218.819532 \nL 297.192965 218.307223 \nL 297.321307 202.333986 \nL 297.51382 209.922584 \nL 297.577991 220.260084 \nL 297.642162 219.795239 \nL 297.706334 222.226304 \nL 297.963018 214.454392 \nL 298.027189 215.736779 \nL 298.09136 211.539726 \nL 298.219703 218.738625 \nL 298.412216 217.231762 \nL 298.476387 209.421552 \nL 298.540558 220.488873 \nL 298.6689 222.750585 \nL 298.861414 216.305027 \nL 298.925585 217.393967 \nL 298.989756 215.984174 \nL 299.118098 217.953621 \nL 299.374783 217.406964 \nL 299.503125 216.878009 \nL 299.567296 217.124318 \nL 299.759809 211.170322 \nL 299.952323 220.25535 \nL 300.016494 217.60014 \nL 300.209007 216.519311 \nL 300.273178 219.669461 \nL 300.465692 201.002356 \nL 300.658205 218.665981 \nL 300.786547 212.208722 \nL 300.850719 213.856834 \nL 300.91489 217.121363 \nL 301.107403 219.319056 \nL 301.235745 218.705032 \nL 301.299916 202.338962 \nL 301.364088 212.201304 \nL 301.556601 213.356043 \nL 301.749114 219.084688 \nL 301.813285 221.725544 \nL 302.005799 220.09233 \nL 302.06997 221.216612 \nL 302.134141 220.656084 \nL 302.198312 220.881797 \nL 302.262483 219.696752 \nL 302.519168 220.709067 \nL 302.583339 222.899372 \nL 302.64751 222.202512 \nL 302.711681 219.761737 \nL 302.904195 221.976166 \nL 303.032537 211.446606 \nL 303.160879 220.023304 \nL 303.353392 220.376906 \nL 303.417564 218.98792 \nL 303.610077 222.691481 \nL 303.80259 223.543852 \nL 303.930932 223.092487 \nL 303.995104 223.289854 \nL 304.059275 222.448187 \nL 304.315959 224.153172 \nL 304.38013 221.999596 \nL 304.444301 224.672779 \nL 304.508473 224.171144 \nL 304.700986 223.278485 \nL 304.765157 224.726908 \nL 304.893499 221.366032 \nL 304.95767 222.068411 \nL 305.150184 221.601003 \nL 305.214355 223.922604 \nL 305.278526 223.599037 \nL 305.342697 222.397044 \nL 305.406868 222.637382 \nL 305.663553 220.083766 \nL 305.727724 220.516525 \nL 305.791895 222.764005 \nL 305.856066 218.10096 \nL 306.04858 221.967813 \nL 306.241093 214.48494 \nL 306.305264 217.086292 \nL 306.497777 216.652779 \nL 306.561949 214.856966 \nL 306.690291 223.608083 \nL 306.754462 222.768679 \nL 306.946975 221.472601 \nL 307.139489 224.110502 \nL 307.20366 224.287725 \nL 307.396173 222.069768 \nL 307.460344 219.088458 \nL 307.588686 223.571776 \nL 307.652858 221.503149 \nL 307.845371 224.586263 \nL 307.973713 221.157538 \nL 308.037884 222.578157 \nL 308.294569 224.012437 \nL 308.35874 222.841353 \nL 308.422911 224.585057 \nL 308.487082 224.282719 \nL 308.551253 224.250785 \nL 308.743767 223.178581 \nL 308.872109 210.32558 \nL 309.000451 223.574309 \nL 309.257136 218.185154 \nL 309.321307 221.931717 \nL 309.385478 219.347673 \nL 309.642162 212.556082 \nL 309.770505 221.869838 \nL 309.834676 219.91375 \nL 309.898847 219.959676 \nL 310.09136 218.230809 \nL 310.155531 221.32098 \nL 310.219703 220.90369 \nL 310.283874 218.858825 \nL 310.348045 222.723235 \nL 310.6689 221.285879 \nL 310.733072 223.476003 \nL 310.989756 217.692898 \nL 311.182269 223.081601 \nL 311.246441 220.621496 \nL 311.438954 221.967481 \nL 311.503125 221.752775 \nL 311.567296 224.37017 \nL 311.631467 223.338434 \nL 311.888152 225.450968 \nL 311.952323 221.867938 \nL 312.016494 223.504409 \nL 312.080665 223.386864 \nL 312.144836 215.460044 \nL 312.33735 224.380061 \nL 312.401521 223.520663 \nL 312.465692 222.013739 \nL 312.529863 223.572108 \nL 312.594034 220.492974 \nL 312.786547 221.656247 \nL 312.91489 226.448236 \nL 313.235745 222.233542 \nL 313.364088 224.477553 \nL 313.428259 223.785578 \nL 313.49243 224.568592 \nL 313.749114 224.788244 \nL 313.813285 225.620321 \nL 313.941628 223.563182 \nL 314.134141 223.156507 \nL 314.326654 225.679998 \nL 314.390826 224.561445 \nL 314.583339 223.338796 \nL 314.64751 219.641055 \nL 314.711681 208.98243 \nL 314.775852 213.585194 \nL 314.840023 217.552374 \nL 315.032537 214.075189 \nL 315.22505 221.729676 \nL 315.289221 222.450329 \nL 315.481735 223.09499 \nL 315.545906 215.635578 \nL 315.610077 218.853487 \nL 315.674248 221.663967 \nL 315.738419 221.545456 \nL 315.930932 222.512479 \nL 315.995104 221.76743 \nL 316.059275 223.38041 \nL 316.123446 223.163804 \nL 316.187617 215.75635 \nL 316.508473 225.068086 \nL 316.636815 223.498619 \nL 316.95767 224.088247 \nL 317.021842 222.663225 \nL 317.086013 224.035717 \nL 317.342697 220.291747 \nL 317.406868 216.518798 \nL 317.471039 220.15641 \nL 317.535211 217.883721 \nL 317.791895 224.350418 \nL 317.856066 222.233119 \nL 317.920237 223.222034 \nL 317.984408 213.164466 \nL 318.176922 224.095062 \nL 318.241093 220.468789 \nL 318.369435 224.195178 \nL 318.433606 222.229501 \nL 318.62612 222.040909 \nL 318.690291 219.378673 \nL 318.754462 219.437024 \nL 318.818633 221.248094 \nL 318.882804 219.434792 \nL 319.139489 221.444557 \nL 319.20366 224.237667 \nL 319.332002 217.300033 \nL 319.652858 224.303044 \nL 319.717029 224.779348 \nL 319.7812 222.529124 \nL 320.102055 224.157876 \nL 320.166227 224.651942 \nL 320.230398 224.335159 \nL 320.422911 222.594019 \nL 320.487082 219.106038 \nL 320.551253 220.486973 \nL 320.679596 218.4814 \nL 321.000451 224.155192 \nL 321.064622 222.717083 \nL 321.128793 224.598325 \nL 321.385478 223.286386 \nL 321.449649 222.129506 \nL 321.51382 223.151139 \nL 321.577991 222.320087 \nL 321.834676 224.132365 \nL 321.963018 220.722698 \nL 322.027189 224.949726 \nL 322.219703 223.540324 \nL 322.283874 221.943055 \nL 322.476387 226.360062 \nL 322.733072 221.247763 \nL 322.797243 224.809775 \nL 322.861414 224.263752 \nL 322.925585 221.877618 \nL 323.118098 220.221576 \nL 323.246441 223.937139 \nL 323.310612 219.522876 \nL 323.374783 219.803532 \nL 323.567296 220.21075 \nL 323.759809 222.458591 \nL 323.823981 209.068946 \nL 324.080665 226.219749 \nL 324.273178 218.847727 \nL 324.465692 219.009933 \nL 324.529863 222.274915 \nL 324.722376 218.843445 \nL 324.979061 221.666802 \nL 325.107403 217.050287 \nL 325.171574 219.271501 \nL 325.364088 220.712384 \nL 325.428259 217.665004 \nL 325.556601 221.670028 \nL 325.620772 219.484729 \nL 325.941628 222.197506 \nL 326.005799 221.998511 \nL 326.06997 218.827252 \nL 326.326654 217.643925 \nL 326.390826 213.573313 \nL 326.454997 220.31952 \nL 326.519168 214.827836 \nL 326.711681 216.757991 \nL 326.904195 221.92662 \nL 326.968366 221.002479 \nL 327.160879 221.630856 \nL 327.22505 222.763613 \nL 327.289221 221.300535 \nL 327.417564 223.834852 \nL 327.674248 218.375404 \nL 327.738419 222.789184 \nL 327.80259 222.292978 \nL 328.123446 212.484373 \nL 328.187617 214.943452 \nL 328.315959 197.692322 \nL 328.572644 205.789731 \nL 328.700986 215.733673 \nL 328.95767 208.257254 \nL 329.021842 208.366929 \nL 329.086013 210.605301 \nL 329.150184 198.326399 \nL 329.214355 201.925592 \nL 329.599382 209.379606 \nL 329.663553 199.591477 \nL 330.04858 210.870035 \nL 330.112751 214.478909 \nL 330.305264 217.211015 \nL 330.369435 215.022821 \nL 330.433606 216.589664 \nL 330.497777 217.364988 \nL 330.561949 220.083042 \nL 330.818633 214.579145 \nL 330.946975 217.652791 \nL 331.20366 219.996888 \nL 331.267831 215.174141 \nL 331.332002 219.986967 \nL 331.396173 218.02907 \nL 331.460344 213.647133 \nL 331.652858 220.072849 \nL 331.717029 216.22982 \nL 331.7812 221.049732 \nL 331.845371 220.464929 \nL 331.909542 220.337191 \nL 332.166227 221.430625 \nL 332.294569 216.073585 \nL 332.35874 211.73477 \nL 332.551253 219.805009 \nL 332.615424 218.735761 \nL 332.679596 219.144185 \nL 332.743767 221.188598 \nL 332.807938 219.768823 \nL 333.000451 218.871822 \nL 333.128793 214.749885 \nL 333.192965 217.893069 \nL 333.257136 217.333747 \nL 333.449649 219.668979 \nL 333.51382 222.205256 \nL 333.577991 221.468319 \nL 333.706334 223.707476 \nL 333.963018 220.411585 \nL 334.027189 221.35973 \nL 334.155531 218.29498 \nL 334.348045 223.783769 \nL 334.412216 223.267237 \nL 334.476387 221.997063 \nL 334.540558 223.273449 \nL 334.604729 219.527399 \nL 334.797243 222.663256 \nL 334.989756 214.671481 \nL 335.053927 214.7858 \nL 335.246441 219.409914 \nL 335.310612 217.403074 \nL 335.438954 222.575353 \nL 335.503125 209.936063 \nL 335.695638 219.66349 \nL 335.759809 213.880415 \nL 335.823981 215.352932 \nL 335.888152 219.506894 \nL 335.952323 214.400505 \nL 336.273178 221.526187 \nL 336.33735 221.277074 \nL 336.594034 220.929232 \nL 336.658205 221.398992 \nL 336.786547 220.402478 \nL 336.850719 223.070142 \nL 337.043232 215.42636 \nL 337.107403 216.983885 \nL 337.49243 223.065558 \nL 337.556601 222.060782 \nL 337.620772 223.1648 \nL 337.684943 215.02264 \nL 337.749114 215.894552 \nL 338.06997 223.064714 \nL 338.134141 217.953319 \nL 338.198312 201.653832 \nL 338.390826 206.643459 \nL 338.519168 220.677706 \nL 338.583339 214.613703 \nL 338.64751 214.944146 \nL 338.840023 213.861719 \nL 338.968366 217.364174 \nL 339.032537 214.036741 \nL 339.096708 217.392791 \nL 339.353392 221.91094 \nL 339.417564 218.90261 \nL 339.481735 220.307157 \nL 339.545906 204.389074 \nL 339.738419 203.794803 \nL 339.930932 218.14764 \nL 339.995104 215.729361 \nL 340.187617 212.859121 \nL 340.251788 218.38001 \nL 340.315959 214.787835 \nL 340.444301 204.79976 \nL 340.765157 216.535226 \nL 340.893499 216.239718 \nL 341.086013 219.308795 \nL 341.150184 215.954622 \nL 341.214355 218.213485 \nL 341.278526 216.454522 \nL 341.342697 208.230106 \nL 341.663553 218.512045 \nL 341.727724 217.228588 \nL 341.791895 218.567629 \nL 341.984408 219.495585 \nL 342.04858 222.382223 \nL 342.112751 219.118432 \nL 342.176922 221.120356 \nL 342.241093 218.964881 \nL 342.433606 221.864937 \nL 342.497777 217.699396 \nL 342.62612 223.581275 \nL 342.690291 222.297433 \nL 342.946975 210.097809 \nL 343.075318 221.38883 \nL 343.139489 221.175134 \nL 343.396173 220.494384 \nL 343.460344 223.093603 \nL 343.524515 222.185775 \nL 343.588686 223.649472 \nL 343.7812 221.442242 \nL 343.845371 222.917887 \nL 344.037884 215.53014 \nL 344.294569 221.760856 \nL 344.35874 219.453134 \nL 344.422911 220.346366 \nL 344.487082 221.24569 \nL 344.679596 218.225826 \nL 344.93628 223.724159 \nL 345.128793 223.000347 \nL 345.192965 224.275316 \nL 345.257136 224.120687 \nL 345.385478 224.325578 \nL 345.577991 220.22784 \nL 345.706334 224.107336 \nL 345.834676 226.354506 \nL 346.027189 217.102923 \nL 346.219703 223.921247 \nL 346.283874 223.974562 \nL 346.476387 223.337409 \nL 346.540558 223.675639 \nL 346.604729 221.198097 \nL 346.6689 223.744491 \nL 346.733072 223.320235 \nL 346.925585 223.904895 \nL 346.989756 217.995363 \nL 347.118098 222.760853 \nL 347.182269 215.359091 \nL 347.374783 220.733523 \nL 347.438954 217.141024 \nL 347.567296 225.733396 \nL 347.823981 220.489672 \nL 347.888152 220.748925 \nL 347.952323 222.603118 \nL 348.016494 222.41176 \nL 348.273178 219.071186 \nL 348.33735 222.511687 \nL 348.401521 218.182651 \nL 348.529863 221.961314 \nL 348.722376 222.288839 \nL 348.850719 223.192301 \nL 348.91489 223.072811 \nL 348.979061 221.488636 \nL 349.235745 223.03244 \nL 349.620772 218.017219 \nL 349.684943 225.311619 \nL 349.684943 225.311619 \n\" style=\"fill:none;stroke:#9467bd;stroke-linecap:square;stroke-width:1.5;\"/>\n   </g>\n   <g id=\"line2d_19\">\n    <path clip-path=\"url(#p51eced6d7b)\" d=\"M 45.321307 229.874489 \nL 349.684943 229.874478 \nL 349.684943 229.874478 \n\" style=\"fill:none;stroke:#8c564b;stroke-linecap:square;stroke-width:1.5;\"/>\n   </g>\n   <g id=\"patch_3\">\n    <path d=\"M 30.103125 239.758125 \nL 30.103125 22.318125 \n\" style=\"fill:none;stroke:#000000;stroke-linecap:square;stroke-linejoin:miter;stroke-width:0.8;\"/>\n   </g>\n   <g id=\"patch_4\">\n    <path d=\"M 364.903125 239.758125 \nL 364.903125 22.318125 \n\" style=\"fill:none;stroke:#000000;stroke-linecap:square;stroke-linejoin:miter;stroke-width:0.8;\"/>\n   </g>\n   <g id=\"patch_5\">\n    <path d=\"M 30.103125 239.758125 \nL 364.903125 239.758125 \n\" style=\"fill:none;stroke:#000000;stroke-linecap:square;stroke-linejoin:miter;stroke-width:0.8;\"/>\n   </g>\n   <g id=\"patch_6\">\n    <path d=\"M 30.103125 22.318125 \nL 364.903125 22.318125 \n\" style=\"fill:none;stroke:#000000;stroke-linecap:square;stroke-linejoin:miter;stroke-width:0.8;\"/>\n   </g>\n   <g id=\"text_15\">\n    <!-- Apple Socks -->\n    <g transform=\"translate(161.135625 16.318125)scale(0.12 -0.12)\">\n     <defs>\n      <path d=\"M 34.1875 63.1875 \nL 20.796875 26.90625 \nL 47.609375 26.90625 \nz\nM 28.609375 72.90625 \nL 39.796875 72.90625 \nL 67.578125 0 \nL 57.328125 0 \nL 50.6875 18.703125 \nL 17.828125 18.703125 \nL 11.1875 0 \nL 0.78125 0 \nz\n\" id=\"DejaVuSans-65\"/>\n      <path d=\"M 18.109375 8.203125 \nL 18.109375 -20.796875 \nL 9.078125 -20.796875 \nL 9.078125 54.6875 \nL 18.109375 54.6875 \nL 18.109375 46.390625 \nQ 20.953125 51.265625 25.265625 53.625 \nQ 29.59375 56 35.59375 56 \nQ 45.5625 56 51.78125 48.09375 \nQ 58.015625 40.1875 58.015625 27.296875 \nQ 58.015625 14.40625 51.78125 6.484375 \nQ 45.5625 -1.421875 35.59375 -1.421875 \nQ 29.59375 -1.421875 25.265625 0.953125 \nQ 20.953125 3.328125 18.109375 8.203125 \nz\nM 48.6875 27.296875 \nQ 48.6875 37.203125 44.609375 42.84375 \nQ 40.53125 48.484375 33.40625 48.484375 \nQ 26.265625 48.484375 22.1875 42.84375 \nQ 18.109375 37.203125 18.109375 27.296875 \nQ 18.109375 17.390625 22.1875 11.75 \nQ 26.265625 6.109375 33.40625 6.109375 \nQ 40.53125 6.109375 44.609375 11.75 \nQ 48.6875 17.390625 48.6875 27.296875 \nz\n\" id=\"DejaVuSans-112\"/>\n      <path d=\"M 9.421875 75.984375 \nL 18.40625 75.984375 \nL 18.40625 0 \nL 9.421875 0 \nz\n\" id=\"DejaVuSans-108\"/>\n      <path id=\"DejaVuSans-32\"/>\n      <path d=\"M 53.515625 70.515625 \nL 53.515625 60.890625 \nQ 47.90625 63.578125 42.921875 64.890625 \nQ 37.9375 66.21875 33.296875 66.21875 \nQ 25.25 66.21875 20.875 63.09375 \nQ 16.5 59.96875 16.5 54.203125 \nQ 16.5 49.359375 19.40625 46.890625 \nQ 22.3125 44.4375 30.421875 42.921875 \nL 36.375 41.703125 \nQ 47.40625 39.59375 52.65625 34.296875 \nQ 57.90625 29 57.90625 20.125 \nQ 57.90625 9.515625 50.796875 4.046875 \nQ 43.703125 -1.421875 29.984375 -1.421875 \nQ 24.8125 -1.421875 18.96875 -0.25 \nQ 13.140625 0.921875 6.890625 3.21875 \nL 6.890625 13.375 \nQ 12.890625 10.015625 18.65625 8.296875 \nQ 24.421875 6.59375 29.984375 6.59375 \nQ 38.421875 6.59375 43.015625 9.90625 \nQ 47.609375 13.234375 47.609375 19.390625 \nQ 47.609375 24.75 44.3125 27.78125 \nQ 41.015625 30.8125 33.5 32.328125 \nL 27.484375 33.5 \nQ 16.453125 35.6875 11.515625 40.375 \nQ 6.59375 45.0625 6.59375 53.421875 \nQ 6.59375 63.09375 13.40625 68.65625 \nQ 20.21875 74.21875 32.171875 74.21875 \nQ 37.3125 74.21875 42.625 73.28125 \nQ 47.953125 72.359375 53.515625 70.515625 \nz\n\" id=\"DejaVuSans-83\"/>\n      <path d=\"M 30.609375 48.390625 \nQ 23.390625 48.390625 19.1875 42.75 \nQ 14.984375 37.109375 14.984375 27.296875 \nQ 14.984375 17.484375 19.15625 11.84375 \nQ 23.34375 6.203125 30.609375 6.203125 \nQ 37.796875 6.203125 41.984375 11.859375 \nQ 46.1875 17.53125 46.1875 27.296875 \nQ 46.1875 37.015625 41.984375 42.703125 \nQ 37.796875 48.390625 30.609375 48.390625 \nz\nM 30.609375 56 \nQ 42.328125 56 49.015625 48.375 \nQ 55.71875 40.765625 55.71875 27.296875 \nQ 55.71875 13.875 49.015625 6.21875 \nQ 42.328125 -1.421875 30.609375 -1.421875 \nQ 18.84375 -1.421875 12.171875 6.21875 \nQ 5.515625 13.875 5.515625 27.296875 \nQ 5.515625 40.765625 12.171875 48.375 \nQ 18.84375 56 30.609375 56 \nz\n\" id=\"DejaVuSans-111\"/>\n      <path d=\"M 48.78125 52.59375 \nL 48.78125 44.1875 \nQ 44.96875 46.296875 41.140625 47.34375 \nQ 37.3125 48.390625 33.40625 48.390625 \nQ 24.65625 48.390625 19.8125 42.84375 \nQ 14.984375 37.3125 14.984375 27.296875 \nQ 14.984375 17.28125 19.8125 11.734375 \nQ 24.65625 6.203125 33.40625 6.203125 \nQ 37.3125 6.203125 41.140625 7.25 \nQ 44.96875 8.296875 48.78125 10.40625 \nL 48.78125 2.09375 \nQ 45.015625 0.34375 40.984375 -0.53125 \nQ 36.96875 -1.421875 32.421875 -1.421875 \nQ 20.0625 -1.421875 12.78125 6.34375 \nQ 5.515625 14.109375 5.515625 27.296875 \nQ 5.515625 40.671875 12.859375 48.328125 \nQ 20.21875 56 33.015625 56 \nQ 37.15625 56 41.109375 55.140625 \nQ 45.0625 54.296875 48.78125 52.59375 \nz\n\" id=\"DejaVuSans-99\"/>\n      <path d=\"M 9.078125 75.984375 \nL 18.109375 75.984375 \nL 18.109375 31.109375 \nL 44.921875 54.6875 \nL 56.390625 54.6875 \nL 27.390625 29.109375 \nL 57.625 0 \nL 45.90625 0 \nL 18.109375 26.703125 \nL 18.109375 0 \nL 9.078125 0 \nz\n\" id=\"DejaVuSans-107\"/>\n      <path d=\"M 44.28125 53.078125 \nL 44.28125 44.578125 \nQ 40.484375 46.53125 36.375 47.5 \nQ 32.28125 48.484375 27.875 48.484375 \nQ 21.1875 48.484375 17.84375 46.4375 \nQ 14.5 44.390625 14.5 40.28125 \nQ 14.5 37.15625 16.890625 35.375 \nQ 19.28125 33.59375 26.515625 31.984375 \nL 29.59375 31.296875 \nQ 39.15625 29.25 43.1875 25.515625 \nQ 47.21875 21.78125 47.21875 15.09375 \nQ 47.21875 7.46875 41.1875 3.015625 \nQ 35.15625 -1.421875 24.609375 -1.421875 \nQ 20.21875 -1.421875 15.453125 -0.5625 \nQ 10.6875 0.296875 5.421875 2 \nL 5.421875 11.28125 \nQ 10.40625 8.6875 15.234375 7.390625 \nQ 20.0625 6.109375 24.8125 6.109375 \nQ 31.15625 6.109375 34.5625 8.28125 \nQ 37.984375 10.453125 37.984375 14.40625 \nQ 37.984375 18.0625 35.515625 20.015625 \nQ 33.0625 21.96875 24.703125 23.78125 \nL 21.578125 24.515625 \nQ 13.234375 26.265625 9.515625 29.90625 \nQ 5.8125 33.546875 5.8125 39.890625 \nQ 5.8125 47.609375 11.28125 51.796875 \nQ 16.75 56 26.8125 56 \nQ 31.78125 56 36.171875 55.265625 \nQ 40.578125 54.546875 44.28125 53.078125 \nz\n\" id=\"DejaVuSans-115\"/>\n     </defs>\n     <use xlink:href=\"#DejaVuSans-65\"/>\n     <use x=\"68.408203\" xlink:href=\"#DejaVuSans-112\"/>\n     <use x=\"131.884766\" xlink:href=\"#DejaVuSans-112\"/>\n     <use x=\"195.361328\" xlink:href=\"#DejaVuSans-108\"/>\n     <use x=\"223.144531\" xlink:href=\"#DejaVuSans-101\"/>\n     <use x=\"284.667969\" xlink:href=\"#DejaVuSans-32\"/>\n     <use x=\"316.455078\" xlink:href=\"#DejaVuSans-83\"/>\n     <use x=\"379.931641\" xlink:href=\"#DejaVuSans-111\"/>\n     <use x=\"441.113281\" xlink:href=\"#DejaVuSans-99\"/>\n     <use x=\"496.09375\" xlink:href=\"#DejaVuSans-107\"/>\n     <use x=\"554.003906\" xlink:href=\"#DejaVuSans-115\"/>\n    </g>\n   </g>\n  </g>\n </g>\n <defs>\n  <clipPath id=\"p51eced6d7b\">\n   <rect height=\"217.44\" width=\"334.8\" x=\"30.103125\" y=\"22.318125\"/>\n  </clipPath>\n </defs>\n</svg>\n",
      "image/png": "[encoded data removed]"
     },
     "metadata": {
      "needs_background": "light"
     }
    }
   ],
   "source": [
    "# get some apple stock\n",
    "from datetime import datetime\n",
    "from pandas_datareader.data import DataReader\n",
    "from matplotlib.pyplot import plot, title\n",
    "%matplotlib inline\n",
    "\n",
    "dt_start = datetime(2008, 2,1)\n",
    "dt_end = datetime(2021, 2,1)\n",
    "\n",
    "appleData = DataReader('AAPL', data_source = 'yahoo', start = dt_start, end= dt_end)\n",
    "\n",
    "plot(appleData)\n",
    "title(\"Apple Socks\")"
   ]
  },
  {
   "cell_type": "code",
   "execution_count": 13,
   "metadata": {},
   "outputs": [
    {
     "output_type": "execute_result",
     "data": {
      "text/plain": [
       "                  High         Low        Open       Close        Volume  \\\n",
       "Date                                                                       \n",
       "2008-02-01    4.878214    4.720714    4.865714    4.776786  1.010744e+09   \n",
       "2008-02-04    4.853571    4.693571    4.793214    4.701786  8.992340e+08   \n",
       "2008-02-05    4.785714    4.603571    4.658214    4.620000  1.141042e+09   \n",
       "2008-02-06    4.711429    4.348929    4.672500    4.357143  1.573272e+09   \n",
       "2008-02-07    4.456429    4.188214    4.284643    4.330000  2.083332e+09   \n",
       "...                ...         ...         ...         ...           ...   \n",
       "2021-01-20  132.490005  128.550003  128.660004  132.029999  1.043195e+08   \n",
       "2021-01-21  139.669998  133.589996  133.800003  136.869995  1.205295e+08   \n",
       "2021-01-22  139.850006  135.020004  136.279999  139.070007  1.139072e+08   \n",
       "2021-01-25  145.089996  136.539993  143.070007  142.919998  1.572824e+08   \n",
       "2021-01-26  144.300003  141.369995  143.600006  142.399994  6.052481e+07   \n",
       "\n",
       "             Adj Close  \n",
       "Date                    \n",
       "2008-02-01    4.120698  \n",
       "2008-02-04    4.055998  \n",
       "2008-02-05    3.985445  \n",
       "2008-02-06    3.758692  \n",
       "2008-02-07    3.735277  \n",
       "...                ...  \n",
       "2021-01-20  132.029999  \n",
       "2021-01-21  136.869995  \n",
       "2021-01-22  139.070007  \n",
       "2021-01-25  142.919998  \n",
       "2021-01-26  142.399994  \n",
       "\n",
       "[3269 rows x 6 columns]"
      ],
      "text/html": "<div>\n<style scoped>\n    .dataframe tbody tr th:only-of-type {\n        vertical-align: middle;\n    }\n\n    .dataframe tbody tr th {\n        vertical-align: top;\n    }\n\n    .dataframe thead th {\n        text-align: right;\n    }\n</style>\n<table border=\"1\" class=\"dataframe\">\n  <thead>\n    <tr style=\"text-align: right;\">\n      <th></th>\n      <th>High</th>\n      <th>Low</th>\n      <th>Open</th>\n      <th>Close</th>\n      <th>Volume</th>\n      <th>Adj Close</th>\n    </tr>\n    <tr>\n      <th>Date</th>\n      <th></th>\n      <th></th>\n      <th></th>\n      <th></th>\n      <th></th>\n      <th></th>\n    </tr>\n  </thead>\n  <tbody>\n    <tr>\n      <th>2008-02-01</th>\n      <td>4.878214</td>\n      <td>4.720714</td>\n      <td>4.865714</td>\n      <td>4.776786</td>\n      <td>1.010744e+09</td>\n      <td>4.120698</td>\n    </tr>\n    <tr>\n      <th>2008-02-04</th>\n      <td>4.853571</td>\n      <td>4.693571</td>\n      <td>4.793214</td>\n      <td>4.701786</td>\n      <td>8.992340e+08</td>\n      <td>4.055998</td>\n    </tr>\n    <tr>\n      <th>2008-02-05</th>\n      <td>4.785714</td>\n      <td>4.603571</td>\n      <td>4.658214</td>\n      <td>4.620000</td>\n      <td>1.141042e+09</td>\n      <td>3.985445</td>\n    </tr>\n    <tr>\n      <th>2008-02-06</th>\n      <td>4.711429</td>\n      <td>4.348929</td>\n      <td>4.672500</td>\n      <td>4.357143</td>\n      <td>1.573272e+09</td>\n      <td>3.758692</td>\n    </tr>\n    <tr>\n      <th>2008-02-07</th>\n      <td>4.456429</td>\n      <td>4.188214</td>\n      <td>4.284643</td>\n      <td>4.330000</td>\n      <td>2.083332e+09</td>\n      <td>3.735277</td>\n    </tr>\n    <tr>\n      <th>...</th>\n      <td>...</td>\n      <td>...</td>\n      <td>...</td>\n      <td>...</td>\n      <td>...</td>\n      <td>...</td>\n    </tr>\n    <tr>\n      <th>2021-01-20</th>\n      <td>132.490005</td>\n      <td>128.550003</td>\n      <td>128.660004</td>\n      <td>132.029999</td>\n      <td>1.043195e+08</td>\n      <td>132.029999</td>\n    </tr>\n    <tr>\n      <th>2021-01-21</th>\n      <td>139.669998</td>\n      <td>133.589996</td>\n      <td>133.800003</td>\n      <td>136.869995</td>\n      <td>1.205295e+08</td>\n      <td>136.869995</td>\n    </tr>\n    <tr>\n      <th>2021-01-22</th>\n      <td>139.850006</td>\n      <td>135.020004</td>\n      <td>136.279999</td>\n      <td>139.070007</td>\n      <td>1.139072e+08</td>\n      <td>139.070007</td>\n    </tr>\n    <tr>\n      <th>2021-01-25</th>\n      <td>145.089996</td>\n      <td>136.539993</td>\n      <td>143.070007</td>\n      <td>142.919998</td>\n      <td>1.572824e+08</td>\n      <td>142.919998</td>\n    </tr>\n    <tr>\n      <th>2021-01-26</th>\n      <td>144.300003</td>\n      <td>141.369995</td>\n      <td>143.600006</td>\n      <td>142.399994</td>\n      <td>6.052481e+07</td>\n      <td>142.399994</td>\n    </tr>\n  </tbody>\n</table>\n<p>3269 rows × 6 columns</p>\n</div>"
     },
     "metadata": {},
     "execution_count": 13
    }
   ],
   "source": [
    "appleData"
   ]
  },
  {
   "cell_type": "code",
   "execution_count": 14,
   "metadata": {},
   "outputs": [
    {
     "output_type": "stream",
     "name": "stdout",
     "text": [
      "+-----------------+-----------------+-----------------+-----------------+----------+-----------------+\n|             High|              Low|             Open|            Close|    Volume|        Adj Close|\n+-----------------+-----------------+-----------------+-----------------+----------+-----------------+\n|4.878213882446289|4.720714092254639|4.865714073181152|4.776785850524902|1.010744E9|4.120697975158691|\n+-----------------+-----------------+-----------------+-----------------+----------+-----------------+\nonly showing top 1 row\n\n"
     ]
    }
   ],
   "source": [
    "df_aapl = sqlCon.createDataFrame(appleData)\n",
    "df_aapl.show(1)"
   ]
  },
  {
   "cell_type": "code",
   "execution_count": 15,
   "metadata": {},
   "outputs": [
    {
     "output_type": "execute_result",
     "data": {
      "text/plain": [
       "StructType(List(StructField(High,DoubleType,true),StructField(Low,DoubleType,true),StructField(Open,DoubleType,true),StructField(Close,DoubleType,true),StructField(Volume,DoubleType,true),StructField(Adj Close,DoubleType,true)))"
      ]
     },
     "metadata": {},
     "execution_count": 15
    }
   ],
   "source": [
    "df_aapl.schema"
   ]
  },
  {
   "cell_type": "code",
   "execution_count": 20,
   "metadata": {},
   "outputs": [
    {
     "output_type": "stream",
     "name": "stdout",
     "text": [
      "+------------------+------------------+\n|              High|             Close|\n+------------------+------------------+\n|145.08999633789062| 142.9199981689453|\n| 144.3000030517578|142.39999389648438|\n|139.85000610351562|139.07000732421875|\n| 139.6699981689453| 136.8699951171875|\n|137.33999633789062|136.69000244140625|\n+------------------+------------------+\nonly showing top 5 rows\n\n"
     ]
    }
   ],
   "source": [
    "df_aapl.select(\"High\",\"Close\").orderBy('Close',ascending=False).show(5)"
   ]
  },
  {
   "cell_type": "code",
   "execution_count": 21,
   "metadata": {},
   "outputs": [],
   "source": [
    "sml.stop()"
   ]
  },
  {
   "source": [
    "## Transformers, Estimators and Pipelines\n",
    "\n",
    "---"
   ],
   "cell_type": "markdown",
   "metadata": {}
  },
  {
   "cell_type": "code",
   "execution_count": 4,
   "metadata": {},
   "outputs": [
    {
     "output_type": "error",
     "ename": "AttributeError",
     "evalue": "'SparkContext' object has no attribute 'createDataFrame'",
     "traceback": [
      "\u001b[0;31m---------------------------------------------------------------------------\u001b[0m",
      "\u001b[0;31mAttributeError\u001b[0m                            Traceback (most recent call last)",
      "\u001b[0;32m<ipython-input-4-1167ec34a9a5>\u001b[0m in \u001b[0;36m<module>\u001b[0;34m\u001b[0m\n\u001b[1;32m      9\u001b[0m \u001b[0msparkML\u001b[0m \u001b[0;34m=\u001b[0m \u001b[0mSparkContext\u001b[0m\u001b[0;34m(\u001b[0m\u001b[0mconf\u001b[0m\u001b[0;34m=\u001b[0m\u001b[0mnewconn\u001b[0m\u001b[0;34m)\u001b[0m\u001b[0;34m.\u001b[0m\u001b[0mgetOrCreate\u001b[0m\u001b[0;34m(\u001b[0m\u001b[0;34m)\u001b[0m\u001b[0;34m\u001b[0m\u001b[0;34m\u001b[0m\u001b[0m\n\u001b[1;32m     10\u001b[0m \u001b[0;34m\u001b[0m\u001b[0m\n\u001b[0;32m---> 11\u001b[0;31m training = sparkML.createDataFrame([\n\u001b[0m\u001b[1;32m     12\u001b[0m     \u001b[0;34m(\u001b[0m\u001b[0;36m0\u001b[0m\u001b[0;34m,\u001b[0m\u001b[0;34m\"adobe premiere pro\"\u001b[0m\u001b[0;34m,\u001b[0m\u001b[0;36m78.90\u001b[0m\u001b[0;34m)\u001b[0m\u001b[0;34m,\u001b[0m\u001b[0;34m\u001b[0m\u001b[0;34m\u001b[0m\u001b[0m\n\u001b[1;32m     13\u001b[0m     \u001b[0;34m(\u001b[0m\u001b[0;36m1\u001b[0m\u001b[0;34m,\u001b[0m\u001b[0;34m\"final cut pro\"\u001b[0m\u001b[0;34m,\u001b[0m \u001b[0;36m76.00\u001b[0m\u001b[0;34m)\u001b[0m\u001b[0;34m\u001b[0m\u001b[0;34m\u001b[0m\u001b[0m\n",
      "\u001b[0;31mAttributeError\u001b[0m: 'SparkContext' object has no attribute 'createDataFrame'"
     ]
    }
   ],
   "source": [
    "#from pyspark.ml import Pipeline\n",
    "#from pyspark.ml.classification import LogisticRegression\n",
    "#from pyspark.ml.feature import RegexTokenizer, HashingTF\n",
    "\n"
   ]
  },
  {
   "cell_type": "code",
   "execution_count": null,
   "metadata": {},
   "outputs": [],
   "source": []
  }
 ],
 "metadata": {
  "kernelspec": {
   "name": "python3",
   "display_name": "Python 3.9.1 64-bit",
   "metadata": {
    "interpreter": {
     "hash": "767d51c1340bd893661ea55ea3124f6de3c7a262a8b4abca0554b478b1e2ff90"
    }
   }
  },
  "language_info": {
   "codemirror_mode": {
    "name": "ipython",
    "version": 3
   },
   "file_extension": ".py",
   "mimetype": "text/x-python",
   "name": "python",
   "nbconvert_exporter": "python",
   "pygments_lexer": "ipython3",
   "version": "3.9.1-final"
  }
 },
 "nbformat": 4,
 "nbformat_minor": 4
}