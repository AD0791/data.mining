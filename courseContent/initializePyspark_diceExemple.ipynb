{
 "cells": [
  {
   "cell_type": "markdown",
   "metadata": {},
   "source": [
    "# Spark\n",
    "\n",
    "Apache's framework for distributed processing\n",
    "\n",
    "- Initialisation Process\n",
    "\n",
    "- basic dice exemple\n",
    "\n",
    "---\n",
    "\n",
    "## guide\n",
    "\n",
    "\n",
    "nous vle konnen exactement mete en claire concept poun kember yo poun k travay avec spark."
   ]
  },
  {
   "cell_type": "markdown",
   "metadata": {},
   "source": [
    "The first thing a Spark program must do is to create a SparkContext object, which tells Spark how to access a cluster. To create a SparkContext you first need to build a SparkConf object that contains information about your application.\n",
    "\n",
    "The appName parameter is a name for your application to show on the cluster UI. master is a Spark, Mesos or YARN cluster URL, or a special “local” string to run in local mode. In practice, when running on a cluster, you will not want to hardcode master in the program, but rather launch the application with spark-submit and receive it there. However, for local testing and unit tests, you can pass “local” to run Spark in-process.\n",
    "\n",
    "\n",
    "> Heuresment pou nous msambler jwenn deux methode pou demarrer Spark sou machine la.\n",
    "\n",
    "Fok nous set driver/host computer a.\n",
    "\n",
    "\n",
    "\n",
    "key concepts for Spark:\n",
    "\n",
    "- RDD\n",
    "- transformer\n",
    "- action\n",
    "\n",
    "\n"
   ]
  },
  {
   "cell_type": "code",
   "execution_count": null,
   "metadata": {},
   "outputs": [],
   "source": [
    "from pyspark import SparkContext, SparkConf\n",
    "master=\"local[3]\"\n",
    "appName=\"datamining-spark\"\n",
    "conf = SparkConf().set(\"spark.driver.host\",\"127.0.0.1\").setAppName(appName).setMaster(master)\n",
    "sc = SparkContext(conf=conf)\n",
    "\n",
    "# That would work: SparkSession.builder.config('spark.driver.host', '127.0.0.1').getOrCreate()\n"
   ]
  },
  {
   "cell_type": "code",
   "execution_count": null,
   "metadata": {},
   "outputs": [],
   "source": [
    "from pyspark.sql import SparkSession\n",
    "spark = SparkSession.builder \\\n",
    "    .config('spark.driver.host', '127.0.0.1') \\\n",
    "    .master(\"local[1]\") \\\n",
    "    .appName(\"Word Count\") \\\n",
    "    .getOrCreate()\n",
    "\n",
    "sparkSc = spark.sparkContext"
   ]
  },
  {
   "source": [
    "## Nou pral demarrer exemple Dice la."
   ],
   "cell_type": "markdown",
   "metadata": {}
  },
  {
   "cell_type": "code",
   "execution_count": null,
   "metadata": {},
   "outputs": [],
   "source": [
    "import random as rd \n",
    "n = 100\n",
    "rd.seed(1)\n",
    "simulations = range(100)\n",
    "\n"
   ]
  },
  {
   "source": [
    "- SC cluster/context"
   ],
   "cell_type": "markdown",
   "metadata": {}
  },
  {
   "cell_type": "code",
   "execution_count": null,
   "metadata": {},
   "outputs": [],
   "source": [
    "headsc = (sc.parallelize(simulations)\n",
    "        .map(lambda _: rd.random())\n",
    "        .filter(lambda dice: dice<0.2)\n",
    "        .count()\n",
    "    )"
   ]
  },
  {
   "cell_type": "code",
   "execution_count": null,
   "metadata": {},
   "outputs": [],
   "source": [
    "print(headsc)\n",
    "tails = n -headsc\n",
    "ratio = headsc / n\n",
    "print(f'number of tails: {tails}', f'ratio: {ratio}')"
   ]
  },
  {
   "source": [
    "- sparkSc cluster/context"
   ],
   "cell_type": "markdown",
   "metadata": {}
  },
  {
   "cell_type": "code",
   "execution_count": null,
   "metadata": {},
   "outputs": [],
   "source": [
    "hsp = (sparkSc.parallelize(simulations)\n",
    "        .map(lambda _: rd.random())\n",
    "        .filter(lambda dice: dice<0.3)\n",
    "        .count()\n",
    "    )\n",
    "\n",
    "print(hsp)\n",
    "t = n -hsp\n",
    "rat = hsp / n\n",
    "print(f'number of tails: {t}', f'ratio: {rat}')\n"
   ]
  },
  {
   "cell_type": "code",
   "execution_count": null,
   "metadata": {},
   "outputs": [],
   "source": [
    "#sparkSc.stop()\n",
    "#sc.stop()"
   ]
  },
  {
   "source": [
    "## Map VS FlatMap\n",
    "\n",
    "---"
   ],
   "cell_type": "markdown",
   "metadata": {}
  },
  {
   "cell_type": "code",
   "execution_count": null,
   "metadata": {},
   "outputs": [],
   "source": [
    "%%writefile input.txt\n",
    "Hello world\n",
    "Another line\n",
    "Yet another line\n",
    "The last line"
   ]
  },
  {
   "cell_type": "code",
   "execution_count": null,
   "metadata": {},
   "outputs": [],
   "source": [
    "from pyspark import SparkContext, SparkConf\n",
    "mast=\"local[2]\"\n",
    "Name=\"mapVSflatmap\"\n",
    "con = SparkConf().set(\"spark.driver.host\",\"127.0.0.1\").setAppName(Name).setMaster(mast)\n",
    "spC = SparkContext(conf=con)"
   ]
  },
  {
   "cell_type": "code",
   "execution_count": null,
   "metadata": {},
   "outputs": [],
   "source": [
    "# we can get access to the inut.txt\n",
    "spC.textFile(\"./input.txt\")\\\n",
    "    .map(lambda x: x.split()) \\\n",
    "        .collect()"
   ]
  },
  {
   "cell_type": "code",
   "execution_count": null,
   "metadata": {},
   "outputs": [],
   "source": [
    "spC.textFile(\"./input.txt\")\\\n",
    "    .flatMap(lambda x: x.split()) \\\n",
    "        .collect()"
   ]
  },
  {
   "cell_type": "code",
   "execution_count": null,
   "metadata": {},
   "outputs": [],
   "source": [
    "#spC.stop()"
   ]
  },
  {
   "source": [
    "## PairRDD\n",
    "\n",
    "---"
   ],
   "cell_type": "markdown",
   "metadata": {}
  },
  {
   "cell_type": "code",
   "execution_count": 1,
   "metadata": {},
   "outputs": [],
   "source": [
    "from pyspark import SparkContext, SparkConf\n",
    "Mastery=\"local\"\n",
    "NameApp=\"PairRDD\"\n",
    "conn = SparkConf().set(\"spark.driver.host\",\"127.0.0.1\").setAppName(NameApp).setMaster(Mastery)\n",
    "sconn = SparkContext(conf=conn)"
   ]
  },
  {
   "cell_type": "code",
   "execution_count": 30,
   "metadata": {},
   "outputs": [
    {
     "output_type": "stream",
     "name": "stdout",
     "text": [
      "Overwriting sales.txt\n"
     ]
    }
   ],
   "source": [
    "%%writefile sales.txt\n",
    "#ID DATE        STORE  PRODUCT AMOUNT\n",
    "100 12/13/2001  34     G345   375.43\n",
    "103 12/13/2004  31     H325   375.90\n",
    " 10 12/13/2011   3     O145    23.00\n",
    "100 12/13/2001  34     P345   375.43\n",
    "103 12/13/2004  31     Y325   375.90\n",
    " 10 12/13/2011   3     N145    23.00"
   ]
  },
  {
   "cell_type": "code",
   "execution_count": 19,
   "metadata": {},
   "outputs": [
    {
     "output_type": "execute_result",
     "data": {
      "text/plain": [
       "['#ID DATE        STORE  PRODUCT AMOUNT',\n",
       " '100 12/13/2001  34     G345   375.43']"
      ]
     },
     "metadata": {},
     "execution_count": 19
    }
   ],
   "source": [
    "sconn.textFile(\"./sales.txt\")\\\n",
    "    .take(2)"
   ]
  },
  {
   "cell_type": "code",
   "execution_count": 20,
   "metadata": {},
   "outputs": [
    {
     "output_type": "execute_result",
     "data": {
      "text/plain": [
       "['103 12/13/2004  31     Y325   375.90',\n",
       " '103 12/13/2004  31     H325   375.90']"
      ]
     },
     "metadata": {},
     "execution_count": 20
    }
   ],
   "source": [
    "sconn.textFile(\"./sales.txt\")\\\n",
    "    .top(2)"
   ]
  },
  {
   "cell_type": "code",
   "execution_count": 21,
   "metadata": {},
   "outputs": [
    {
     "output_type": "execute_result",
     "data": {
      "text/plain": [
       "[['#ID', 'DATE', 'STORE', 'PRODUCT', 'AMOUNT'],\n",
       " ['100', '12/13/2001', '34', 'G345', '375.43']]"
      ]
     },
     "metadata": {},
     "execution_count": 21
    }
   ],
   "source": [
    "sconn.textFile(\"./sales.txt\")\\\n",
    "    .map(lambda x: x.split()) \\\n",
    "    .take(2)"
   ]
  },
  {
   "cell_type": "code",
   "execution_count": 22,
   "metadata": {},
   "outputs": [
    {
     "output_type": "execute_result",
     "data": {
      "text/plain": [
       "[['100', '12/13/2001', '34', 'G345', '375.43'],\n",
       " ['103', '12/13/2004', '31', 'H325', '375.90']]"
      ]
     },
     "metadata": {},
     "execution_count": 22
    }
   ],
   "source": [
    "sconn.textFile(\"./sales.txt\")\\\n",
    "    .map(lambda x: x.split()) \\\n",
    "        .filter(lambda x: not x[0].startswith('#'))\\\n",
    "    .take(2)"
   ]
  },
  {
   "cell_type": "code",
   "execution_count": 23,
   "metadata": {},
   "outputs": [
    {
     "output_type": "execute_result",
     "data": {
      "text/plain": [
       "['DATE',\n",
       " 'STORE',\n",
       " 'PRODUCT',\n",
       " 'AMOUNT',\n",
       " '100',\n",
       " '12/13/2001',\n",
       " '34',\n",
       " 'G345',\n",
       " '375.43',\n",
       " '103',\n",
       " '12/13/2004',\n",
       " '31',\n",
       " 'H325',\n",
       " '375.90',\n",
       " '10',\n",
       " '12/13/2011',\n",
       " '3',\n",
       " 'O145',\n",
       " '23.00',\n",
       " '100',\n",
       " '12/13/2001',\n",
       " '34',\n",
       " 'P345',\n",
       " '375.43',\n",
       " '103',\n",
       " '12/13/2004',\n",
       " '31',\n",
       " 'Y325',\n",
       " '375.90',\n",
       " '10',\n",
       " '12/13/2011',\n",
       " '3',\n",
       " 'N145',\n",
       " '23.00']"
      ]
     },
     "metadata": {},
     "execution_count": 23
    }
   ],
   "source": [
    "sconn.textFile(\"./sales.txt\")\\\n",
    "    .flatMap(lambda x: x.split()) \\\n",
    "        .filter(lambda x: not x.startswith('#'))\\\n",
    "    .collect()"
   ]
  },
  {
   "cell_type": "code",
   "execution_count": 24,
   "metadata": {},
   "outputs": [
    {
     "output_type": "execute_result",
     "data": {
      "text/plain": [
       "['375.43', '375.90', '23.00', '375.43', '375.90', '23.00']"
      ]
     },
     "metadata": {},
     "execution_count": 24
    }
   ],
   "source": [
    "sconn.textFile(\"./sales.txt\")\\\n",
    "    .map(lambda x: x.split()) \\\n",
    "        .filter(lambda x: not x[0].startswith('#'))\\\n",
    "        .map(lambda x: x[-1])\\\n",
    "    .collect()"
   ]
  },
  {
   "cell_type": "code",
   "execution_count": 25,
   "metadata": {},
   "outputs": [
    {
     "output_type": "execute_result",
     "data": {
      "text/plain": [
       "1548.6599999999999"
      ]
     },
     "metadata": {},
     "execution_count": 25
    }
   ],
   "source": [
    "sconn.textFile(\"./sales.txt\")\\\n",
    "    .map(lambda x: x.split()) \\\n",
    "        .filter(lambda x: not x[0].startswith('#'))\\\n",
    "        .map(lambda x: float(x[-1]))\\\n",
    "    .sum()"
   ]
  },
  {
   "cell_type": "code",
   "execution_count": 32,
   "metadata": {},
   "outputs": [
    {
     "output_type": "execute_result",
     "data": {
      "text/plain": [
       "[('100', 750.86), ('103', 751.8), ('10', 46.0)]"
      ]
     },
     "metadata": {},
     "execution_count": 32
    }
   ],
   "source": [
    "sconn.textFile(\"./sales.txt\")\\\n",
    "    .map(lambda x: x.split()) \\\n",
    "        .filter(lambda x: not x[0].startswith('#'))\\\n",
    "            .map(lambda x: (x[-5],float(x[-1])))\\\n",
    "                .reduceByKey(lambda amount1,amount2: amount1+amount2)\\\n",
    "                    .collect()"
   ]
  },
  {
   "cell_type": "code",
   "execution_count": 33,
   "metadata": {},
   "outputs": [
    {
     "output_type": "execute_result",
     "data": {
      "text/plain": [
       "[('103', 751.8), ('100', 750.86), ('10', 46.0)]"
      ]
     },
     "metadata": {},
     "execution_count": 33
    }
   ],
   "source": [
    "sconn.textFile(\"./sales.txt\")\\\n",
    "    .map(lambda x: x.split()) \\\n",
    "        .filter(lambda x: not x[0].startswith('#'))\\\n",
    "            .map(lambda x: (x[-5],float(x[-1])))\\\n",
    "                .reduceByKey(lambda amount1,amount2: amount1+amount2)\\\n",
    "                    .sortBy(lambda product: product[-2],ascending=False)\\\n",
    "                        .collect()"
   ]
  },
  {
   "cell_type": "code",
   "execution_count": 35,
   "metadata": {},
   "outputs": [
    {
     "output_type": "execute_result",
     "data": {
      "text/plain": [
       "516.2199999999999"
      ]
     },
     "metadata": {},
     "execution_count": 35
    }
   ],
   "source": [
    "sconn.textFile(\"./sales.txt\")\\\n",
    "    .map(lambda x: x.split()) \\\n",
    "        .filter(lambda x: not x[0].startswith('#'))\\\n",
    "            .map(lambda x: (x[-5],float(x[-1])))\\\n",
    "                .reduceByKey(lambda amount1,amount2: amount1+amount2)\\\n",
    "                    .sortBy(lambda product: product[-2],ascending=False)\\\n",
    "                        .map(lambda x: x[1])\\\n",
    "                            .mean()"
   ]
  },
  {
   "cell_type": "code",
   "execution_count": 36,
   "metadata": {},
   "outputs": [
    {
     "output_type": "execute_result",
     "data": {
      "text/plain": [
       "[('Hello', 1),\n",
       " ('world', 1),\n",
       " ('Another', 1),\n",
       " ('line', 3),\n",
       " ('Yet', 1),\n",
       " ('another', 1),\n",
       " ('The', 1),\n",
       " ('last', 1)]"
      ]
     },
     "metadata": {},
     "execution_count": 36
    }
   ],
   "source": [
    "sconn.textFile(\"./input.txt\")\\\n",
    "    .flatMap(lambda line: line.split())\\\n",
    "        .map(lambda word: (word, 1))\\\n",
    "            .reduceByKey(lambda count1,count2: count1+count2)\\\n",
    "                .collect()"
   ]
  },
  {
   "cell_type": "code",
   "execution_count": null,
   "metadata": {},
   "outputs": [],
   "source": [
    "#sconn.stop()"
   ]
  },
  {
   "source": [
    "## Spark ML\n",
    "\n",
    "----\n",
    "\n",
    "1. data munging\n",
    "2. spark ml \n",
    "3. chain spark ml transformers and estimators composing an ml pipeline"
   ],
   "cell_type": "markdown",
   "metadata": {}
  },
  {
   "cell_type": "code",
   "execution_count": 5,
   "metadata": {},
   "outputs": [],
   "source": [
    "from pyspark import SparkContext, SparkConf, SQLContext\n",
    "from pyspark.sql import functions as F\n",
    "newMastery=\"local[4]\"\n",
    "newNameApp=\"ML.pipelines\"\n",
    "newconn = SparkConf().set(\"spark.driver.host\",\"127.0.0.1\").setAppName(NameApp).setMaster(newMastery)\n",
    "sml = SparkContext(conf=newconn)"
   ]
  },
  {
   "cell_type": "code",
   "execution_count": 6,
   "metadata": {},
   "outputs": [],
   "source": [
    "sqlCon = SQLContext(sml)\n",
    "#  in order to use the sql functions"
   ]
  },
  {
   "cell_type": "code",
   "execution_count": 18,
   "metadata": {},
   "outputs": [
    {
     "output_type": "execute_result",
     "data": {
      "text/plain": [
       "Text(0.5, 1.0, 'Apple Socks')"
      ]
     },
     "metadata": {},
     "execution_count": 18
    },
    {
     "output_type": "display_data",
     "data": {
      "text/plain": "<Figure size 432x288 with 1 Axes>",
      "image/svg+xml": "<?xml version=\"1.0\" encoding=\"utf-8\" standalone=\"no\"?>\n<!DOCTYPE svg PUBLIC \"-//W3C//DTD SVG 1.1//EN\"\n  \"http://www.w3.org/Graphics/SVG/1.1/DTD/svg11.dtd\">\n<!-- Created with matplotlib (https://matplotlib.org/) -->\n<svg height=\"263.63625pt\" version=\"1.1\" viewBox=\"0 0 372.103125 263.63625\" width=\"372.103125pt\" xmlns=\"http://www.w3.org/2000/svg\" xmlns:xlink=\"http://www.w3.org/1999/xlink\">\n <metadata>\n  <rdf:RDF xmlns:cc=\"http://creativecommons.org/ns#\" xmlns:dc=\"http://purl.org/dc/elements/1.1/\" xmlns:rdf=\"http://www.w3.org/1999/02/22-rdf-syntax-ns#\">\n   <cc:Work>\n    <dc:type rdf:resource=\"http://purl.org/dc/dcmitype/StillImage\"/>\n    <dc:date>2021-01-22T11:13:20.305160</dc:date>\n    <dc:format>image/svg+xml</dc:format>\n    <dc:creator>\n     <cc:Agent>\n      <dc:title>Matplotlib v3.3.3, https://matplotlib.org/</dc:title>\n     </cc:Agent>\n    </dc:creator>\n   </cc:Work>\n  </rdf:RDF>\n </metadata>\n <defs>\n  <style type=\"text/css\">*{stroke-linecap:butt;stroke-linejoin:round;}</style>\n </defs>\n <g id=\"figure_1\">\n  <g id=\"patch_1\">\n   <path d=\"M 0 263.63625 \nL 372.103125 263.63625 \nL 372.103125 0 \nL 0 0 \nz\n\" style=\"fill:none;\"/>\n  </g>\n  <g id=\"axes_1\">\n   <g id=\"patch_2\">\n    <path d=\"M 30.103125 239.758125 \nL 364.903125 239.758125 \nL 364.903125 22.318125 \nL 30.103125 22.318125 \nz\n\" style=\"fill:#ffffff;\"/>\n   </g>\n   <g id=\"matplotlib.axis_1\">\n    <g id=\"xtick_1\">\n     <g id=\"line2d_1\">\n      <defs>\n       <path d=\"M 0 0 \nL 0 3.5 \n\" id=\"m480dfba92c\" style=\"stroke:#000000;stroke-width:0.8;\"/>\n      </defs>\n      <g>\n       <use style=\"stroke:#000000;stroke-width:0.8;\" x=\"43.330323\" xlink:href=\"#m480dfba92c\" y=\"239.758125\"/>\n      </g>\n     </g>\n     <g id=\"text_1\">\n      <!-- 2008 -->\n      <g transform=\"translate(30.605323 254.356563)scale(0.1 -0.1)\">\n       <defs>\n        <path d=\"M 19.1875 8.296875 \nL 53.609375 8.296875 \nL 53.609375 0 \nL 7.328125 0 \nL 7.328125 8.296875 \nQ 12.9375 14.109375 22.625 23.890625 \nQ 32.328125 33.6875 34.8125 36.53125 \nQ 39.546875 41.84375 41.421875 45.53125 \nQ 43.3125 49.21875 43.3125 52.78125 \nQ 43.3125 58.59375 39.234375 62.25 \nQ 35.15625 65.921875 28.609375 65.921875 \nQ 23.96875 65.921875 18.8125 64.3125 \nQ 13.671875 62.703125 7.8125 59.421875 \nL 7.8125 69.390625 \nQ 13.765625 71.78125 18.9375 73 \nQ 24.125 74.21875 28.421875 74.21875 \nQ 39.75 74.21875 46.484375 68.546875 \nQ 53.21875 62.890625 53.21875 53.421875 \nQ 53.21875 48.921875 51.53125 44.890625 \nQ 49.859375 40.875 45.40625 35.40625 \nQ 44.1875 33.984375 37.640625 27.21875 \nQ 31.109375 20.453125 19.1875 8.296875 \nz\n\" id=\"DejaVuSans-50\"/>\n        <path d=\"M 31.78125 66.40625 \nQ 24.171875 66.40625 20.328125 58.90625 \nQ 16.5 51.421875 16.5 36.375 \nQ 16.5 21.390625 20.328125 13.890625 \nQ 24.171875 6.390625 31.78125 6.390625 \nQ 39.453125 6.390625 43.28125 13.890625 \nQ 47.125 21.390625 47.125 36.375 \nQ 47.125 51.421875 43.28125 58.90625 \nQ 39.453125 66.40625 31.78125 66.40625 \nz\nM 31.78125 74.21875 \nQ 44.046875 74.21875 50.515625 64.515625 \nQ 56.984375 54.828125 56.984375 36.375 \nQ 56.984375 17.96875 50.515625 8.265625 \nQ 44.046875 -1.421875 31.78125 -1.421875 \nQ 19.53125 -1.421875 13.0625 8.265625 \nQ 6.59375 17.96875 6.59375 36.375 \nQ 6.59375 54.828125 13.0625 64.515625 \nQ 19.53125 74.21875 31.78125 74.21875 \nz\n\" id=\"DejaVuSans-48\"/>\n        <path d=\"M 31.78125 34.625 \nQ 24.75 34.625 20.71875 30.859375 \nQ 16.703125 27.09375 16.703125 20.515625 \nQ 16.703125 13.921875 20.71875 10.15625 \nQ 24.75 6.390625 31.78125 6.390625 \nQ 38.8125 6.390625 42.859375 10.171875 \nQ 46.921875 13.96875 46.921875 20.515625 \nQ 46.921875 27.09375 42.890625 30.859375 \nQ 38.875 34.625 31.78125 34.625 \nz\nM 21.921875 38.8125 \nQ 15.578125 40.375 12.03125 44.71875 \nQ 8.5 49.078125 8.5 55.328125 \nQ 8.5 64.0625 14.71875 69.140625 \nQ 20.953125 74.21875 31.78125 74.21875 \nQ 42.671875 74.21875 48.875 69.140625 \nQ 55.078125 64.0625 55.078125 55.328125 \nQ 55.078125 49.078125 51.53125 44.71875 \nQ 48 40.375 41.703125 38.8125 \nQ 48.828125 37.15625 52.796875 32.3125 \nQ 56.78125 27.484375 56.78125 20.515625 \nQ 56.78125 9.90625 50.3125 4.234375 \nQ 43.84375 -1.421875 31.78125 -1.421875 \nQ 19.734375 -1.421875 13.25 4.234375 \nQ 6.78125 9.90625 6.78125 20.515625 \nQ 6.78125 27.484375 10.78125 32.3125 \nQ 14.796875 37.15625 21.921875 38.8125 \nz\nM 18.3125 54.390625 \nQ 18.3125 48.734375 21.84375 45.5625 \nQ 25.390625 42.390625 31.78125 42.390625 \nQ 38.140625 42.390625 41.71875 45.5625 \nQ 45.3125 48.734375 45.3125 54.390625 \nQ 45.3125 60.0625 41.71875 63.234375 \nQ 38.140625 66.40625 31.78125 66.40625 \nQ 25.390625 66.40625 21.84375 63.234375 \nQ 18.3125 60.0625 18.3125 54.390625 \nz\n\" id=\"DejaVuSans-56\"/>\n       </defs>\n       <use xlink:href=\"#DejaVuSans-50\"/>\n       <use x=\"63.623047\" xlink:href=\"#DejaVuSans-48\"/>\n       <use x=\"127.246094\" xlink:href=\"#DejaVuSans-48\"/>\n       <use x=\"190.869141\" xlink:href=\"#DejaVuSans-56\"/>\n      </g>\n     </g>\n    </g>\n    <g id=\"xtick_2\">\n     <g id=\"line2d_2\">\n      <g>\n       <use style=\"stroke:#000000;stroke-width:0.8;\" x=\"90.279008\" xlink:href=\"#m480dfba92c\" y=\"239.758125\"/>\n      </g>\n     </g>\n     <g id=\"text_2\">\n      <!-- 2010 -->\n      <g transform=\"translate(77.554008 254.356563)scale(0.1 -0.1)\">\n       <defs>\n        <path d=\"M 12.40625 8.296875 \nL 28.515625 8.296875 \nL 28.515625 63.921875 \nL 10.984375 60.40625 \nL 10.984375 69.390625 \nL 28.421875 72.90625 \nL 38.28125 72.90625 \nL 38.28125 8.296875 \nL 54.390625 8.296875 \nL 54.390625 0 \nL 12.40625 0 \nz\n\" id=\"DejaVuSans-49\"/>\n       </defs>\n       <use xlink:href=\"#DejaVuSans-50\"/>\n       <use x=\"63.623047\" xlink:href=\"#DejaVuSans-48\"/>\n       <use x=\"127.246094\" xlink:href=\"#DejaVuSans-49\"/>\n       <use x=\"190.869141\" xlink:href=\"#DejaVuSans-48\"/>\n      </g>\n     </g>\n    </g>\n    <g id=\"xtick_3\">\n     <g id=\"line2d_3\">\n      <g>\n       <use style=\"stroke:#000000;stroke-width:0.8;\" x=\"137.163468\" xlink:href=\"#m480dfba92c\" y=\"239.758125\"/>\n      </g>\n     </g>\n     <g id=\"text_3\">\n      <!-- 2012 -->\n      <g transform=\"translate(124.438468 254.356563)scale(0.1 -0.1)\">\n       <use xlink:href=\"#DejaVuSans-50\"/>\n       <use x=\"63.623047\" xlink:href=\"#DejaVuSans-48\"/>\n       <use x=\"127.246094\" xlink:href=\"#DejaVuSans-49\"/>\n       <use x=\"190.869141\" xlink:href=\"#DejaVuSans-50\"/>\n      </g>\n     </g>\n    </g>\n    <g id=\"xtick_4\">\n     <g id=\"line2d_4\">\n      <g>\n       <use style=\"stroke:#000000;stroke-width:0.8;\" x=\"184.112153\" xlink:href=\"#m480dfba92c\" y=\"239.758125\"/>\n      </g>\n     </g>\n     <g id=\"text_4\">\n      <!-- 2014 -->\n      <g transform=\"translate(171.387153 254.356563)scale(0.1 -0.1)\">\n       <defs>\n        <path d=\"M 37.796875 64.3125 \nL 12.890625 25.390625 \nL 37.796875 25.390625 \nz\nM 35.203125 72.90625 \nL 47.609375 72.90625 \nL 47.609375 25.390625 \nL 58.015625 25.390625 \nL 58.015625 17.1875 \nL 47.609375 17.1875 \nL 47.609375 0 \nL 37.796875 0 \nL 37.796875 17.1875 \nL 4.890625 17.1875 \nL 4.890625 26.703125 \nz\n\" id=\"DejaVuSans-52\"/>\n       </defs>\n       <use xlink:href=\"#DejaVuSans-50\"/>\n       <use x=\"63.623047\" xlink:href=\"#DejaVuSans-48\"/>\n       <use x=\"127.246094\" xlink:href=\"#DejaVuSans-49\"/>\n       <use x=\"190.869141\" xlink:href=\"#DejaVuSans-52\"/>\n      </g>\n     </g>\n    </g>\n    <g id=\"xtick_5\">\n     <g id=\"line2d_5\">\n      <g>\n       <use style=\"stroke:#000000;stroke-width:0.8;\" x=\"230.996612\" xlink:href=\"#m480dfba92c\" y=\"239.758125\"/>\n      </g>\n     </g>\n     <g id=\"text_5\">\n      <!-- 2016 -->\n      <g transform=\"translate(218.271612 254.356563)scale(0.1 -0.1)\">\n       <defs>\n        <path d=\"M 33.015625 40.375 \nQ 26.375 40.375 22.484375 35.828125 \nQ 18.609375 31.296875 18.609375 23.390625 \nQ 18.609375 15.53125 22.484375 10.953125 \nQ 26.375 6.390625 33.015625 6.390625 \nQ 39.65625 6.390625 43.53125 10.953125 \nQ 47.40625 15.53125 47.40625 23.390625 \nQ 47.40625 31.296875 43.53125 35.828125 \nQ 39.65625 40.375 33.015625 40.375 \nz\nM 52.59375 71.296875 \nL 52.59375 62.3125 \nQ 48.875 64.0625 45.09375 64.984375 \nQ 41.3125 65.921875 37.59375 65.921875 \nQ 27.828125 65.921875 22.671875 59.328125 \nQ 17.53125 52.734375 16.796875 39.40625 \nQ 19.671875 43.65625 24.015625 45.921875 \nQ 28.375 48.1875 33.59375 48.1875 \nQ 44.578125 48.1875 50.953125 41.515625 \nQ 57.328125 34.859375 57.328125 23.390625 \nQ 57.328125 12.15625 50.6875 5.359375 \nQ 44.046875 -1.421875 33.015625 -1.421875 \nQ 20.359375 -1.421875 13.671875 8.265625 \nQ 6.984375 17.96875 6.984375 36.375 \nQ 6.984375 53.65625 15.1875 63.9375 \nQ 23.390625 74.21875 37.203125 74.21875 \nQ 40.921875 74.21875 44.703125 73.484375 \nQ 48.484375 72.75 52.59375 71.296875 \nz\n\" id=\"DejaVuSans-54\"/>\n       </defs>\n       <use xlink:href=\"#DejaVuSans-50\"/>\n       <use x=\"63.623047\" xlink:href=\"#DejaVuSans-48\"/>\n       <use x=\"127.246094\" xlink:href=\"#DejaVuSans-49\"/>\n       <use x=\"190.869141\" xlink:href=\"#DejaVuSans-54\"/>\n      </g>\n     </g>\n    </g>\n    <g id=\"xtick_6\">\n     <g id=\"line2d_6\">\n      <g>\n       <use style=\"stroke:#000000;stroke-width:0.8;\" x=\"277.945297\" xlink:href=\"#m480dfba92c\" y=\"239.758125\"/>\n      </g>\n     </g>\n     <g id=\"text_6\">\n      <!-- 2018 -->\n      <g transform=\"translate(265.220297 254.356563)scale(0.1 -0.1)\">\n       <use xlink:href=\"#DejaVuSans-50\"/>\n       <use x=\"63.623047\" xlink:href=\"#DejaVuSans-48\"/>\n       <use x=\"127.246094\" xlink:href=\"#DejaVuSans-49\"/>\n       <use x=\"190.869141\" xlink:href=\"#DejaVuSans-56\"/>\n      </g>\n     </g>\n    </g>\n    <g id=\"xtick_7\">\n     <g id=\"line2d_7\">\n      <g>\n       <use style=\"stroke:#000000;stroke-width:0.8;\" x=\"324.829757\" xlink:href=\"#m480dfba92c\" y=\"239.758125\"/>\n      </g>\n     </g>\n     <g id=\"text_7\">\n      <!-- 2020 -->\n      <g transform=\"translate(312.104757 254.356563)scale(0.1 -0.1)\">\n       <use xlink:href=\"#DejaVuSans-50\"/>\n       <use x=\"63.623047\" xlink:href=\"#DejaVuSans-48\"/>\n       <use x=\"127.246094\" xlink:href=\"#DejaVuSans-50\"/>\n       <use x=\"190.869141\" xlink:href=\"#DejaVuSans-48\"/>\n      </g>\n     </g>\n    </g>\n   </g>\n   <g id=\"matplotlib.axis_2\">\n    <g id=\"ytick_1\">\n     <g id=\"line2d_8\">\n      <defs>\n       <path d=\"M 0 0 \nL -3.5 0 \n\" id=\"m5b8896f28c\" style=\"stroke:#000000;stroke-width:0.8;\"/>\n      </defs>\n      <g>\n       <use style=\"stroke:#000000;stroke-width:0.8;\" x=\"30.103125\" xlink:href=\"#m5b8896f28c\" y=\"229.874489\"/>\n      </g>\n     </g>\n     <g id=\"text_8\">\n      <!-- 0.0 -->\n      <g transform=\"translate(7.2 233.673708)scale(0.1 -0.1)\">\n       <defs>\n        <path d=\"M 10.6875 12.40625 \nL 21 12.40625 \nL 21 0 \nL 10.6875 0 \nz\n\" id=\"DejaVuSans-46\"/>\n       </defs>\n       <use xlink:href=\"#DejaVuSans-48\"/>\n       <use x=\"63.623047\" xlink:href=\"#DejaVuSans-46\"/>\n       <use x=\"95.410156\" xlink:href=\"#DejaVuSans-48\"/>\n      </g>\n     </g>\n    </g>\n    <g id=\"ytick_2\">\n     <g id=\"line2d_9\">\n      <g>\n       <use style=\"stroke:#000000;stroke-width:0.8;\" x=\"30.103125\" xlink:href=\"#m5b8896f28c\" y=\"192.180283\"/>\n      </g>\n     </g>\n     <g id=\"text_9\">\n      <!-- 0.5 -->\n      <g transform=\"translate(7.2 195.979502)scale(0.1 -0.1)\">\n       <defs>\n        <path d=\"M 10.796875 72.90625 \nL 49.515625 72.90625 \nL 49.515625 64.59375 \nL 19.828125 64.59375 \nL 19.828125 46.734375 \nQ 21.96875 47.46875 24.109375 47.828125 \nQ 26.265625 48.1875 28.421875 48.1875 \nQ 40.625 48.1875 47.75 41.5 \nQ 54.890625 34.8125 54.890625 23.390625 \nQ 54.890625 11.625 47.5625 5.09375 \nQ 40.234375 -1.421875 26.90625 -1.421875 \nQ 22.3125 -1.421875 17.546875 -0.640625 \nQ 12.796875 0.140625 7.71875 1.703125 \nL 7.71875 11.625 \nQ 12.109375 9.234375 16.796875 8.0625 \nQ 21.484375 6.890625 26.703125 6.890625 \nQ 35.15625 6.890625 40.078125 11.328125 \nQ 45.015625 15.765625 45.015625 23.390625 \nQ 45.015625 31 40.078125 35.4375 \nQ 35.15625 39.890625 26.703125 39.890625 \nQ 22.75 39.890625 18.8125 39.015625 \nQ 14.890625 38.140625 10.796875 36.28125 \nz\n\" id=\"DejaVuSans-53\"/>\n       </defs>\n       <use xlink:href=\"#DejaVuSans-48\"/>\n       <use x=\"63.623047\" xlink:href=\"#DejaVuSans-46\"/>\n       <use x=\"95.410156\" xlink:href=\"#DejaVuSans-53\"/>\n      </g>\n     </g>\n    </g>\n    <g id=\"ytick_3\">\n     <g id=\"line2d_10\">\n      <g>\n       <use style=\"stroke:#000000;stroke-width:0.8;\" x=\"30.103125\" xlink:href=\"#m5b8896f28c\" y=\"154.486077\"/>\n      </g>\n     </g>\n     <g id=\"text_10\">\n      <!-- 1.0 -->\n      <g transform=\"translate(7.2 158.285296)scale(0.1 -0.1)\">\n       <use xlink:href=\"#DejaVuSans-49\"/>\n       <use x=\"63.623047\" xlink:href=\"#DejaVuSans-46\"/>\n       <use x=\"95.410156\" xlink:href=\"#DejaVuSans-48\"/>\n      </g>\n     </g>\n    </g>\n    <g id=\"ytick_4\">\n     <g id=\"line2d_11\">\n      <g>\n       <use style=\"stroke:#000000;stroke-width:0.8;\" x=\"30.103125\" xlink:href=\"#m5b8896f28c\" y=\"116.791871\"/>\n      </g>\n     </g>\n     <g id=\"text_11\">\n      <!-- 1.5 -->\n      <g transform=\"translate(7.2 120.59109)scale(0.1 -0.1)\">\n       <use xlink:href=\"#DejaVuSans-49\"/>\n       <use x=\"63.623047\" xlink:href=\"#DejaVuSans-46\"/>\n       <use x=\"95.410156\" xlink:href=\"#DejaVuSans-53\"/>\n      </g>\n     </g>\n    </g>\n    <g id=\"ytick_5\">\n     <g id=\"line2d_12\">\n      <g>\n       <use style=\"stroke:#000000;stroke-width:0.8;\" x=\"30.103125\" xlink:href=\"#m5b8896f28c\" y=\"79.097666\"/>\n      </g>\n     </g>\n     <g id=\"text_12\">\n      <!-- 2.0 -->\n      <g transform=\"translate(7.2 82.896884)scale(0.1 -0.1)\">\n       <use xlink:href=\"#DejaVuSans-50\"/>\n       <use x=\"63.623047\" xlink:href=\"#DejaVuSans-46\"/>\n       <use x=\"95.410156\" xlink:href=\"#DejaVuSans-48\"/>\n      </g>\n     </g>\n    </g>\n    <g id=\"ytick_6\">\n     <g id=\"line2d_13\">\n      <g>\n       <use style=\"stroke:#000000;stroke-width:0.8;\" x=\"30.103125\" xlink:href=\"#m5b8896f28c\" y=\"41.40346\"/>\n      </g>\n     </g>\n     <g id=\"text_13\">\n      <!-- 2.5 -->\n      <g transform=\"translate(7.2 45.202679)scale(0.1 -0.1)\">\n       <use xlink:href=\"#DejaVuSans-50\"/>\n       <use x=\"63.623047\" xlink:href=\"#DejaVuSans-46\"/>\n       <use x=\"95.410156\" xlink:href=\"#DejaVuSans-53\"/>\n      </g>\n     </g>\n    </g>\n    <g id=\"text_14\">\n     <!-- 1e9 -->\n     <g transform=\"translate(30.103125 19.318125)scale(0.1 -0.1)\">\n      <defs>\n       <path d=\"M 56.203125 29.59375 \nL 56.203125 25.203125 \nL 14.890625 25.203125 \nQ 15.484375 15.921875 20.484375 11.0625 \nQ 25.484375 6.203125 34.421875 6.203125 \nQ 39.59375 6.203125 44.453125 7.46875 \nQ 49.3125 8.734375 54.109375 11.28125 \nL 54.109375 2.78125 \nQ 49.265625 0.734375 44.1875 -0.34375 \nQ 39.109375 -1.421875 33.890625 -1.421875 \nQ 20.796875 -1.421875 13.15625 6.1875 \nQ 5.515625 13.8125 5.515625 26.8125 \nQ 5.515625 40.234375 12.765625 48.109375 \nQ 20.015625 56 32.328125 56 \nQ 43.359375 56 49.78125 48.890625 \nQ 56.203125 41.796875 56.203125 29.59375 \nz\nM 47.21875 32.234375 \nQ 47.125 39.59375 43.09375 43.984375 \nQ 39.0625 48.390625 32.421875 48.390625 \nQ 24.90625 48.390625 20.390625 44.140625 \nQ 15.875 39.890625 15.1875 32.171875 \nz\n\" id=\"DejaVuSans-101\"/>\n       <path d=\"M 10.984375 1.515625 \nL 10.984375 10.5 \nQ 14.703125 8.734375 18.5 7.8125 \nQ 22.3125 6.890625 25.984375 6.890625 \nQ 35.75 6.890625 40.890625 13.453125 \nQ 46.046875 20.015625 46.78125 33.40625 \nQ 43.953125 29.203125 39.59375 26.953125 \nQ 35.25 24.703125 29.984375 24.703125 \nQ 19.046875 24.703125 12.671875 31.3125 \nQ 6.296875 37.9375 6.296875 49.421875 \nQ 6.296875 60.640625 12.9375 67.421875 \nQ 19.578125 74.21875 30.609375 74.21875 \nQ 43.265625 74.21875 49.921875 64.515625 \nQ 56.59375 54.828125 56.59375 36.375 \nQ 56.59375 19.140625 48.40625 8.859375 \nQ 40.234375 -1.421875 26.421875 -1.421875 \nQ 22.703125 -1.421875 18.890625 -0.6875 \nQ 15.09375 0.046875 10.984375 1.515625 \nz\nM 30.609375 32.421875 \nQ 37.25 32.421875 41.125 36.953125 \nQ 45.015625 41.5 45.015625 49.421875 \nQ 45.015625 57.28125 41.125 61.84375 \nQ 37.25 66.40625 30.609375 66.40625 \nQ 23.96875 66.40625 20.09375 61.84375 \nQ 16.21875 57.28125 16.21875 49.421875 \nQ 16.21875 41.5 20.09375 36.953125 \nQ 23.96875 32.421875 30.609375 32.421875 \nz\n\" id=\"DejaVuSans-57\"/>\n      </defs>\n      <use xlink:href=\"#DejaVuSans-49\"/>\n      <use x=\"63.623047\" xlink:href=\"#DejaVuSans-101\"/>\n      <use x=\"125.146484\" xlink:href=\"#DejaVuSans-57\"/>\n     </g>\n    </g>\n   </g>\n   <g id=\"line2d_14\">\n    <path clip-path=\"url(#p54f0ffaea1)\" d=\"M 45.321307 229.874488 \nL 349.684943 229.874478 \nL 349.684943 229.874478 \n\" style=\"fill:none;stroke:#1f77b4;stroke-linecap:square;stroke-width:1.5;\"/>\n   </g>\n   <g id=\"line2d_15\">\n    <path clip-path=\"url(#p54f0ffaea1)\" d=\"M 45.321307 229.874488 \nL 349.684943 229.874479 \nL 349.684943 229.874479 \n\" style=\"fill:none;stroke:#ff7f0e;stroke-linecap:square;stroke-width:1.5;\"/>\n   </g>\n   <g id=\"line2d_16\">\n    <path clip-path=\"url(#p54f0ffaea1)\" d=\"M 45.321307 229.874488 \nL 349.684943 229.874479 \nL 349.684943 229.874479 \n\" style=\"fill:none;stroke:#2ca02c;stroke-linecap:square;stroke-width:1.5;\"/>\n   </g>\n   <g id=\"line2d_17\">\n    <path clip-path=\"url(#p54f0ffaea1)\" d=\"M 45.321307 229.874488 \nL 349.684943 229.874478 \nL 349.684943 229.874478 \n\" style=\"fill:none;stroke:#d62728;stroke-linecap:square;stroke-width:1.5;\"/>\n   </g>\n   <g id=\"line2d_18\">\n    <path clip-path=\"url(#p54f0ffaea1)\" d=\"M 45.321307 153.676104 \nL 45.513983 162.082666 \nL 45.642433 111.267982 \nL 45.706659 72.815429 \nL 45.770884 127.649853 \nL 45.96356 139.300409 \nL 46.027785 137.449804 \nL 46.156236 157.946616 \nL 46.220461 161.926883 \nL 46.477362 154.105667 \nL 46.605813 159.151504 \nL 46.670038 114.539416 \nL 46.862714 135.128263 \nL 47.05539 107.87686 \nL 47.119615 135.225786 \nL 47.376516 95.277255 \nL 47.440741 137.762214 \nL 47.504967 118.774677 \nL 47.569192 137.111853 \nL 47.761868 154.517077 \nL 47.954544 134.726563 \nL 48.018769 142.677176 \nL 48.211445 149.012969 \nL 48.27567 139.022406 \nL 48.404121 161.362435 \nL 48.789472 140.759024 \nL 48.917923 176.001146 \nL 49.110599 171.971273 \nL 49.239049 151.095981 \nL 49.303275 150.598448 \nL 49.3675 165.461333 \nL 49.560176 142.550101 \nL 49.688626 164.030371 \nL 49.752852 157.821019 \nL 49.817077 138.648781 \nL 50.073978 177.250573 \nL 50.138203 169.882351 \nL 50.202429 176.780903 \nL 50.266654 152.468261 \nL 50.45933 151.53441 \nL 50.652006 102.010737 \nL 50.716231 155.05345 \nL 50.908907 170.527646 \nL 51.037357 143.967554 \nL 51.101583 161.755269 \nL 51.165808 154.027565 \nL 51.358484 165.450779 \nL 51.422709 160.602309 \nL 51.486934 142.640025 \nL 51.615385 179.13263 \nL 51.936511 160.756614 \nL 52.064962 172.144365 \nL 52.450314 138.900609 \nL 52.514539 161.503442 \nL 52.835665 173.787049 \nL 52.964116 183.873656 \nL 53.156792 178.622431 \nL 53.221017 173.293948 \nL 53.285242 175.06835 \nL 53.349468 172.922645 \nL 53.606369 87.511555 \nL 53.734819 157.384701 \nL 53.86327 128.404913 \nL 54.248622 170.170697 \nL 54.312847 162.901897 \nL 54.569748 182.986877 \nL 54.633973 181.290367 \nL 54.762424 151.300947 \nL 54.9551 178.293979 \nL 55.019325 146.096794 \nL 55.08355 166.735247 \nL 55.147776 190.419059 \nL 55.533127 162.343359 \nL 55.597353 166.496296 \nL 55.661578 159.762392 \nL 55.854254 163.076255 \nL 55.918479 151.467284 \nL 55.982705 173.499758 \nL 56.04693 172.765807 \nL 56.303831 127.310847 \nL 56.368056 88.175003 \nL 56.560732 182.105587 \nL 56.753408 171.017791 \nL 57.010309 188.815005 \nL 57.202985 185.204774 \nL 57.331436 170.211436 \nL 57.395661 179.185402 \nL 57.459886 176.047374 \nL 57.652562 162.680466 \nL 58.102139 188.259 \nL 58.166364 183.419818 \nL 58.35904 196.732899 \nL 58.551716 193.354442 \nL 58.615941 196.285182 \nL 58.680167 193.855353 \nL 58.744392 197.353074 \nL 58.808617 184.694998 \nL 59.065518 171.013991 \nL 59.129744 174.47646 \nL 59.193969 173.831799 \nL 59.258194 170.552554 \nL 59.515095 136.013986 \nL 59.707771 170.089428 \nL 59.900447 160.469324 \nL 60.093123 103.504392 \nL 60.350024 165.288241 \nL 60.414249 133.34985 \nL 60.478475 150.941676 \nL 60.5427 154.030309 \nL 60.606925 144.953122 \nL 60.799601 32.201761 \nL 60.928052 132.134619 \nL 61.056502 56.903438 \nL 61.249178 70.999654 \nL 61.313403 88.236852 \nL 61.377629 63.436387 \nL 61.441854 107.942508 \nL 61.506079 62.565017 \nL 61.698755 113.845994 \nL 61.76298 80.530468 \nL 61.827206 110.446007 \nL 61.891431 80.566141 \nL 61.955656 97.022949 \nL 62.148332 113.085023 \nL 62.276783 60.340365 \nL 62.405233 110.002512 \nL 62.597909 138.747148 \nL 62.72636 82.793326 \nL 62.790585 106.381516 \nL 62.85481 104.74812 \nL 63.047486 150.118223 \nL 63.111711 124.430135 \nL 63.175937 135.152327 \nL 63.240162 130.431565 \nL 63.304387 147.30506 \nL 63.497063 145.151333 \nL 63.561288 137.558514 \nL 63.625514 140.993331 \nL 63.689739 90.0978 \nL 63.753964 123.933657 \nL 63.94664 142.23347 \nL 64.010865 138.677489 \nL 64.075091 141.526749 \nL 64.139316 100.446578 \nL 64.203541 111.569626 \nL 64.396217 121.144979 \nL 64.653118 207.42575 \nL 64.974245 128.95353 \nL 65.102695 151.184427 \nL 65.359596 139.144837 \nL 65.423822 159.15657 \nL 65.488047 151.424011 \nL 65.552272 151.382005 \nL 65.744948 162.64627 \nL 65.873399 132.332408 \nL 66.001849 169.419014 \nL 66.194525 166.190852 \nL 66.322976 209.41905 \nL 66.451426 206.630372 \nL 66.708327 156.928541 \nL 66.772553 184.072923 \nL 66.901003 173.633588 \nL 67.157904 132.675426 \nL 67.35058 188.648668 \nL 67.543256 183.305831 \nL 67.671707 152.852863 \nL 67.735932 91.790511 \nL 67.800157 150.895659 \nL 68.057059 160.523573 \nL 68.185509 123.612382 \nL 68.249734 172.295082 \nL 68.44241 177.687735 \nL 68.506636 183.281556 \nL 68.570861 164.934459 \nL 68.635086 185.189576 \nL 68.699311 180.760537 \nL 68.891987 187.789119 \nL 68.956213 184.69352 \nL 69.020438 168.928868 \nL 69.084663 173.389993 \nL 69.148888 178.066849 \nL 69.341564 175.97096 \nL 69.40579 165.865144 \nL 69.470015 178.989301 \nL 69.53424 168.267953 \nL 69.598465 183.964635 \nL 69.919592 178.250073 \nL 69.983817 160.305731 \nL 70.048042 173.309357 \nL 70.304944 169.02808 \nL 70.369169 167.071931 \nL 70.433394 182.389711 \nL 70.497619 176.600634 \nL 70.690295 171.755331 \nL 70.882971 176.582481 \nL 70.947196 153.645708 \nL 71.139872 177.230942 \nL 71.268323 166.067788 \nL 71.396773 184.553358 \nL 71.589449 169.77153 \nL 71.653675 170.570496 \nL 71.7179 169.862509 \nL 71.782125 192.166653 \nL 71.84635 177.435275 \nL 72.103252 181.579768 \nL 72.167477 181.126985 \nL 72.231702 183.416229 \nL 72.295927 192.717591 \nL 72.488603 191.969497 \nL 72.681279 168.631446 \nL 72.745504 181.909275 \nL 72.93818 180.264059 \nL 73.066631 195.525267 \nL 73.130856 189.861577 \nL 73.387757 200.530575 \nL 73.580433 185.135538 \nL 73.644659 192.369086 \nL 73.837334 194.708358 \nL 73.90156 194.390249 \nL 74.03001 158.620619 \nL 74.094236 189.10715 \nL 74.351137 195.508169 \nL 74.415362 195.338243 \nL 74.479587 192.29415 \nL 74.543813 199.906389 \nL 74.736488 183.935927 \nL 74.800714 199.850662 \nL 74.864939 194.175151 \nL 74.929164 189.784741 \nL 74.99339 194.595426 \nL 75.186065 199.367905 \nL 75.250291 183.926639 \nL 75.314516 184.945137 \nL 75.442967 202.164181 \nL 75.635642 195.283149 \nL 75.699868 201.798156 \nL 75.764093 200.579758 \nL 75.828318 199.120088 \nL 75.892544 207.408863 \nL 76.21367 181.141761 \nL 76.342121 195.457086 \nL 76.534796 195.761263 \nL 76.599022 195.480516 \nL 76.984373 159.638694 \nL 77.177049 190.308871 \nL 77.241275 187.42436 \nL 77.43395 189.183563 \nL 77.498176 191.064143 \nL 77.562401 186.796585 \nL 77.626626 197.632343 \nL 77.690852 175.454851 \nL 77.883527 182.009331 \nL 77.947753 176.610133 \nL 78.011978 193.271485 \nL 78.076203 185.436971 \nL 78.140429 196.749997 \nL 78.333104 187.08282 \nL 78.52578 201.94465 \nL 78.782681 192.279162 \nL 78.846907 195.075439 \nL 78.911132 186.456101 \nL 78.975357 204.014364 \nL 79.039583 196.305869 \nL 79.232258 193.424101 \nL 79.296484 203.696044 \nL 79.48916 184.479055 \nL 79.681836 174.424322 \nL 79.746061 163.926093 \nL 79.810286 163.977177 \nL 79.938737 196.827044 \nL 80.131413 197.207846 \nL 80.195638 202.46667 \nL 80.259863 201.064204 \nL 80.324088 194.471729 \nL 80.388314 198.020111 \nL 80.58099 200.153361 \nL 80.645215 200.034941 \nL 80.70944 197.971349 \nL 80.773665 204.120541 \nL 80.837891 200.672426 \nL 81.030567 207.235771 \nL 81.159017 196.321278 \nL 81.223242 196.705035 \nL 81.287468 206.819506 \nL 81.480144 190.342223 \nL 81.672819 204.0893 \nL 81.737045 198.507301 \nL 81.929721 199.196713 \nL 82.058171 206.956502 \nL 82.186622 195.670706 \nL 82.379298 206.403242 \nL 82.443523 194.515213 \nL 82.507748 202.41432 \nL 82.571973 207.713673 \nL 82.636199 201.631819 \nL 82.8931 206.123551 \nL 82.957325 168.727913 \nL 83.02155 192.848677 \nL 83.085776 203.566858 \nL 83.278452 205.598576 \nL 83.342677 197.723533 \nL 83.471127 168.766753 \nL 83.535353 184.522117 \nL 83.792254 202.979402 \nL 83.856479 185.126672 \nL 83.920704 188.34449 \nL 83.98493 196.308613 \nL 84.177606 204.435061 \nL 84.241831 203.836417 \nL 84.306056 189.196018 \nL 84.370281 190.317315 \nL 84.434507 188.161478 \nL 84.627183 197.975149 \nL 84.691408 184.258047 \nL 84.884084 207.765179 \nL 85.07676 208.160757 \nL 85.333661 197.349908 \nL 85.654787 139.881321 \nL 85.783238 198.15204 \nL 85.975914 193.360986 \nL 86.104364 168.177608 \nL 86.16859 186.882709 \nL 86.232815 175.781404 \nL 86.425491 178.687024 \nL 86.682392 207.627549 \nL 86.875068 190.004905 \nL 87.067744 202.453371 \nL 87.131969 203.99811 \nL 87.324645 193.295549 \nL 87.453095 201.655038 \nL 87.517321 188.989363 \nL 87.581546 199.216555 \nL 87.774222 194.072773 \nL 87.902672 208.279177 \nL 88.031123 207.615517 \nL 88.288024 194.761341 \nL 88.352249 175.952174 \nL 88.416475 196.046231 \nL 88.4807 167.536957 \nL 88.801826 178.249862 \nL 88.930277 197.474449 \nL 89.122953 192.497638 \nL 89.251403 203.263525 \nL 89.315629 200.560549 \nL 89.379854 183.980255 \nL 89.57253 183.743837 \nL 89.70098 203.825863 \nL 89.765206 192.113248 \nL 90.022107 181.281712 \nL 90.214783 203.306798 \nL 90.471684 192.652999 \nL 90.535909 184.497842 \nL 90.600134 188.248023 \nL 90.728585 196.129822 \nL 90.921261 195.027733 \nL 91.049711 184.197253 \nL 91.113937 197.239298 \nL 91.178162 185.088676 \nL 91.435063 174.840375 \nL 91.563514 184.026695 \nL 91.627739 163.39943 \nL 91.820415 149.533089 \nL 91.88464 89.116032 \nL 91.948865 100.012793 \nL 92.013091 141.406007 \nL 92.077316 135.944116 \nL 92.398442 183.485888 \nL 92.526893 165.77121 \nL 92.719569 193.818413 \nL 92.783794 182.162158 \nL 92.848019 201.953516 \nL 92.912245 188.384808 \nL 92.97647 180.459737 \nL 93.233371 188.882975 \nL 93.361822 197.998369 \nL 93.618723 200.430519 \nL 93.811399 179.731696 \nL 93.875624 191.617825 \nL 94.132525 187.163456 \nL 94.260976 202.279224 \nL 94.325201 162.053536 \nL 94.517877 197.465795 \nL 94.582102 160.497609 \nL 94.646327 184.926561 \nL 94.710553 199.28938 \nL 94.774778 198.488514 \nL 94.967454 192.670097 \nL 95.16013 204.083389 \nL 95.224355 187.698774 \nL 95.417031 195.46574 \nL 95.481256 184.458158 \nL 95.545481 184.808774 \nL 95.609707 188.992529 \nL 95.673932 181.559925 \nL 95.995058 197.407746 \nL 96.059284 184.40433 \nL 96.316185 178.270548 \nL 96.38041 196.174572 \nL 96.444635 182.492721 \nL 96.508861 186.677743 \nL 96.573086 204.680978 \nL 96.765762 204.768157 \nL 96.829987 206.789743 \nL 97.022663 173.292048 \nL 97.215339 187.134959 \nL 97.34379 155.813577 \nL 97.408015 170.059453 \nL 97.47224 169.793272 \nL 97.664916 193.758253 \nL 97.793367 172.699737 \nL 97.921817 188.97902 \nL 98.114493 195.622367 \nL 98.371394 103.522124 \nL 98.756746 184.663124 \nL 98.820971 172.627333 \nL 99.013647 172.365585 \nL 99.077872 170.869607 \nL 99.206323 133.15755 \nL 99.270548 137.607275 \nL 99.463224 173.013624 \nL 99.527449 150.866951 \nL 99.591675 165.745035 \nL 99.6559 179.644517 \nL 99.720125 168.386585 \nL 99.977026 163.798597 \nL 100.105477 180.86397 \nL 100.169702 172.707125 \nL 100.426603 154.427998 \nL 100.619279 188.73057 \nL 100.811955 184.418262 \nL 100.87618 185.766689 \nL 101.004631 164.071322 \nL 101.068856 170.723113 \nL 101.261532 171.336111 \nL 101.325757 175.801246 \nL 101.389983 171.941721 \nL 101.454208 176.026265 \nL 101.518433 188.415205 \nL 101.711109 185.776188 \nL 101.775334 144.433425 \nL 101.83956 174.128377 \nL 101.903785 152.759984 \nL 101.96801 177.566782 \nL 102.224911 183.492854 \nL 102.353362 174.226955 \nL 102.417587 197.207001 \nL 102.610263 187.43998 \nL 102.674488 140.09262 \nL 102.738714 168.65551 \nL 102.802939 167.689151 \nL 102.867164 151.481216 \nL 103.05984 152.64072 \nL 103.188291 140.48862 \nL 103.316741 189.663154 \nL 103.509417 198.169772 \nL 103.702093 181.338917 \nL 103.766318 196.084649 \nL 104.023219 198.388247 \nL 104.087445 198.18307 \nL 104.15167 208.07991 \nL 104.215895 196.334365 \nL 104.408571 207.02215 \nL 104.537022 183.129572 \nL 104.601247 189.54769 \nL 104.665472 203.121464 \nL 104.858148 205.868557 \nL 104.922373 198.0123 \nL 104.986599 204.265347 \nL 105.050824 197.705801 \nL 105.115049 200.907999 \nL 105.307725 198.66055 \nL 105.37195 184.448025 \nL 105.436176 184.877589 \nL 105.500401 194.705403 \nL 105.564626 188.532147 \nL 105.757302 200.978925 \nL 105.821527 198.15204 \nL 105.885753 177.325931 \nL 105.949978 198.556062 \nL 106.014203 190.613048 \nL 106.271104 204.049615 \nL 106.33533 190.17863 \nL 106.399555 196.811001 \nL 106.46378 200.658283 \nL 106.656456 200.564982 \nL 106.784907 197.505057 \nL 106.849132 180.713464 \nL 106.913357 182.042261 \nL 107.170258 179.509421 \nL 107.234484 185.750436 \nL 107.298709 170.610392 \nL 107.362934 180.91062 \nL 107.55561 193.47434 \nL 107.619835 151.844286 \nL 107.684061 194.468774 \nL 107.748286 179.108566 \nL 107.812511 196.089715 \nL 108.005187 197.057762 \nL 108.133638 179.298756 \nL 108.197863 199.085892 \nL 108.262088 180.238517 \nL 108.454764 197.626855 \nL 108.583215 182.372824 \nL 108.64744 197.058185 \nL 108.711665 160.351748 \nL 108.968567 136.936861 \nL 109.161242 201.771348 \nL 109.482369 199.794301 \nL 109.546594 188.331614 \nL 109.610819 197.418933 \nL 109.803495 197.918155 \nL 109.867721 197.161195 \nL 109.996171 181.438339 \nL 110.060396 202.640184 \nL 110.253072 208.633171 \nL 110.381523 200.908211 \nL 110.445748 202.637862 \nL 110.509973 169.876863 \nL 110.702649 199.447274 \nL 110.766875 180.2953 \nL 110.8311 193.729545 \nL 110.895325 192.595583 \nL 110.95955 200.861771 \nL 111.152226 200.241174 \nL 111.216452 190.714159 \nL 111.409127 211.963288 \nL 111.666029 192.040211 \nL 111.858704 204.084656 \nL 112.05138 196.064173 \nL 112.308281 210.084186 \nL 112.500957 196.717489 \nL 112.565183 203.412553 \nL 112.629408 198.414 \nL 112.693633 205.597098 \nL 112.757858 200.704511 \nL 112.950534 200.803933 \nL 113.01476 210.548368 \nL 113.078985 209.827082 \nL 113.14321 213.051022 \nL 113.400111 211.041257 \nL 113.528562 217.575684 \nL 113.592787 218.001236 \nL 113.657012 215.286228 \nL 113.849688 196.316212 \nL 113.978139 210.611272 \nL 114.299265 196.058263 \nL 114.363491 196.393892 \nL 114.491941 207.500686 \nL 114.556166 206.591532 \nL 114.813068 88.069037 \nL 115.005744 173.001381 \nL 115.32687 191.661942 \nL 115.391095 208.386831 \nL 115.455321 185.240237 \nL 115.776447 210.352268 \nL 115.840672 200.186713 \nL 115.904898 205.611452 \nL 116.097573 193.309481 \nL 116.161799 201.148428 \nL 116.226024 193.481095 \nL 116.290249 159.872579 \nL 116.354475 202.163759 \nL 116.611376 208.451002 \nL 116.804052 168.353233 \nL 117.060953 164.093908 \nL 117.253629 201.225475 \nL 117.446304 199.48738 \nL 117.51053 195.48706 \nL 117.574755 184.446126 \nL 117.63898 192.120847 \nL 117.703206 195.703425 \nL 117.895881 188.703128 \nL 117.960107 203.012331 \nL 118.024332 195.70047 \nL 118.088557 191.611915 \nL 118.152783 194.360486 \nL 118.345458 197.008368 \nL 118.473909 142.27231 \nL 118.538134 180.161682 \nL 118.60236 173.090882 \nL 118.859261 205.303687 \nL 118.923486 201.754883 \nL 119.051937 196.031877 \nL 119.244612 206.552692 \nL 119.308838 203.269858 \nL 119.373063 205.041094 \nL 119.437288 209.216617 \nL 119.501514 198.312256 \nL 119.758415 193.48215 \nL 119.886865 201.720898 \nL 119.951091 201.41271 \nL 120.143766 199.798523 \nL 120.207992 197.786226 \nL 120.336442 207.122206 \nL 120.400668 195.677883 \nL 120.593343 183.895187 \nL 120.657569 198.258217 \nL 120.786019 173.04592 \nL 121.042921 209.780009 \nL 121.107146 204.332895 \nL 121.235596 202.662348 \nL 121.299822 154.007723 \nL 121.556723 206.251681 \nL 121.620948 200.529519 \nL 121.942075 214.438923 \nL 122.070525 204.543983 \nL 122.13475 205.59942 \nL 122.198976 205.289122 \nL 122.455877 195.773717 \nL 122.584327 210.185297 \nL 122.648553 204.395588 \nL 122.841229 200.955494 \nL 123.09813 214.525469 \nL 123.419256 188.057834 \nL 123.547707 206.259069 \nL 123.804608 189.934824 \nL 123.933058 209.135981 \nL 123.997284 197.159296 \nL 124.18996 205.036028 \nL 124.254185 204.651848 \nL 124.639537 181.577235 \nL 124.767987 200.429042 \nL 124.832212 187.675132 \nL 124.896438 196.718123 \nL 125.153339 207.687709 \nL 125.346015 197.056918 \nL 125.602916 203.107532 \nL 125.795592 192.96182 \nL 126.116718 200.349462 \nL 126.437845 186.703074 \nL 126.566295 158.908331 \nL 126.694746 190.919125 \nL 126.887422 185.409951 \nL 126.951647 193.945699 \nL 127.015872 180.16907 \nL 127.080098 185.091209 \nL 127.144323 182.184956 \nL 127.336999 183.673756 \nL 127.401224 181.660614 \nL 127.529675 164.180454 \nL 127.5939 139.062302 \nL 127.786576 143.642691 \nL 127.850801 148.260231 \nL 128.043477 189.995828 \nL 128.236153 195.154808 \nL 128.300378 192.274519 \nL 128.364603 196.548197 \nL 128.428829 165.686142 \nL 128.493054 171.381495 \nL 128.68573 189.517926 \nL 128.878406 164.185098 \nL 128.942631 181.514542 \nL 129.135307 199.321888 \nL 129.199532 198.367983 \nL 129.263757 190.47753 \nL 129.327983 203.961592 \nL 129.392208 196.78356 \nL 129.649109 191.449166 \nL 129.713334 203.445061 \nL 129.77756 198.500968 \nL 129.841785 187.294119 \nL 130.098686 196.66134 \nL 130.162911 189.562466 \nL 130.227137 198.375793 \nL 130.291362 177.214688 \nL 130.484038 167.764932 \nL 130.548263 171.391627 \nL 130.612488 184.190921 \nL 130.676714 156.86226 \nL 130.740939 188.691518 \nL 130.933615 168.593028 \nL 131.062065 197.484793 \nL 131.126291 180.790089 \nL 131.190516 188.588719 \nL 131.383192 179.432163 \nL 131.447417 136.869524 \nL 131.640093 189.507161 \nL 131.832769 196.514001 \nL 131.961219 182.961336 \nL 132.025445 197.745064 \nL 132.08967 186.649246 \nL 132.282346 178.154661 \nL 132.410796 146.641189 \nL 132.475022 188.465866 \nL 132.539247 183.03986 \nL 132.796148 197.425266 \nL 132.860373 195.474395 \nL 132.924599 192.582495 \nL 132.988824 205.535883 \nL 133.1815 200.812166 \nL 133.245725 189.783685 \nL 133.30995 205.196032 \nL 133.374176 196.599069 \nL 133.438401 207.089909 \nL 133.631077 209.498841 \nL 133.823753 173.728788 \nL 133.887978 180.586601 \nL 134.209104 203.548071 \nL 134.27333 193.69556 \nL 134.337555 201.834674 \nL 134.530231 196.101958 \nL 134.787132 210.668477 \nL 135.108258 199.271438 \nL 135.172484 200.685513 \nL 135.429385 202.944994 \nL 135.49361 208.494486 \nL 135.557835 206.900142 \nL 135.622061 201.501578 \nL 135.686286 207.484643 \nL 135.878962 207.177511 \nL 136.007412 199.199879 \nL 136.071638 210.559978 \nL 136.135863 198.099902 \nL 136.328539 212.118226 \nL 136.392764 204.452371 \nL 136.521215 214.61898 \nL 136.58544 209.564911 \nL 136.842341 209.89083 \nL 137.035017 216.330056 \nL 137.291918 207.090543 \nL 137.356143 210.271843 \nL 137.420369 209.423905 \nL 137.67727 200.169615 \nL 137.869946 213.847877 \nL 137.934171 212.835079 \nL 138.191072 211.562855 \nL 138.255297 209.00764 \nL 138.319523 210.142447 \nL 138.383748 198.665616 \nL 138.576424 206.800931 \nL 138.704875 157.628719 \nL 138.833325 207.279888 \nL 139.090226 200.346084 \nL 139.218677 215.792205 \nL 139.282902 208.2682 \nL 139.475578 211.071654 \nL 139.604029 199.12431 \nL 139.668254 163.21494 \nL 139.732479 182.281634 \nL 139.98938 195.165785 \nL 140.053606 116.330494 \nL 140.117831 158.666214 \nL 140.182056 189.480986 \nL 140.438957 184.219629 \nL 140.631633 198.58287 \nL 140.888534 184.612251 \nL 140.95276 158.103877 \nL 141.08121 197.328377 \nL 141.338111 168.791873 \nL 141.402337 169.675274 \nL 141.530787 198.292836 \nL 141.723463 199.170116 \nL 141.851914 122.910093 \nL 141.916139 142.445191 \nL 141.980364 167.64229 \nL 142.17304 161.931738 \nL 142.429941 197.420622 \nL 142.751068 180.46037 \nL 142.815293 184.020362 \nL 142.879518 174.762695 \nL 143.072194 184.765712 \nL 143.136419 166.958366 \nL 143.200645 186.678376 \nL 143.26487 181.528051 \nL 143.521771 184.827139 \nL 143.585996 162.799519 \nL 143.650222 177.357806 \nL 143.714447 183.560613 \nL 143.778672 165.067233 \nL 143.971348 150.657341 \nL 144.035573 152.561562 \nL 144.164024 166.946334 \nL 144.228249 152.150152 \nL 144.420925 157.009388 \nL 144.48515 148.74531 \nL 144.677826 199.212333 \nL 144.870502 191.717036 \nL 144.934727 183.81223 \nL 145.063178 200.431575 \nL 145.127403 189.919204 \nL 145.320079 195.186893 \nL 145.384304 192.38745 \nL 145.44853 193.634978 \nL 145.512755 204.75507 \nL 145.57698 199.753351 \nL 145.769656 203.290545 \nL 146.026557 174.668128 \nL 146.219233 182.29641 \nL 146.283458 177.489313 \nL 146.476134 205.108853 \nL 146.733035 201.188535 \nL 146.797261 189.961632 \nL 146.861486 192.807937 \nL 146.925711 190.598061 \nL 147.118387 187.883475 \nL 147.182612 200.607622 \nL 147.246838 199.609389 \nL 147.375288 203.675779 \nL 147.567964 185.299975 \nL 147.696415 207.741959 \nL 147.76064 203.822274 \nL 147.824865 204.600132 \nL 148.017541 196.672528 \nL 148.210217 205.27139 \nL 148.274442 208.428627 \nL 148.467118 206.927583 \nL 148.595569 214.570852 \nL 148.724019 198.098213 \nL 148.916695 199.712188 \nL 148.98092 211.652145 \nL 149.109371 193.357609 \nL 149.173596 198.291991 \nL 149.366272 201.271703 \nL 149.430497 191.278819 \nL 149.494723 194.493049 \nL 149.558948 197.605112 \nL 149.623173 206.396487 \nL 149.880074 207.738582 \nL 149.9443 210.823837 \nL 150.008525 196.940187 \nL 150.07275 199.909766 \nL 150.329652 187.270055 \nL 150.393877 163.73527 \nL 150.522327 199.422365 \nL 150.715003 201.291546 \nL 150.779229 195.020345 \nL 150.907679 204.833595 \nL 150.971904 203.871458 \nL 151.228806 207.978166 \nL 151.421481 215.178362 \nL 151.678383 204.229673 \nL 151.806833 210.685575 \nL 151.871058 196.495425 \nL 152.063734 183.632383 \nL 152.12796 168.604849 \nL 152.25641 198.201646 \nL 152.320635 196.904091 \nL 152.513311 197.683004 \nL 152.641762 214.585206 \nL 152.770212 204.368991 \nL 153.027114 202.139695 \nL 153.091339 204.515697 \nL 153.155564 200.382814 \nL 153.219789 205.021463 \nL 153.476691 191.879996 \nL 153.540916 176.180359 \nL 153.605141 184.765079 \nL 153.669366 184.605708 \nL 153.990493 205.231917 \nL 154.054718 204.501132 \nL 154.118943 186.783287 \nL 154.311619 181.643516 \nL 154.375845 190.763765 \nL 154.44007 186.412828 \nL 154.504295 185.086987 \nL 154.56852 189.533336 \nL 154.761196 188.89374 \nL 154.825422 182.531139 \nL 154.953872 201.926075 \nL 155.018097 185.09332 \nL 155.210773 181.777135 \nL 155.274999 166.653978 \nL 155.339224 191.399561 \nL 155.403449 188.706295 \nL 155.467674 195.194704 \nL 155.66035 197.26885 \nL 155.724576 188.428081 \nL 155.788801 200.545562 \nL 155.853026 193.942532 \nL 155.917251 173.779027 \nL 156.109927 188.657322 \nL 156.174153 176.563905 \nL 156.238378 187.76801 \nL 156.302603 180.395144 \nL 156.366829 153.096458 \nL 156.75218 202.636806 \nL 156.816406 184.688665 \nL 157.009081 189.983796 \nL 157.073307 201.610077 \nL 157.201757 150.253319 \nL 157.265983 159.76978 \nL 157.587109 193.90137 \nL 157.71556 134.365393 \nL 158.165137 209.30654 \nL 158.357812 182.336094 \nL 158.486263 190.607349 \nL 158.550488 191.072164 \nL 158.614714 200.373526 \nL 158.807389 202.411998 \nL 159.000065 141.126316 \nL 159.064291 170.540733 \nL 159.385417 193.149476 \nL 159.449642 182.737161 \nL 159.513868 153.763917 \nL 159.834994 195.997259 \nL 159.899219 193.560675 \nL 159.963445 184.922761 \nL 160.15612 216.624734 \nL 160.605697 180.156404 \nL 160.734148 187.617927 \nL 160.798373 203.265003 \nL 160.862599 185.068623 \nL 161.183725 199.145841 \nL 161.24795 184.555047 \nL 161.312176 203.450338 \nL 161.569077 163.77601 \nL 161.697527 195.672395 \nL 161.761753 194.22159 \nL 162.018654 195.079239 \nL 162.147104 119.743147 \nL 162.21133 138.803297 \nL 162.596681 205.800376 \nL 162.660907 189.203617 \nL 162.853583 193.905381 \nL 163.046258 176.757261 \nL 163.30316 190.86171 \nL 163.367385 183.958935 \nL 163.495835 203.090856 \nL 163.560061 200.34144 \nL 163.816962 197.021455 \nL 163.881187 193.966807 \nL 163.945412 196.162118 \nL 164.009638 204.946949 \nL 164.202314 201.786335 \nL 164.330764 185.595075 \nL 164.394989 205.56058 \nL 164.459215 188.226281 \nL 164.651891 185.94147 \nL 164.716116 181.743994 \nL 164.908792 200.361283 \nL 165.101468 194.12259 \nL 165.165693 194.750153 \nL 165.294143 206.96579 \nL 165.358369 181.327307 \nL 165.551045 184.174245 \nL 165.61527 190.161743 \nL 165.679495 206.605041 \nL 165.74372 200.981458 \nL 165.807946 200.088135 \nL 166.000622 192.094672 \nL 166.064847 207.688132 \nL 166.129072 204.903042 \nL 166.193297 196.489515 \nL 166.450199 200.493212 \nL 166.514424 189.954877 \nL 166.642874 202.851694 \nL 166.7071 200.948317 \nL 166.899776 207.195453 \nL 166.964001 206.759346 \nL 167.028226 201.533874 \nL 167.092451 205.119618 \nL 167.156677 211.885819 \nL 167.349353 205.93716 \nL 167.413578 206.822884 \nL 167.477803 158.628218 \nL 167.542028 179.64325 \nL 167.79893 197.463473 \nL 167.92738 156.774025 \nL 167.991606 200.862193 \nL 168.055831 172.270384 \nL 168.248507 181.601299 \nL 168.312732 177.740507 \nL 168.505408 202.636595 \nL 168.698084 192.433467 \nL 168.762309 193.405103 \nL 168.826534 194.246076 \nL 168.954985 204.630528 \nL 169.147661 205.980222 \nL 169.276111 173.965417 \nL 169.340337 184.399897 \nL 169.404562 197.615456 \nL 169.661463 195.495715 \nL 169.725688 196.474528 \nL 169.854139 209.054712 \nL 170.11104 200.763616 \nL 170.175265 204.952859 \nL 170.239491 203.223208 \nL 170.303716 200.902511 \nL 170.496392 201.803433 \nL 170.624842 207.9674 \nL 170.689068 198.442497 \nL 170.753293 199.377192 \nL 170.945969 195.938154 \nL 171.074419 209.879431 \nL 171.138645 208.326038 \nL 171.20287 209.378943 \nL 171.395546 210.317649 \nL 171.459771 215.171819 \nL 171.652447 193.603737 \nL 171.845123 193.631811 \nL 171.909348 206.190254 \nL 171.973573 202.152361 \nL 172.037799 204.450049 \nL 172.102024 186.261056 \nL 172.2947 200.393579 \nL 172.358925 194.452098 \nL 172.42315 211.711249 \nL 172.808502 203.293711 \nL 172.872727 208.659768 \nL 172.936953 205.275823 \nL 173.001178 208.798663 \nL 173.322304 214.872919 \nL 173.38653 213.373564 \nL 173.450755 209.615994 \nL 173.643431 214.209048 \nL 173.771881 185.249314 \nL 173.900332 214.785317 \nL 174.093008 211.17382 \nL 174.221458 205.527228 \nL 174.285684 214.325569 \nL 174.349909 209.15899 \nL 174.60681 204.630106 \nL 174.735261 210.591852 \nL 174.799486 209.755945 \nL 174.992162 202.400388 \nL 175.056387 163.386343 \nL 175.120612 172.852775 \nL 175.249063 202.560815 \nL 175.441739 191.387318 \nL 175.634415 211.464066 \nL 175.69864 213.083107 \nL 175.955541 197.895569 \nL 176.083992 211.807083 \nL 176.148217 209.346435 \nL 176.469343 203.863014 \nL 176.533569 212.055111 \nL 176.597794 202.770425 \nL 176.79047 204.190622 \nL 176.91892 162.123195 \nL 177.047371 207.345748 \nL 177.240047 188.885297 \nL 177.304272 199.765805 \nL 177.368497 195.432388 \nL 177.432723 199.37677 \nL 177.496948 177.155161 \nL 177.689624 172.420468 \nL 177.8823 211.990729 \nL 177.946525 212.682885 \nL 178.139201 210.261711 \nL 178.203426 203.195766 \nL 178.267651 208.073366 \nL 178.331877 205.542638 \nL 178.396102 210.358811 \nL 178.588778 206.331261 \nL 178.781454 208.871066 \nL 178.845679 209.690086 \nL 179.038355 210.130415 \nL 179.10258 205.744649 \nL 179.166805 210.944368 \nL 179.231031 210.7565 \nL 179.487932 199.86185 \nL 179.552157 189.612282 \nL 179.616382 206.223395 \nL 179.680608 200.867682 \nL 179.744833 204.408886 \nL 180.001734 181.941994 \nL 180.19441 209.150968 \nL 180.387086 211.432403 \nL 180.451311 209.880487 \nL 180.515537 213.034557 \nL 180.643987 208.817239 \nL 180.965114 215.006326 \nL 181.093564 205.906975 \nL 181.414691 215.255409 \nL 181.478916 210.120705 \nL 181.543141 213.008171 \nL 181.735817 212.587052 \nL 181.800042 199.614877 \nL 181.864268 202.474691 \nL 181.992718 205.891354 \nL 182.185394 194.250087 \nL 182.249619 195.876728 \nL 182.313845 201.392023 \nL 182.37807 196.132144 \nL 182.442295 203.914308 \nL 182.634971 205.712985 \nL 182.699196 208.896186 \nL 182.763422 202.75586 \nL 182.827647 210.100862 \nL 182.891872 204.783567 \nL 183.084548 208.570266 \nL 183.148773 212.542512 \nL 183.212999 187.214961 \nL 183.277224 205.726917 \nL 183.341449 196.973961 \nL 183.534125 192.081796 \nL 183.59835 217.242799 \nL 183.983702 210.753756 \nL 184.047927 213.05651 \nL 184.176378 212.181975 \nL 184.240603 200.28698 \nL 184.433279 198.768416 \nL 184.56173 210.384353 \nL 184.625955 208.829904 \nL 184.882856 201.340518 \nL 184.947081 204.803198 \nL 185.011307 200.349462 \nL 185.075532 212.589585 \nL 185.139757 197.703268 \nL 185.396658 205.107375 \nL 185.78201 188.043057 \nL 185.846235 149.546387 \nL 185.910461 191.968442 \nL 185.974686 178.723331 \nL 186.038911 194.834166 \nL 186.360038 205.121096 \nL 186.424263 210.44198 \nL 186.488488 201.959638 \nL 186.681164 203.82333 \nL 186.745389 208.595597 \nL 186.809615 206.647259 \nL 186.87384 206.700242 \nL 186.938065 209.299152 \nL 187.194966 210.254534 \nL 187.259192 206.220018 \nL 187.323417 206.81634 \nL 187.387642 208.857346 \nL 187.580318 208.094053 \nL 187.644543 212.387996 \nL 187.837219 201.832352 \nL 188.158346 214.792072 \nL 188.222571 215.890783 \nL 188.286796 213.234035 \nL 188.479472 216.411325 \nL 188.543697 208.824205 \nL 188.607923 214.847588 \nL 188.672148 210.443669 \nL 188.736373 211.992418 \nL 188.929049 214.831123 \nL 189.0575 212.930491 \nL 189.121725 214.163664 \nL 189.18595 201.675725 \nL 189.378626 203.05877 \nL 189.571302 213.135879 \nL 189.828203 217.158786 \nL 189.892428 214.739511 \nL 189.956654 216.272851 \nL 190.020879 217.635633 \nL 190.085104 209.123738 \nL 190.27778 208.023128 \nL 190.406231 214.33169 \nL 190.534681 209.390131 \nL 190.727357 214.369053 \nL 190.791582 209.784231 \nL 190.855808 213.683651 \nL 190.920033 208.43897 \nL 191.176934 216.112425 \nL 191.241159 214.603571 \nL 191.36961 172.58596 \nL 191.433835 200.452261 \nL 191.626511 179.403033 \nL 191.819187 211.476098 \nL 191.883412 215.436522 \nL 192.076088 208.232949 \nL 192.140314 201.636674 \nL 192.268764 212.512749 \nL 192.332989 207.891409 \nL 192.589891 217.832155 \nL 192.654116 217.329556 \nL 192.782566 209.047958 \nL 192.975242 205.919429 \nL 193.103693 215.033556 \nL 193.167918 214.739511 \nL 193.489045 203.574035 \nL 193.55327 206.090832 \nL 193.617495 201.492712 \nL 193.68172 187.353857 \nL 193.938622 207.807607 \nL 194.002847 204.583034 \nL 194.067072 206.971067 \nL 194.131297 203.493189 \nL 194.323973 207.132821 \nL 194.452424 216.099217 \nL 194.516649 213.364728 \nL 194.580874 213.432276 \nL 194.837776 220.910505 \nL 194.902001 219.76822 \nL 194.966226 219.160891 \nL 195.030451 199.448329 \nL 195.351578 218.756507 \nL 195.415803 220.035095 \nL 195.480028 210.56631 \nL 195.73693 218.348204 \nL 195.86538 222.971383 \nL 196.186507 210.206557 \nL 196.250732 218.88708 \nL 196.314957 217.907031 \nL 196.379182 219.616237 \nL 196.700309 213.77264 \nL 196.764534 212.596068 \nL 197.021435 218.090074 \nL 197.149886 201.854727 \nL 197.278336 216.766253 \nL 197.471012 213.193144 \nL 197.599463 219.920203 \nL 197.663688 212.733275 \nL 197.727914 215.24582 \nL 197.920589 217.825008 \nL 197.984815 213.007689 \nL 198.04904 218.247183 \nL 198.113265 215.788616 \nL 198.177491 217.249945 \nL 198.498617 220.250103 \nL 198.562842 221.396006 \nL 198.627068 215.113136 \nL 198.819743 215.528979 \nL 198.883969 208.946967 \nL 199.012419 219.779076 \nL 199.076645 216.550643 \nL 199.26932 217.730923 \nL 199.333546 219.877382 \nL 199.461996 209.230126 \nL 199.526222 216.426704 \nL 199.783123 213.722069 \nL 199.847348 192.053329 \nL 199.911573 204.025913 \nL 199.975799 212.246567 \nL 200.168474 215.895457 \nL 200.2327 172.625645 \nL 200.296925 199.456893 \nL 200.36115 211.071684 \nL 200.425376 210.98936 \nL 200.618051 211.384275 \nL 200.682277 209.698107 \nL 200.746502 211.501881 \nL 200.810727 218.626719 \nL 200.874953 208.493612 \nL 201.067628 213.955954 \nL 201.260304 199.691381 \nL 201.32453 211.066437 \nL 201.517205 214.86728 \nL 201.581431 213.209398 \nL 201.645656 214.3471 \nL 201.966782 218.701564 \nL 202.031008 217.180829 \nL 202.159458 206.541323 \nL 202.223684 209.871953 \nL 202.416359 213.716219 \nL 202.480585 210.668959 \nL 202.54481 199.437594 \nL 202.673261 209.314652 \nL 202.865936 206.498864 \nL 202.930162 201.340307 \nL 203.122838 215.685214 \nL 203.315513 219.565063 \nL 203.443964 213.98626 \nL 203.508189 217.614886 \nL 203.572415 216.413345 \nL 203.765091 214.10848 \nL 203.957766 219.32961 \nL 204.021992 219.714694 \nL 204.214668 221.673587 \nL 204.278893 221.599163 \nL 204.407343 211.925141 \nL 204.471569 216.58695 \nL 204.664245 215.777851 \nL 204.792695 217.248679 \nL 204.85692 216.788418 \nL 204.921146 212.631862 \nL 205.113822 215.565527 \nL 205.178047 209.115415 \nL 205.370723 222.391616 \nL 205.563399 204.600071 \nL 205.756074 217.195817 \nL 205.8203 218.319285 \nL 206.077201 211.718547 \nL 206.205651 217.389655 \nL 206.269877 212.979011 \nL 206.462553 209.604626 \nL 206.591003 213.767966 \nL 206.655228 212.080954 \nL 206.719454 203.20816 \nL 207.04058 225.508113 \nL 207.169031 219.705798 \nL 207.361707 221.55194 \nL 207.425932 220.863614 \nL 207.618608 213.830448 \nL 207.875509 210.033133 \nL 207.939734 217.780408 \nL 208.003959 211.972907 \nL 208.068185 213.681209 \nL 208.260861 214.902109 \nL 208.325086 209.642682 \nL 208.389311 215.111448 \nL 208.453536 211.777048 \nL 208.517762 206.198517 \nL 208.838888 215.226249 \nL 208.903113 213.651988 \nL 208.967339 215.862859 \nL 209.160015 213.103583 \nL 209.288465 185.703785 \nL 209.416916 204.620728 \nL 209.673817 214.21912 \nL 209.738042 208.720591 \nL 209.802268 217.134993 \nL 209.866493 216.694604 \nL 210.059169 218.147128 \nL 210.251845 207.416432 \nL 210.31607 213.508509 \nL 210.572971 210.830652 \nL 210.701422 218.607721 \nL 210.958323 208.47199 \nL 211.022548 208.998503 \nL 211.086773 207.344903 \nL 211.150999 202.34641 \nL 211.215224 211.1737 \nL 211.53635 220.325401 \nL 211.664801 207.908688 \nL 211.857477 203.178397 \nL 212.050153 215.29054 \nL 212.114378 214.245778 \nL 212.307054 219.056463 \nL 212.435504 210.191811 \nL 212.49973 216.060467 \nL 212.563955 209.159231 \nL 212.820856 219.970773 \nL 212.885081 214.297675 \nL 212.949307 215.528707 \nL 213.013532 217.949188 \nL 213.206208 215.671403 \nL 213.398884 220.1584 \nL 213.655785 218.658502 \nL 213.72001 219.316402 \nL 213.784235 218.617732 \nL 213.848461 220.07882 \nL 213.912686 217.755651 \nL 214.105362 218.90846 \nL 214.169587 222.177453 \nL 214.233812 221.138359 \nL 214.298038 221.319713 \nL 214.362263 214.206666 \nL 214.554939 215.685093 \nL 214.619164 220.093566 \nL 214.683389 218.519637 \nL 214.747615 216.072107 \nL 214.81184 216.447541 \nL 215.068741 194.012523 \nL 215.132966 210.760179 \nL 215.197192 204.786613 \nL 215.261417 212.229801 \nL 215.518318 215.016518 \nL 215.582543 208.120107 \nL 215.646769 216.62395 \nL 215.710994 213.123063 \nL 215.90367 217.19844 \nL 215.967895 215.351665 \nL 216.03212 219.412326 \nL 216.096346 216.243209 \nL 216.160571 218.352727 \nL 216.353247 214.530565 \nL 216.481697 218.881381 \nL 216.545923 217.893642 \nL 216.867049 208.55537 \nL 216.9955 220.60675 \nL 217.059725 214.530082 \nL 217.252401 220.190757 \nL 217.316626 219.721901 \nL 217.380851 220.531301 \nL 217.445077 218.279721 \nL 217.509302 219.131097 \nL 217.766203 212.964747 \nL 217.894654 219.202234 \nL 217.958879 218.751321 \nL 218.151555 216.609476 \nL 218.21578 220.377328 \nL 218.280005 219.947916 \nL 218.344231 219.197319 \nL 218.408456 213.374408 \nL 218.665357 220.746792 \nL 218.729582 213.204332 \nL 218.793808 220.243438 \nL 218.858033 216.585985 \nL 219.050709 215.049689 \nL 219.114934 216.494342 \nL 219.243385 221.668913 \nL 219.500286 221.412773 \nL 219.692962 206.17388 \nL 219.757187 211.372816 \nL 220.014088 220.294702 \nL 220.078313 219.72745 \nL 220.142539 218.951492 \nL 220.463665 206.728317 \nL 220.52789 195.059939 \nL 220.656341 217.160294 \nL 220.849017 216.468771 \nL 220.913242 219.736828 \nL 220.977467 218.713476 \nL 221.041693 219.733752 \nL 221.298594 208.772971 \nL 221.362819 192.440041 \nL 221.427045 199.926412 \nL 221.555495 218.213289 \nL 221.748171 213.303633 \nL 221.876622 199.351983 \nL 222.005072 216.928942 \nL 222.197748 217.545558 \nL 222.261973 219.452584 \nL 222.390424 209.217582 \nL 222.454649 191.192544 \nL 222.647325 180.960588 \nL 222.840001 204.358195 \nL 222.904226 213.84257 \nL 223.096902 212.918338 \nL 223.161127 206.701327 \nL 223.225353 211.211696 \nL 223.353803 214.797922 \nL 223.610704 213.336201 \nL 223.67493 204.239172 \nL 223.80338 214.822288 \nL 223.996056 212.274793 \nL 224.124507 218.664684 \nL 224.252957 207.473486 \nL 224.574084 219.091926 \nL 224.702534 212.941679 \nL 224.89521 214.16083 \nL 224.959435 207.750885 \nL 225.023661 209.829313 \nL 225.473238 215.772152 \nL 225.537463 211.184314 \nL 225.601688 213.962679 \nL 225.794364 220.686994 \nL 225.858589 219.908352 \nL 225.922815 216.46669 \nL 225.98704 218.513908 \nL 226.051265 218.043755 \nL 226.243941 220.900494 \nL 226.308166 215.10807 \nL 226.372392 217.270994 \nL 226.436617 217.313543 \nL 226.500842 211.972184 \nL 226.757743 208.800593 \nL 226.821969 204.076152 \nL 226.950419 214.988203 \nL 227.143095 220.163466 \nL 227.20732 216.148068 \nL 227.271546 216.338922 \nL 227.399996 219.910463 \nL 227.592672 219.660445 \nL 227.656897 212.044255 \nL 227.721123 216.238836 \nL 227.785348 220.066276 \nL 227.849573 216.059593 \nL 228.042249 218.383274 \nL 228.106474 221.546512 \nL 228.1707 215.799563 \nL 228.234925 216.818482 \nL 228.29915 219.535089 \nL 228.491826 220.079272 \nL 228.556051 216.967028 \nL 228.748727 225.940299 \nL 228.941403 218.059526 \nL 229.005628 219.364621 \nL 229.069854 219.806638 \nL 229.198304 212.451624 \nL 229.39098 220.199381 \nL 229.455205 219.528334 \nL 229.519431 215.89404 \nL 229.583656 221.065293 \nL 229.647881 215.735784 \nL 229.840557 210.47895 \nL 230.033233 216.373088 \nL 230.097458 200.788644 \nL 230.48281 225.782285 \nL 230.803936 220.547073 \nL 230.868162 222.271175 \nL 230.932387 217.537236 \nL 231.189288 209.474566 \nL 231.253513 213.050509 \nL 231.381964 205.420177 \nL 231.638865 214.875391 \nL 231.70309 215.051861 \nL 231.895766 205.800285 \nL 232.152667 213.865699 \nL 232.216893 208.061787 \nL 232.281118 214.144998 \nL 232.345343 210.032108 \nL 232.538019 214.255668 \nL 232.66647 189.656369 \nL 232.730695 213.084344 \nL 232.79492 210.449458 \nL 233.051822 218.609289 \nL 233.180272 215.860778 \nL 233.244497 215.876942 \nL 233.437173 213.584139 \nL 233.565624 217.105622 \nL 233.629849 214.77428 \nL 233.694074 217.706377 \nL 233.950976 215.0809 \nL 234.143651 219.20727 \nL 234.336327 219.536989 \nL 234.400553 220.242081 \nL 234.464778 218.94145 \nL 234.529003 221.556825 \nL 234.593228 221.132117 \nL 234.785904 219.254885 \nL 234.85013 214.674044 \nL 234.914355 219.872075 \nL 234.97858 218.730363 \nL 235.042805 215.986405 \nL 235.363932 221.671717 \nL 235.428157 219.768341 \nL 235.492382 221.609446 \nL 235.685058 222.312699 \nL 235.749284 217.791928 \nL 235.813509 218.323929 \nL 235.877734 219.494801 \nL 235.941959 216.54425 \nL 236.584212 224.02091 \nL 236.712663 216.123311 \nL 236.841113 222.07209 \nL 237.033789 218.60959 \nL 237.16224 221.912236 \nL 237.226465 220.28451 \nL 237.29069 222.763341 \nL 237.483366 221.00655 \nL 237.547592 221.662489 \nL 237.611817 219.845629 \nL 237.676042 222.192741 \nL 237.740267 215.719862 \nL 237.932943 211.533544 \nL 238.061394 220.64363 \nL 238.189844 219.717227 \nL 238.38252 221.421458 \nL 238.510971 195.315808 \nL 238.575196 205.073903 \nL 238.832097 215.351635 \nL 238.896323 212.736803 \nL 239.024773 219.051578 \nL 239.088999 216.696625 \nL 239.410125 221.214139 \nL 239.47435 206.861513 \nL 239.538576 216.487678 \nL 239.731251 211.401373 \nL 239.923927 220.694563 \nL 240.180828 218.409841 \nL 240.245054 219.277833 \nL 240.309279 218.364548 \nL 240.373504 212.88761 \nL 240.43773 218.915667 \nL 240.694631 217.116598 \nL 240.758856 221.077174 \nL 240.823081 217.754565 \nL 240.887307 221.278732 \nL 241.208433 223.587668 \nL 241.336884 220.311348 \nL 241.529559 218.409268 \nL 241.65801 220.995181 \nL 241.722235 220.427778 \nL 241.786461 211.477244 \nL 242.107587 221.063363 \nL 242.171812 220.152339 \nL 242.236038 207.164062 \nL 242.557164 218.858433 \nL 242.621389 219.067892 \nL 242.685615 222.026103 \nL 242.942516 221.519885 \nL 243.006741 220.541675 \nL 243.070966 222.293551 \nL 243.135192 221.15594 \nL 243.327867 222.69905 \nL 243.392093 222.586691 \nL 243.456318 222.066601 \nL 243.520543 218.138322 \nL 243.584769 220.786567 \nL 243.777444 218.86962 \nL 243.84167 222.703573 \nL 243.905895 221.950865 \nL 243.97012 220.013081 \nL 244.034346 221.336389 \nL 244.227021 217.696878 \nL 244.355472 202.027578 \nL 244.483923 221.51129 \nL 244.676598 218.364819 \nL 244.869274 221.609295 \nL 244.9335 217.645463 \nL 245.254626 222.634638 \nL 245.318851 221.586438 \nL 245.383077 224.247377 \nL 245.575753 222.073839 \nL 245.639978 219.683664 \nL 245.768428 223.244922 \nL 245.832654 222.224646 \nL 246.02533 222.088313 \nL 246.089555 223.464152 \nL 246.15378 222.735176 \nL 246.282231 221.50146 \nL 246.539132 222.376689 \nL 246.603357 220.929684 \nL 246.667582 221.822554 \nL 246.988709 221.768606 \nL 247.117159 213.891542 \nL 247.181385 215.835056 \nL 247.374061 216.21628 \nL 247.438286 211.125029 \nL 247.502511 196.435597 \nL 247.566736 202.739606 \nL 248.016313 220.504011 \nL 248.080539 214.048592 \nL 248.33744 222.454038 \nL 248.530116 218.904239 \nL 248.722792 223.330232 \nL 248.787017 220.907248 \nL 248.851242 223.405228 \nL 248.915467 221.195986 \nL 248.979693 222.529124 \nL 249.172369 218.947391 \nL 249.236594 210.562692 \nL 249.365044 219.262092 \nL 249.42927 219.123438 \nL 249.750396 223.832982 \nL 249.814621 222.599266 \nL 249.878847 222.880646 \nL 250.071523 222.776308 \nL 250.199973 209.93148 \nL 250.264198 219.452192 \nL 250.328424 218.457155 \nL 250.5211 221.907622 \nL 250.585325 216.658659 \nL 250.713776 221.752865 \nL 250.778001 220.575479 \nL 250.970677 220.055902 \nL 251.034902 222.560546 \nL 251.099127 212.02963 \nL 251.163353 212.645372 \nL 251.227578 219.578271 \nL 251.420254 214.44233 \nL 251.484479 220.145011 \nL 251.548704 212.130921 \nL 251.61293 221.541958 \nL 251.677155 221.30165 \nL 251.869831 221.049642 \nL 252.126732 226.413889 \nL 252.512084 218.690799 \nL 252.576309 221.874874 \nL 252.768985 219.523811 \nL 252.83321 221.97514 \nL 252.897435 220.828271 \nL 252.961661 221.711944 \nL 253.025886 219.500259 \nL 253.218562 221.921192 \nL 253.282787 216.686402 \nL 253.347012 219.612075 \nL 253.411238 215.844856 \nL 253.475463 216.500253 \nL 253.732364 223.413702 \nL 253.796589 222.702578 \nL 253.860815 222.008191 \nL 253.92504 225.5775 \nL 254.246166 223.570238 \nL 254.310392 225.339273 \nL 254.374617 220.651079 \nL 254.631518 221.195202 \nL 254.695743 223.506249 \nL 254.759969 223.181928 \nL 254.824194 220.299588 \nL 255.01687 219.753775 \nL 255.081095 222.497853 \nL 255.14532 221.555046 \nL 255.273771 222.00035 \nL 255.530672 219.489042 \nL 255.594897 222.723747 \nL 255.659123 222.15553 \nL 255.723348 220.044473 \nL 255.916024 223.225171 \nL 255.980249 222.875127 \nL 256.044474 220.110905 \nL 256.1087 221.932289 \nL 256.172925 223.673671 \nL 256.365601 220.714043 \nL 256.429826 215.037748 \nL 256.494051 196.105004 \nL 256.622502 222.484223 \nL 256.815178 221.77901 \nL 256.879403 218.360025 \nL 256.943628 222.937519 \nL 257.007854 221.325473 \nL 257.072079 223.823664 \nL 257.264755 222.92808 \nL 257.393205 219.132213 \nL 257.521656 223.180541 \nL 257.778557 222.484253 \nL 257.907008 223.605731 \nL 257.971233 223.307676 \nL 258.163909 223.765796 \nL 258.228134 222.793135 \nL 258.292359 218.893533 \nL 258.42081 223.509264 \nL 258.613486 223.315697 \nL 258.677711 224.613493 \nL 258.741936 224.233264 \nL 258.806162 223.193296 \nL 258.870387 223.960177 \nL 259.063063 224.620912 \nL 259.127288 225.257974 \nL 259.319964 216.640807 \nL 259.51264 223.37842 \nL 259.576865 217.954103 \nL 259.705316 223.738988 \nL 259.769541 223.121014 \nL 259.962217 222.765331 \nL 260.026442 219.810196 \nL 260.090667 221.072138 \nL 260.219118 223.945431 \nL 260.476019 223.876165 \nL 260.540244 221.516055 \nL 260.668695 224.846926 \nL 260.861371 224.165053 \nL 260.925596 220.71347 \nL 261.054047 224.499928 \nL 261.310948 224.874096 \nL 261.375173 225.442404 \nL 261.503624 222.842378 \nL 261.567849 224.651308 \nL 261.760525 224.707578 \nL 261.888975 223.830992 \nL 261.953201 225.578465 \nL 262.338552 216.094392 \nL 262.402778 222.826607 \nL 262.467003 221.633721 \nL 262.659679 215.173025 \nL 262.78813 222.092686 \nL 262.852355 221.655614 \nL 262.91658 220.065853 \nL 263.109256 222.031169 \nL 263.173481 223.828791 \nL 263.237707 214.565304 \nL 263.301932 219.751876 \nL 263.366157 221.744361 \nL 263.687284 224.091293 \nL 263.751509 224.073923 \nL 263.815734 223.262141 \nL 264.072635 223.805149 \nL 264.136861 222.50114 \nL 264.201086 224.927773 \nL 264.265311 221.500133 \nL 264.457987 222.235622 \nL 264.522212 221.845653 \nL 264.586438 223.520874 \nL 264.650663 223.466233 \nL 264.714888 210.308874 \nL 264.907564 208.069959 \nL 265.036015 220.36614 \nL 265.10024 220.174895 \nL 265.164465 214.687915 \nL 265.549817 224.112914 \nL 265.614042 219.187609 \nL 265.935169 223.215461 \nL 265.999394 220.37573 \nL 266.063619 222.931488 \nL 266.256295 225.568966 \nL 266.448971 222.598361 \nL 266.513196 224.084146 \nL 266.705872 223.514541 \nL 266.770097 223.909215 \nL 266.898548 222.275518 \nL 266.962773 223.803581 \nL 267.155449 222.699472 \nL 267.219674 224.486087 \nL 267.2839 223.565082 \nL 267.348125 224.674588 \nL 267.41235 221.957922 \nL 267.733477 225.115671 \nL 267.797702 220.081142 \nL 267.861927 224.683635 \nL 268.054603 223.889885 \nL 268.183054 208.784792 \nL 268.311504 223.674576 \nL 268.50418 223.27942 \nL 268.696856 217.569803 \nL 268.761081 221.956565 \nL 268.953757 223.203308 \nL 269.017982 220.98906 \nL 269.082208 221.530017 \nL 269.146433 221.448899 \nL 269.403334 221.922971 \nL 269.531785 224.024619 \nL 269.59601 223.898027 \nL 269.660235 222.190872 \nL 269.852911 222.044347 \nL 269.917136 220.97356 \nL 269.981362 221.651242 \nL 270.045587 221.797344 \nL 270.109812 224.871382 \nL 270.366713 220.988155 \nL 270.430939 223.34534 \nL 270.495164 223.26187 \nL 270.559389 221.246587 \nL 270.752065 220.351183 \nL 270.81629 208.248871 \nL 270.880516 216.332499 \nL 270.944741 222.709363 \nL 271.008966 215.063802 \nL 271.265867 223.598977 \nL 271.330093 213.906801 \nL 271.394318 218.562699 \nL 271.458543 215.808398 \nL 271.651219 216.489337 \nL 271.843895 223.23865 \nL 271.90812 221.943688 \nL 272.165021 224.980183 \nL 272.293472 223.456281 \nL 272.357697 224.625164 \nL 272.614598 225.165126 \nL 272.678824 224.776543 \nL 272.743049 225.011906 \nL 272.807274 224.930758 \nL 272.99995 222.600563 \nL 273.128401 224.936789 \nL 273.192626 217.033068 \nL 273.256851 222.645012 \nL 273.449527 223.245043 \nL 273.513752 224.51974 \nL 273.577978 223.47941 \nL 273.642203 224.747926 \nL 273.706428 216.469163 \nL 273.899104 216.3948 \nL 274.027555 219.730888 \nL 274.156005 211.962624 \nL 274.412907 222.52819 \nL 274.477132 222.513715 \nL 274.541357 220.983903 \nL 274.798258 224.753475 \nL 274.926709 221.081757 \nL 275.055159 223.270615 \nL 275.247835 224.970503 \nL 275.376286 222.158063 \nL 275.504736 225.644686 \nL 275.761638 221.904788 \nL 275.825863 217.309834 \nL 275.890088 217.35181 \nL 276.146989 220.061209 \nL 276.339665 222.132612 \nL 276.40389 222.831643 \nL 276.596566 219.237546 \nL 276.660792 224.021574 \nL 276.725017 222.691963 \nL 276.789242 223.699726 \nL 276.853467 217.76129 \nL 277.303044 224.944268 \nL 277.559946 219.86728 \nL 277.688396 224.904824 \nL 277.752621 222.034124 \nL 278.009523 222.168014 \nL 278.073748 220.973258 \nL 278.137973 223.109253 \nL 278.202198 222.73973 \nL 278.394874 223.672194 \nL 278.523325 222.649294 \nL 278.58755 224.245176 \nL 278.651775 222.209568 \nL 278.908677 220.958784 \nL 278.972902 219.505024 \nL 279.037127 220.468005 \nL 279.101352 220.096582 \nL 279.294028 221.699792 \nL 279.358254 220.016972 \nL 279.422479 214.46356 \nL 279.486704 217.351267 \nL 279.550929 218.070774 \nL 279.743605 214.603692 \nL 279.807831 215.988486 \nL 279.872056 220.080358 \nL 280.000506 203.761813 \nL 280.257408 209.295322 \nL 280.321633 214.311727 \nL 280.385858 213.472835 \nL 280.450084 208.562909 \nL 280.642759 211.534147 \nL 280.706985 220.059159 \nL 280.77121 217.617871 \nL 280.835435 214.450864 \nL 280.899661 217.759239 \nL 281.156562 219.642623 \nL 281.220787 218.574791 \nL 281.285012 220.528768 \nL 281.349238 219.678236 \nL 281.606139 218.135578 \nL 281.670364 218.481159 \nL 281.734589 215.158068 \nL 281.798815 218.278545 \nL 282.055716 222.70098 \nL 282.119941 220.314183 \nL 282.184166 222.705322 \nL 282.248392 220.168924 \nL 282.441067 220.16232 \nL 282.505293 220.317198 \nL 282.569518 221.018341 \nL 282.633743 223.016013 \nL 282.697969 217.991858 \nL 282.890644 219.788484 \nL 282.95487 223.949141 \nL 283.08332 217.362787 \nL 283.147546 217.502105 \nL 283.340221 218.553803 \nL 283.468672 217.309201 \nL 283.532897 218.295281 \nL 283.789798 218.540052 \nL 283.982474 221.752684 \nL 284.0467 219.318513 \nL 284.367826 223.110158 \nL 284.432051 222.972137 \nL 284.496277 222.298165 \nL 284.688952 223.367444 \nL 284.753178 221.851533 \nL 284.817403 223.615894 \nL 284.945854 210.125409 \nL 285.26698 221.315763 \nL 285.331205 221.442144 \nL 285.395431 219.122352 \nL 285.588106 217.080352 \nL 285.716557 209.80929 \nL 285.780782 219.601099 \nL 285.845008 212.926782 \nL 286.037683 217.073114 \nL 286.166134 222.875067 \nL 286.230359 221.434213 \nL 286.294585 221.970104 \nL 286.487261 223.608566 \nL 286.551486 222.729115 \nL 286.679936 224.65942 \nL 286.744162 224.356751 \nL 286.936838 224.32566 \nL 287.001063 225.2786 \nL 287.129513 222.868191 \nL 287.193739 224.609061 \nL 287.45064 223.08528 \nL 287.514865 224.2383 \nL 287.57909 221.58695 \nL 287.643316 222.805317 \nL 287.835992 221.95382 \nL 287.964442 223.561885 \nL 288.028667 223.437163 \nL 288.092893 221.836034 \nL 288.349794 224.774885 \nL 288.414019 223.34935 \nL 288.478244 223.357884 \nL 288.54247 211.262839 \nL 288.735146 224.3003 \nL 288.799371 219.74877 \nL 288.863596 223.653829 \nL 288.927821 222.120972 \nL 289.184723 220.326366 \nL 289.377398 224.637949 \nL 289.441624 223.017852 \nL 289.698525 225.666368 \nL 290.083877 223.916814 \nL 290.148102 225.067995 \nL 290.212327 224.195781 \nL 290.276552 224.434129 \nL 290.340778 226.100877 \nL 290.661904 224.930999 \nL 290.790355 223.639505 \nL 290.983031 225.052827 \nL 291.047256 224.236069 \nL 291.111481 224.835558 \nL 291.239932 222.629964 \nL 291.432608 223.532966 \nL 291.561058 209.388231 \nL 291.625283 211.056335 \nL 291.689509 219.788303 \nL 292.010635 223.081842 \nL 292.331762 222.066994 \nL 292.395987 223.617854 \nL 292.588663 219.191348 \nL 292.845564 221.985906 \nL 292.974015 224.180191 \nL 293.03824 224.302863 \nL 293.230916 223.68507 \nL 293.359366 221.655704 \nL 293.423592 215.160541 \nL 293.487817 216.805124 \nL 293.744718 221.614904 \nL 293.937394 218.530101 \nL 294.13007 217.958144 \nL 294.194295 219.094248 \nL 294.25852 215.014317 \nL 294.322746 217.297772 \nL 294.386971 220.224983 \nL 294.579647 218.658171 \nL 294.772323 221.850508 \nL 294.836548 200.850945 \nL 295.093449 222.47002 \nL 295.157674 222.641815 \nL 295.2219 220.773238 \nL 295.286125 222.960045 \nL 295.478801 222.757582 \nL 295.543026 222.399517 \nL 295.735702 219.748167 \nL 295.992603 221.76541 \nL 296.121054 213.854632 \nL 296.185279 217.710448 \nL 296.506405 222.973313 \nL 296.634856 219.899486 \nL 296.827532 221.192126 \nL 296.955982 217.533255 \nL 297.020208 220.871363 \nL 297.084433 215.623546 \nL 297.277109 216.022471 \nL 297.341334 218.819532 \nL 297.405559 218.307223 \nL 297.53401 202.333986 \nL 297.726686 209.922584 \nL 297.790911 220.260084 \nL 297.855136 219.795239 \nL 297.919362 222.226304 \nL 298.176263 214.454392 \nL 298.240488 215.736779 \nL 298.304713 211.539726 \nL 298.433164 218.738625 \nL 298.62584 217.231762 \nL 298.690065 209.421552 \nL 298.75429 220.488873 \nL 298.882741 222.750585 \nL 299.075417 216.305027 \nL 299.139642 217.393967 \nL 299.203867 215.984174 \nL 299.332318 217.953621 \nL 299.589219 217.406964 \nL 299.71767 216.878009 \nL 299.781895 217.124318 \nL 299.974571 211.170322 \nL 300.167247 220.25535 \nL 300.231472 217.60014 \nL 300.424148 216.519311 \nL 300.488373 219.669461 \nL 300.681049 201.002356 \nL 300.873725 218.665981 \nL 301.002175 212.208722 \nL 301.066401 213.856834 \nL 301.130626 217.121363 \nL 301.323302 219.319056 \nL 301.451752 218.705032 \nL 301.515978 202.338962 \nL 301.580203 212.201304 \nL 301.772879 213.356043 \nL 301.965555 219.084688 \nL 302.02978 221.725544 \nL 302.222456 220.09233 \nL 302.286681 221.216612 \nL 302.350906 220.656084 \nL 302.415132 220.881797 \nL 302.479357 219.696752 \nL 302.736258 220.709067 \nL 302.800483 222.899372 \nL 302.864709 222.202512 \nL 302.928934 219.761737 \nL 303.12161 221.976166 \nL 303.25006 211.446606 \nL 303.378511 220.023304 \nL 303.571187 220.376906 \nL 303.635412 218.98792 \nL 303.828088 222.691481 \nL 304.020764 223.543852 \nL 304.149215 223.092487 \nL 304.21344 223.289854 \nL 304.277665 222.448187 \nL 304.534566 224.153172 \nL 304.598792 221.999596 \nL 304.663017 224.672779 \nL 304.727242 224.171144 \nL 304.919918 223.278485 \nL 304.984143 224.726908 \nL 305.112594 221.366032 \nL 305.176819 222.068411 \nL 305.369495 221.601003 \nL 305.43372 223.922604 \nL 305.497946 223.599037 \nL 305.562171 222.397044 \nL 305.626396 222.637382 \nL 305.883297 220.083766 \nL 305.947523 220.516525 \nL 306.011748 222.764005 \nL 306.075973 218.10096 \nL 306.268649 221.967813 \nL 306.461325 214.48494 \nL 306.52555 217.086292 \nL 306.718226 216.652779 \nL 306.782451 214.856966 \nL 306.910902 223.608083 \nL 306.975127 222.768679 \nL 307.167803 221.472601 \nL 307.360479 224.110502 \nL 307.424704 224.287725 \nL 307.61738 222.069768 \nL 307.681605 219.088458 \nL 307.810056 223.571776 \nL 307.874281 221.503149 \nL 308.066957 224.586263 \nL 308.195408 221.157538 \nL 308.259633 222.578157 \nL 308.516534 224.012437 \nL 308.580759 222.841353 \nL 308.644985 224.585057 \nL 308.70921 224.282719 \nL 308.773435 224.250785 \nL 308.966111 223.178581 \nL 309.094562 210.32558 \nL 309.223012 223.574309 \nL 309.479913 218.185154 \nL 309.544139 221.931717 \nL 309.608364 219.347673 \nL 309.865265 212.556082 \nL 309.993716 221.869838 \nL 310.057941 219.91375 \nL 310.122166 219.959676 \nL 310.314842 218.230809 \nL 310.379067 221.32098 \nL 310.443293 220.90369 \nL 310.507518 218.858825 \nL 310.571743 222.723235 \nL 310.89287 221.285879 \nL 310.957095 223.476003 \nL 311.213996 217.692898 \nL 311.406672 223.081601 \nL 311.470897 220.621496 \nL 311.663573 221.967481 \nL 311.727798 221.752775 \nL 311.792024 224.37017 \nL 311.856249 223.338434 \nL 312.11315 225.450968 \nL 312.177375 221.867938 \nL 312.241601 223.504409 \nL 312.305826 223.386864 \nL 312.370051 215.460044 \nL 312.562727 224.380061 \nL 312.626952 223.520663 \nL 312.691178 222.013739 \nL 312.755403 223.572108 \nL 312.819628 220.492974 \nL 313.012304 221.656247 \nL 313.140755 226.448236 \nL 313.461881 222.233542 \nL 313.590332 224.477553 \nL 313.654557 223.785578 \nL 313.718782 224.568592 \nL 313.975683 224.788244 \nL 314.039909 225.620321 \nL 314.168359 223.563182 \nL 314.361035 223.156507 \nL 314.553711 225.679998 \nL 314.617936 224.561445 \nL 314.810612 223.338796 \nL 314.874837 219.641055 \nL 314.939063 208.98243 \nL 315.003288 213.585194 \nL 315.067513 217.552374 \nL 315.260189 214.075189 \nL 315.452865 221.729676 \nL 315.51709 222.450329 \nL 315.709766 223.09499 \nL 315.773992 215.635578 \nL 315.838217 218.853487 \nL 315.902442 221.663967 \nL 315.966667 221.545456 \nL 316.159343 222.512479 \nL 316.223569 221.76743 \nL 316.287794 223.38041 \nL 316.352019 223.163804 \nL 316.416244 215.75635 \nL 316.737371 225.068086 \nL 316.865821 223.498619 \nL 317.186948 224.088247 \nL 317.251173 222.663225 \nL 317.315398 224.035717 \nL 317.5723 220.291747 \nL 317.636525 216.518798 \nL 317.70075 220.15641 \nL 317.764975 217.883721 \nL 318.021877 224.350418 \nL 318.086102 222.233119 \nL 318.150327 223.222034 \nL 318.214552 213.164466 \nL 318.407228 224.095062 \nL 318.471454 220.468789 \nL 318.599904 224.195178 \nL 318.664129 222.229501 \nL 318.856805 222.040909 \nL 318.921031 219.378673 \nL 318.985256 219.437024 \nL 319.049481 221.248094 \nL 319.113706 219.434792 \nL 319.370608 221.444557 \nL 319.434833 224.237667 \nL 319.563283 217.300033 \nL 319.88441 224.303044 \nL 319.948635 224.779348 \nL 320.01286 222.529124 \nL 320.333987 224.157876 \nL 320.398212 224.651942 \nL 320.462437 224.335159 \nL 320.655113 222.594019 \nL 320.719339 219.106038 \nL 320.783564 220.486973 \nL 320.912014 218.4814 \nL 321.233141 224.155192 \nL 321.297366 222.717083 \nL 321.361591 224.598325 \nL 321.618493 223.286386 \nL 321.682718 222.129506 \nL 321.746943 223.151139 \nL 321.811169 222.320087 \nL 322.06807 224.132365 \nL 322.19652 220.722698 \nL 322.260746 224.949726 \nL 322.453421 223.540324 \nL 322.517647 221.943055 \nL 322.710323 226.360062 \nL 322.967224 221.247763 \nL 323.031449 224.809775 \nL 323.095674 224.263752 \nL 323.1599 221.877618 \nL 323.352575 220.221576 \nL 323.481026 223.937139 \nL 323.545251 219.522876 \nL 323.609477 219.803532 \nL 323.802152 220.21075 \nL 323.994828 222.458591 \nL 324.059054 209.068946 \nL 324.315955 226.219749 \nL 324.508631 218.847727 \nL 324.701306 219.009933 \nL 324.765532 222.274915 \nL 324.958208 218.843445 \nL 325.215109 221.666802 \nL 325.343559 217.050287 \nL 325.407785 219.271501 \nL 325.60046 220.712384 \nL 325.664686 217.665004 \nL 325.793136 221.670028 \nL 325.857362 219.484729 \nL 326.178488 222.197506 \nL 326.242713 221.998511 \nL 326.306939 218.827252 \nL 326.56384 217.643925 \nL 326.628065 213.573313 \nL 326.69229 220.31952 \nL 326.756516 214.827836 \nL 326.949191 216.757991 \nL 327.141867 221.92662 \nL 327.206093 221.002479 \nL 327.398768 221.630856 \nL 327.462994 222.763613 \nL 327.527219 221.300535 \nL 327.65567 223.834852 \nL 327.912571 218.375404 \nL 327.976796 222.789184 \nL 328.041021 222.292978 \nL 328.362148 212.484373 \nL 328.426373 214.943452 \nL 328.554824 197.692322 \nL 328.811725 205.789731 \nL 328.940175 215.733673 \nL 329.197077 208.257254 \nL 329.261302 208.366929 \nL 329.325527 210.605301 \nL 329.389752 198.326399 \nL 329.453978 201.925592 \nL 329.839329 209.379606 \nL 329.903555 199.591477 \nL 330.288906 210.870035 \nL 330.353132 214.478909 \nL 330.545808 217.211015 \nL 330.610033 215.022821 \nL 330.674258 216.589664 \nL 330.738483 217.364988 \nL 330.802709 220.083042 \nL 331.05961 214.579145 \nL 331.18806 217.652791 \nL 331.444962 219.996888 \nL 331.509187 215.174141 \nL 331.573412 219.986967 \nL 331.637637 218.02907 \nL 331.701863 213.647133 \nL 331.894539 220.072849 \nL 331.958764 216.22982 \nL 332.022989 221.049732 \nL 332.087214 220.464929 \nL 332.15144 220.337191 \nL 332.408341 221.430625 \nL 332.536791 216.073585 \nL 332.601017 211.73477 \nL 332.793693 219.805009 \nL 332.857918 218.735761 \nL 332.922143 219.144185 \nL 332.986368 221.188598 \nL 333.050594 219.768823 \nL 333.24327 218.871822 \nL 333.37172 214.749885 \nL 333.435946 217.893069 \nL 333.500171 217.333747 \nL 333.692847 219.668979 \nL 333.757072 222.205256 \nL 333.821297 221.468319 \nL 333.949748 223.707476 \nL 334.206649 220.411585 \nL 334.270874 221.35973 \nL 334.399325 218.29498 \nL 334.592001 223.783769 \nL 334.656226 223.267237 \nL 334.720451 221.997063 \nL 334.784677 223.273449 \nL 334.848902 219.527399 \nL 335.041578 222.663256 \nL 335.234254 214.671481 \nL 335.298479 214.7858 \nL 335.491155 219.409914 \nL 335.55538 217.403074 \nL 335.683831 222.575353 \nL 335.748056 209.936063 \nL 335.940732 219.66349 \nL 336.004957 213.880415 \nL 336.069182 215.352932 \nL 336.133408 219.506894 \nL 336.197633 214.400505 \nL 336.518759 221.526187 \nL 336.582985 221.277074 \nL 336.839886 220.929232 \nL 336.904111 221.398992 \nL 337.032562 220.402478 \nL 337.096787 223.070142 \nL 337.289463 215.42636 \nL 337.353688 216.983885 \nL 337.73904 223.065558 \nL 337.803265 222.060782 \nL 337.86749 223.1648 \nL 337.931716 215.02264 \nL 337.995941 215.894552 \nL 338.317067 223.064714 \nL 338.381293 217.953319 \nL 338.445518 201.653832 \nL 338.638194 206.643459 \nL 338.766644 220.677706 \nL 338.83087 214.613703 \nL 338.895095 214.944146 \nL 339.087771 213.861719 \nL 339.216221 217.364174 \nL 339.280447 214.036741 \nL 339.344672 217.392791 \nL 339.601573 221.91094 \nL 339.665798 218.90261 \nL 339.730024 220.307157 \nL 339.794249 204.389074 \nL 339.986925 203.794803 \nL 340.179601 218.14764 \nL 340.243826 215.729361 \nL 340.436502 212.859121 \nL 340.500727 218.38001 \nL 340.564952 214.787835 \nL 340.693403 204.79976 \nL 341.014529 216.535226 \nL 341.14298 216.239718 \nL 341.335656 219.308795 \nL 341.399881 215.954622 \nL 341.464106 218.213485 \nL 341.528332 216.454522 \nL 341.592557 208.230106 \nL 341.913683 218.512045 \nL 341.977909 217.228588 \nL 342.042134 218.567629 \nL 342.23481 219.495585 \nL 342.299035 222.382223 \nL 342.36326 219.118432 \nL 342.427486 221.120356 \nL 342.491711 218.964881 \nL 342.684387 221.864937 \nL 342.748612 217.699396 \nL 342.877063 223.581275 \nL 342.941288 222.297433 \nL 343.198189 210.097809 \nL 343.32664 221.38883 \nL 343.390865 221.175134 \nL 343.647766 220.494384 \nL 343.711991 223.093603 \nL 343.776217 222.185775 \nL 343.840442 223.649472 \nL 344.033118 221.442242 \nL 344.097343 222.917887 \nL 344.290019 215.53014 \nL 344.54692 221.760856 \nL 344.611145 219.453134 \nL 344.675371 220.346366 \nL 344.739596 221.24569 \nL 344.932272 218.225826 \nL 345.189173 223.724159 \nL 345.381849 223.000347 \nL 345.446074 224.275316 \nL 345.5103 224.120687 \nL 345.63875 224.325578 \nL 345.831426 220.22784 \nL 345.959877 224.107336 \nL 346.088327 226.354506 \nL 346.281003 217.102923 \nL 346.473679 223.921247 \nL 346.537904 223.974562 \nL 346.73058 223.337409 \nL 346.794805 223.675639 \nL 346.859031 221.198097 \nL 346.923256 223.744491 \nL 346.987481 223.320235 \nL 347.180157 223.904895 \nL 347.244382 217.995363 \nL 347.372833 222.760853 \nL 347.437058 215.359091 \nL 347.629734 220.733523 \nL 347.693959 217.141024 \nL 347.82241 225.733396 \nL 348.079311 220.489672 \nL 348.143536 220.748925 \nL 348.207762 222.603118 \nL 348.271987 222.41176 \nL 348.528888 219.071186 \nL 348.593113 222.511687 \nL 348.657339 218.182651 \nL 348.785789 221.961314 \nL 348.978465 222.288839 \nL 349.106916 223.192301 \nL 349.171141 223.072811 \nL 349.235366 221.488636 \nL 349.492267 223.03244 \nL 349.620718 220.816503 \nL 349.684943 226.807926 \nL 349.684943 226.807926 \n\" style=\"fill:none;stroke:#9467bd;stroke-linecap:square;stroke-width:1.5;\"/>\n   </g>\n   <g id=\"line2d_19\">\n    <path clip-path=\"url(#p54f0ffaea1)\" d=\"M 45.321307 229.874489 \nL 349.684943 229.874478 \nL 349.684943 229.874478 \n\" style=\"fill:none;stroke:#8c564b;stroke-linecap:square;stroke-width:1.5;\"/>\n   </g>\n   <g id=\"patch_3\">\n    <path d=\"M 30.103125 239.758125 \nL 30.103125 22.318125 \n\" style=\"fill:none;stroke:#000000;stroke-linecap:square;stroke-linejoin:miter;stroke-width:0.8;\"/>\n   </g>\n   <g id=\"patch_4\">\n    <path d=\"M 364.903125 239.758125 \nL 364.903125 22.318125 \n\" style=\"fill:none;stroke:#000000;stroke-linecap:square;stroke-linejoin:miter;stroke-width:0.8;\"/>\n   </g>\n   <g id=\"patch_5\">\n    <path d=\"M 30.103125 239.758125 \nL 364.903125 239.758125 \n\" style=\"fill:none;stroke:#000000;stroke-linecap:square;stroke-linejoin:miter;stroke-width:0.8;\"/>\n   </g>\n   <g id=\"patch_6\">\n    <path d=\"M 30.103125 22.318125 \nL 364.903125 22.318125 \n\" style=\"fill:none;stroke:#000000;stroke-linecap:square;stroke-linejoin:miter;stroke-width:0.8;\"/>\n   </g>\n   <g id=\"text_15\">\n    <!-- Apple Socks -->\n    <g transform=\"translate(161.135625 16.318125)scale(0.12 -0.12)\">\n     <defs>\n      <path d=\"M 34.1875 63.1875 \nL 20.796875 26.90625 \nL 47.609375 26.90625 \nz\nM 28.609375 72.90625 \nL 39.796875 72.90625 \nL 67.578125 0 \nL 57.328125 0 \nL 50.6875 18.703125 \nL 17.828125 18.703125 \nL 11.1875 0 \nL 0.78125 0 \nz\n\" id=\"DejaVuSans-65\"/>\n      <path d=\"M 18.109375 8.203125 \nL 18.109375 -20.796875 \nL 9.078125 -20.796875 \nL 9.078125 54.6875 \nL 18.109375 54.6875 \nL 18.109375 46.390625 \nQ 20.953125 51.265625 25.265625 53.625 \nQ 29.59375 56 35.59375 56 \nQ 45.5625 56 51.78125 48.09375 \nQ 58.015625 40.1875 58.015625 27.296875 \nQ 58.015625 14.40625 51.78125 6.484375 \nQ 45.5625 -1.421875 35.59375 -1.421875 \nQ 29.59375 -1.421875 25.265625 0.953125 \nQ 20.953125 3.328125 18.109375 8.203125 \nz\nM 48.6875 27.296875 \nQ 48.6875 37.203125 44.609375 42.84375 \nQ 40.53125 48.484375 33.40625 48.484375 \nQ 26.265625 48.484375 22.1875 42.84375 \nQ 18.109375 37.203125 18.109375 27.296875 \nQ 18.109375 17.390625 22.1875 11.75 \nQ 26.265625 6.109375 33.40625 6.109375 \nQ 40.53125 6.109375 44.609375 11.75 \nQ 48.6875 17.390625 48.6875 27.296875 \nz\n\" id=\"DejaVuSans-112\"/>\n      <path d=\"M 9.421875 75.984375 \nL 18.40625 75.984375 \nL 18.40625 0 \nL 9.421875 0 \nz\n\" id=\"DejaVuSans-108\"/>\n      <path id=\"DejaVuSans-32\"/>\n      <path d=\"M 53.515625 70.515625 \nL 53.515625 60.890625 \nQ 47.90625 63.578125 42.921875 64.890625 \nQ 37.9375 66.21875 33.296875 66.21875 \nQ 25.25 66.21875 20.875 63.09375 \nQ 16.5 59.96875 16.5 54.203125 \nQ 16.5 49.359375 19.40625 46.890625 \nQ 22.3125 44.4375 30.421875 42.921875 \nL 36.375 41.703125 \nQ 47.40625 39.59375 52.65625 34.296875 \nQ 57.90625 29 57.90625 20.125 \nQ 57.90625 9.515625 50.796875 4.046875 \nQ 43.703125 -1.421875 29.984375 -1.421875 \nQ 24.8125 -1.421875 18.96875 -0.25 \nQ 13.140625 0.921875 6.890625 3.21875 \nL 6.890625 13.375 \nQ 12.890625 10.015625 18.65625 8.296875 \nQ 24.421875 6.59375 29.984375 6.59375 \nQ 38.421875 6.59375 43.015625 9.90625 \nQ 47.609375 13.234375 47.609375 19.390625 \nQ 47.609375 24.75 44.3125 27.78125 \nQ 41.015625 30.8125 33.5 32.328125 \nL 27.484375 33.5 \nQ 16.453125 35.6875 11.515625 40.375 \nQ 6.59375 45.0625 6.59375 53.421875 \nQ 6.59375 63.09375 13.40625 68.65625 \nQ 20.21875 74.21875 32.171875 74.21875 \nQ 37.3125 74.21875 42.625 73.28125 \nQ 47.953125 72.359375 53.515625 70.515625 \nz\n\" id=\"DejaVuSans-83\"/>\n      <path d=\"M 30.609375 48.390625 \nQ 23.390625 48.390625 19.1875 42.75 \nQ 14.984375 37.109375 14.984375 27.296875 \nQ 14.984375 17.484375 19.15625 11.84375 \nQ 23.34375 6.203125 30.609375 6.203125 \nQ 37.796875 6.203125 41.984375 11.859375 \nQ 46.1875 17.53125 46.1875 27.296875 \nQ 46.1875 37.015625 41.984375 42.703125 \nQ 37.796875 48.390625 30.609375 48.390625 \nz\nM 30.609375 56 \nQ 42.328125 56 49.015625 48.375 \nQ 55.71875 40.765625 55.71875 27.296875 \nQ 55.71875 13.875 49.015625 6.21875 \nQ 42.328125 -1.421875 30.609375 -1.421875 \nQ 18.84375 -1.421875 12.171875 6.21875 \nQ 5.515625 13.875 5.515625 27.296875 \nQ 5.515625 40.765625 12.171875 48.375 \nQ 18.84375 56 30.609375 56 \nz\n\" id=\"DejaVuSans-111\"/>\n      <path d=\"M 48.78125 52.59375 \nL 48.78125 44.1875 \nQ 44.96875 46.296875 41.140625 47.34375 \nQ 37.3125 48.390625 33.40625 48.390625 \nQ 24.65625 48.390625 19.8125 42.84375 \nQ 14.984375 37.3125 14.984375 27.296875 \nQ 14.984375 17.28125 19.8125 11.734375 \nQ 24.65625 6.203125 33.40625 6.203125 \nQ 37.3125 6.203125 41.140625 7.25 \nQ 44.96875 8.296875 48.78125 10.40625 \nL 48.78125 2.09375 \nQ 45.015625 0.34375 40.984375 -0.53125 \nQ 36.96875 -1.421875 32.421875 -1.421875 \nQ 20.0625 -1.421875 12.78125 6.34375 \nQ 5.515625 14.109375 5.515625 27.296875 \nQ 5.515625 40.671875 12.859375 48.328125 \nQ 20.21875 56 33.015625 56 \nQ 37.15625 56 41.109375 55.140625 \nQ 45.0625 54.296875 48.78125 52.59375 \nz\n\" id=\"DejaVuSans-99\"/>\n      <path d=\"M 9.078125 75.984375 \nL 18.109375 75.984375 \nL 18.109375 31.109375 \nL 44.921875 54.6875 \nL 56.390625 54.6875 \nL 27.390625 29.109375 \nL 57.625 0 \nL 45.90625 0 \nL 18.109375 26.703125 \nL 18.109375 0 \nL 9.078125 0 \nz\n\" id=\"DejaVuSans-107\"/>\n      <path d=\"M 44.28125 53.078125 \nL 44.28125 44.578125 \nQ 40.484375 46.53125 36.375 47.5 \nQ 32.28125 48.484375 27.875 48.484375 \nQ 21.1875 48.484375 17.84375 46.4375 \nQ 14.5 44.390625 14.5 40.28125 \nQ 14.5 37.15625 16.890625 35.375 \nQ 19.28125 33.59375 26.515625 31.984375 \nL 29.59375 31.296875 \nQ 39.15625 29.25 43.1875 25.515625 \nQ 47.21875 21.78125 47.21875 15.09375 \nQ 47.21875 7.46875 41.1875 3.015625 \nQ 35.15625 -1.421875 24.609375 -1.421875 \nQ 20.21875 -1.421875 15.453125 -0.5625 \nQ 10.6875 0.296875 5.421875 2 \nL 5.421875 11.28125 \nQ 10.40625 8.6875 15.234375 7.390625 \nQ 20.0625 6.109375 24.8125 6.109375 \nQ 31.15625 6.109375 34.5625 8.28125 \nQ 37.984375 10.453125 37.984375 14.40625 \nQ 37.984375 18.0625 35.515625 20.015625 \nQ 33.0625 21.96875 24.703125 23.78125 \nL 21.578125 24.515625 \nQ 13.234375 26.265625 9.515625 29.90625 \nQ 5.8125 33.546875 5.8125 39.890625 \nQ 5.8125 47.609375 11.28125 51.796875 \nQ 16.75 56 26.8125 56 \nQ 31.78125 56 36.171875 55.265625 \nQ 40.578125 54.546875 44.28125 53.078125 \nz\n\" id=\"DejaVuSans-115\"/>\n     </defs>\n     <use xlink:href=\"#DejaVuSans-65\"/>\n     <use x=\"68.408203\" xlink:href=\"#DejaVuSans-112\"/>\n     <use x=\"131.884766\" xlink:href=\"#DejaVuSans-112\"/>\n     <use x=\"195.361328\" xlink:href=\"#DejaVuSans-108\"/>\n     <use x=\"223.144531\" xlink:href=\"#DejaVuSans-101\"/>\n     <use x=\"284.667969\" xlink:href=\"#DejaVuSans-32\"/>\n     <use x=\"316.455078\" xlink:href=\"#DejaVuSans-83\"/>\n     <use x=\"379.931641\" xlink:href=\"#DejaVuSans-111\"/>\n     <use x=\"441.113281\" xlink:href=\"#DejaVuSans-99\"/>\n     <use x=\"496.09375\" xlink:href=\"#DejaVuSans-107\"/>\n     <use x=\"554.003906\" xlink:href=\"#DejaVuSans-115\"/>\n    </g>\n   </g>\n  </g>\n </g>\n <defs>\n  <clipPath id=\"p54f0ffaea1\">\n   <rect height=\"217.44\" width=\"334.8\" x=\"30.103125\" y=\"22.318125\"/>\n  </clipPath>\n </defs>\n</svg>\n",
      "image/png": "[encoded data removed]"
     },
     "metadata": {
      "needs_background": "light"
     }
    }
   ],
   "source": [
    "# get some apple stock\n",
    "from datetime import datetime\n",
    "from pandas_datareader.data import DataReader\n",
    "from matplotlib.pyplot import plot, title\n",
    "%matplotlib inline\n",
    "\n",
    "dt_start = datetime(2008, 2,1)\n",
    "dt_end = datetime(2021, 2,1)\n",
    "\n",
    "appleData = DataReader('AAPL', data_source = 'yahoo', start = dt_start, end= dt_end)\n",
    "\n",
    "plot(appleData)\n",
    "title(\"Apple Socks\")"
   ]
  },
  {
   "cell_type": "code",
   "execution_count": 19,
   "metadata": {},
   "outputs": [
    {
     "output_type": "execute_result",
     "data": {
      "text/plain": [
       "                  High         Low  ...        Volume   Adj Close\n",
       "Date                                ...                          \n",
       "2008-02-01    4.878214    4.720714  ...  1.010744e+09    4.120698\n",
       "2008-02-04    4.853571    4.693571  ...  8.992340e+08    4.055998\n",
       "2008-02-05    4.785714    4.603571  ...  1.141042e+09    3.985445\n",
       "2008-02-06    4.711429    4.348929  ...  1.573272e+09    3.758692\n",
       "2008-02-07    4.456429    4.188214  ...  2.083332e+09    3.735277\n",
       "...                ...         ...  ...           ...         ...\n",
       "2021-01-15  130.220001  127.000000  ...  1.112353e+08  127.139999\n",
       "2021-01-19  128.710007  126.940002  ...  9.075730e+07  127.830002\n",
       "2021-01-20  132.490005  128.550003  ...  1.043195e+08  132.029999\n",
       "2021-01-21  139.669998  133.589996  ...  1.201509e+08  136.869995\n",
       "2021-01-22  137.660004  135.020004  ...  4.067685e+07  137.260101\n",
       "\n",
       "[3267 rows x 6 columns]"
      ],
      "text/html": "<div>\n<style scoped>\n    .dataframe tbody tr th:only-of-type {\n        vertical-align: middle;\n    }\n\n    .dataframe tbody tr th {\n        vertical-align: top;\n    }\n\n    .dataframe thead th {\n        text-align: right;\n    }\n</style>\n<table border=\"1\" class=\"dataframe\">\n  <thead>\n    <tr style=\"text-align: right;\">\n      <th></th>\n      <th>High</th>\n      <th>Low</th>\n      <th>Open</th>\n      <th>Close</th>\n      <th>Volume</th>\n      <th>Adj Close</th>\n    </tr>\n    <tr>\n      <th>Date</th>\n      <th></th>\n      <th></th>\n      <th></th>\n      <th></th>\n      <th></th>\n      <th></th>\n    </tr>\n  </thead>\n  <tbody>\n    <tr>\n      <th>2008-02-01</th>\n      <td>4.878214</td>\n      <td>4.720714</td>\n      <td>4.865714</td>\n      <td>4.776786</td>\n      <td>1.010744e+09</td>\n      <td>4.120698</td>\n    </tr>\n    <tr>\n      <th>2008-02-04</th>\n      <td>4.853571</td>\n      <td>4.693571</td>\n      <td>4.793214</td>\n      <td>4.701786</td>\n      <td>8.992340e+08</td>\n      <td>4.055998</td>\n    </tr>\n    <tr>\n      <th>2008-02-05</th>\n      <td>4.785714</td>\n      <td>4.603571</td>\n      <td>4.658214</td>\n      <td>4.620000</td>\n      <td>1.141042e+09</td>\n      <td>3.985445</td>\n    </tr>\n    <tr>\n      <th>2008-02-06</th>\n      <td>4.711429</td>\n      <td>4.348929</td>\n      <td>4.672500</td>\n      <td>4.357143</td>\n      <td>1.573272e+09</td>\n      <td>3.758692</td>\n    </tr>\n    <tr>\n      <th>2008-02-07</th>\n      <td>4.456429</td>\n      <td>4.188214</td>\n      <td>4.284643</td>\n      <td>4.330000</td>\n      <td>2.083332e+09</td>\n      <td>3.735277</td>\n    </tr>\n    <tr>\n      <th>...</th>\n      <td>...</td>\n      <td>...</td>\n      <td>...</td>\n      <td>...</td>\n      <td>...</td>\n      <td>...</td>\n    </tr>\n    <tr>\n      <th>2021-01-15</th>\n      <td>130.220001</td>\n      <td>127.000000</td>\n      <td>128.779999</td>\n      <td>127.139999</td>\n      <td>1.112353e+08</td>\n      <td>127.139999</td>\n    </tr>\n    <tr>\n      <th>2021-01-19</th>\n      <td>128.710007</td>\n      <td>126.940002</td>\n      <td>127.779999</td>\n      <td>127.830002</td>\n      <td>9.075730e+07</td>\n      <td>127.830002</td>\n    </tr>\n    <tr>\n      <th>2021-01-20</th>\n      <td>132.490005</td>\n      <td>128.550003</td>\n      <td>128.660004</td>\n      <td>132.029999</td>\n      <td>1.043195e+08</td>\n      <td>132.029999</td>\n    </tr>\n    <tr>\n      <th>2021-01-21</th>\n      <td>139.669998</td>\n      <td>133.589996</td>\n      <td>133.800003</td>\n      <td>136.869995</td>\n      <td>1.201509e+08</td>\n      <td>136.869995</td>\n    </tr>\n    <tr>\n      <th>2021-01-22</th>\n      <td>137.660004</td>\n      <td>135.020004</td>\n      <td>136.279999</td>\n      <td>137.260101</td>\n      <td>4.067685e+07</td>\n      <td>137.260101</td>\n    </tr>\n  </tbody>\n</table>\n<p>3267 rows × 6 columns</p>\n</div>"
     },
     "metadata": {},
     "execution_count": 19
    }
   ],
   "source": [
    "appleData"
   ]
  },
  {
   "cell_type": "code",
   "execution_count": 22,
   "metadata": {},
   "outputs": [
    {
     "output_type": "stream",
     "name": "stdout",
     "text": [
      "+-----------------+-----------------+-----------------+-----------------+----------+-----------------+\n|             High|              Low|             Open|            Close|    Volume|        Adj Close|\n+-----------------+-----------------+-----------------+-----------------+----------+-----------------+\n|4.878213882446289|4.720714092254639|4.865714073181152|4.776785850524902|1.010744E9|4.120697975158691|\n+-----------------+-----------------+-----------------+-----------------+----------+-----------------+\nonly showing top 1 row\n\n"
     ]
    }
   ],
   "source": [
    "df_aapl = sqlCon.createDataFrame(appleData)\n",
    "df_aapl.show(1)"
   ]
  },
  {
   "cell_type": "code",
   "execution_count": 23,
   "metadata": {},
   "outputs": [
    {
     "output_type": "execute_result",
     "data": {
      "text/plain": [
       "StructType(List(StructField(High,DoubleType,true),StructField(Low,DoubleType,true),StructField(Open,DoubleType,true),StructField(Close,DoubleType,true),StructField(Volume,DoubleType,true),StructField(Adj Close,DoubleType,true)))"
      ]
     },
     "metadata": {},
     "execution_count": 23
    }
   ],
   "source": [
    "df_aapl.schema"
   ]
  },
  {
   "cell_type": "code",
   "execution_count": null,
   "metadata": {},
   "outputs": [],
   "source": []
  },
  {
   "cell_type": "code",
   "execution_count": 24,
   "metadata": {},
   "outputs": [],
   "source": [
    "sml.stop()"
   ]
  }
 ],
 "metadata": {
  "kernelspec": {
   "name": "python3",
   "display_name": "Python 3.9.1 64-bit",
   "metadata": {
    "interpreter": {
     "hash": "767d51c1340bd893661ea55ea3124f6de3c7a262a8b4abca0554b478b1e2ff90"
    }
   }
  },
  "language_info": {
   "codemirror_mode": {
    "name": "ipython",
    "version": 3
   },
   "file_extension": ".py",
   "mimetype": "text/x-python",
   "name": "python",
   "nbconvert_exporter": "python",
   "pygments_lexer": "ipython3",
   "version": "3.9.1-final"
  }
 },
 "nbformat": 4,
 "nbformat_minor": 4
}