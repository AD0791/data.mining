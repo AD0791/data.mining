{
 "cells": [
  {
   "cell_type": "markdown",
   "metadata": {},
   "source": [
    "# Homework 3"
   ]
  },
  {
   "cell_type": "code",
   "execution_count": 106,
   "metadata": {},
   "outputs": [],
   "source": [
    "import pyspark as ps\n",
    "import random\n",
    "import pandas as pd"
   ]
  },
  {
   "cell_type": "markdown",
   "metadata": {},
   "source": [
    "1. Import pyspark into your notebook and create a new appName as “Homework 3\"\n"
   ]
  },
  {
   "cell_type": "code",
   "execution_count": 107,
   "metadata": {},
   "outputs": [],
   "source": [
    "spark = ps.sql.SparkSession.builder\\\n",
    "            .appName('Homework 3')\\\n",
    "            .getOrCreate()\n",
    "\n",
    "#.master('local')\\"
   ]
  },
  {
   "cell_type": "code",
   "execution_count": 108,
   "metadata": {},
   "outputs": [],
   "source": [
    "sc = spark.sparkContext"
   ]
  },
  {
   "cell_type": "markdown",
   "metadata": {},
   "source": [
    "2. The simulation process:\n",
    "    - Rather than a single 2-sided coin, there are two 6-sided dice.\n",
    "    - When the dice are rolled, their outcomes should be added together.\n",
    "    - The dice should be rolled 100 times\n",
    "    "
   ]
  },
  {
   "cell_type": "code",
   "execution_count": 119,
   "metadata": {},
   "outputs": [
    {
     "name": "stdout",
     "output_type": "stream",
     "text": [
      "[('1', 8), ('2', 7), ('3', 11), ('4', 8), ('5', 8), ('6', 8), ('7', 7), ('8', 5), ('9', 7), ('10', 8), ('11', 10), ('12', 4), ('13', 5), ('14', 7), ('15', 9), ('16', 7), ('17', 4), ('18', 7), ('19', 5), ('20', 7), ('21', 10), ('22', 4), ('23', 7), ('24', 7), ('25', 7), ('26', 5), ('27', 10), ('28', 6), ('29', 5), ('30', 3), ('31', 11), ('32', 9), ('33', 7), ('34', 3), ('35', 5), ('36', 8), ('37', 6), ('38', 4), ('39', 7), ('40', 7), ('41', 10), ('42', 10), ('43', 5), ('44', 8), ('45', 3), ('46', 6), ('47', 6), ('48', 2), ('49', 9), ('50', 5), ('51', 6), ('52', 10), ('53', 9), ('54', 9), ('55', 3), ('56', 10), ('57', 7), ('58', 7), ('59', 9), ('60', 6), ('61', 5), ('62', 5), ('63', 2), ('64', 10), ('65', 10), ('66', 7), ('67', 8), ('68', 7), ('69', 2), ('70', 10), ('71', 6), ('72', 4), ('73', 6), ('74', 9), ('75', 10), ('76', 7), ('77', 12), ('78', 7), ('79', 9), ('80', 5), ('81', 4), ('82', 7), ('83', 7), ('84', 3), ('85', 8), ('86', 11), ('87', 10), ('88', 7), ('89', 4), ('90', 7), ('91', 3), ('92', 12), ('93', 4), ('94', 6), ('95', 3), ('96', 6), ('97', 8), ('98', 5), ('99', 7), ('100', 5)]\n"
     ]
    }
   ],
   "source": [
    "#random.seed(30)\n",
    "n = 100\n",
    "\n",
    "def dice(n):\n",
    "    return [(f\"{i}\", random.randint(1, 6) + random.randint(1, 6)) for i in range(1,n+1)]\n",
    "\n",
    "\n",
    "\n",
    "rdd = sc.parallelize(dice(n))\n",
    "print(rdd.collect())\n"
   ]
  },
  {
   "cell_type": "markdown",
   "metadata": {},
   "source": [
    "3. Collection into a data.frame"
   ]
  },
  {
   "cell_type": "code",
   "execution_count": 120,
   "metadata": {},
   "outputs": [
    {
     "data": {
      "text/html": [
       "<div>\n",
       "<style scoped>\n",
       "    .dataframe tbody tr th:only-of-type {\n",
       "        vertical-align: middle;\n",
       "    }\n",
       "\n",
       "    .dataframe tbody tr th {\n",
       "        vertical-align: top;\n",
       "    }\n",
       "\n",
       "    .dataframe thead th {\n",
       "        text-align: right;\n",
       "    }\n",
       "</style>\n",
       "<table border=\"1\" class=\"dataframe\">\n",
       "  <thead>\n",
       "    <tr style=\"text-align: right;\">\n",
       "      <th></th>\n",
       "      <th>rolls</th>\n",
       "      <th>results</th>\n",
       "    </tr>\n",
       "  </thead>\n",
       "  <tbody>\n",
       "    <tr>\n",
       "      <th>0</th>\n",
       "      <td>1</td>\n",
       "      <td>8</td>\n",
       "    </tr>\n",
       "    <tr>\n",
       "      <th>1</th>\n",
       "      <td>2</td>\n",
       "      <td>7</td>\n",
       "    </tr>\n",
       "    <tr>\n",
       "      <th>2</th>\n",
       "      <td>3</td>\n",
       "      <td>11</td>\n",
       "    </tr>\n",
       "    <tr>\n",
       "      <th>3</th>\n",
       "      <td>4</td>\n",
       "      <td>8</td>\n",
       "    </tr>\n",
       "    <tr>\n",
       "      <th>4</th>\n",
       "      <td>5</td>\n",
       "      <td>8</td>\n",
       "    </tr>\n",
       "  </tbody>\n",
       "</table>\n",
       "</div>"
      ],
      "text/plain": [
       "  rolls  results\n",
       "0     1        8\n",
       "1     2        7\n",
       "2     3       11\n",
       "3     4        8\n",
       "4     5        8"
      ]
     },
     "execution_count": 120,
     "metadata": {},
     "output_type": "execute_result"
    }
   ],
   "source": [
    "rollDiceDF = pd.DataFrame(rdd.collect())\\\n",
    "                .rename(columns={0:\"rolls\",1:\"results\"})\n",
    "rollDiceDF.head()"
   ]
  },
  {
   "cell_type": "markdown",
   "metadata": {},
   "source": [
    "4. Histogram"
   ]
  },
  {
   "cell_type": "code",
   "execution_count": 146,
   "metadata": {},
   "outputs": [
    {
     "data": {
      "image/png": "[encoded data removed]",
      "text/plain": [
       "<Figure size 864x576 with 1 Axes>"
      ]
     },
     "metadata": {
      "needs_background": "light"
     },
     "output_type": "display_data"
    }
   ],
   "source": [
    "ax = rollDiceDF.hist(grid=False, figsize=(12,8), color='#86bf91', zorder=2, rwidth=0.9)\n",
    "ax = ax[0]\n",
    "\n",
    "\n",
    "\n",
    "for x in ax:\n",
    "\n",
    "    # Despine\n",
    "    x.spines['right'].set_visible(False)\n",
    "    x.spines['top'].set_visible(False)\n",
    "    x.spines['left'].set_visible(False)\n",
    "\n",
    "    # Switch off ticks\n",
    "    x.tick_params(axis=\"both\", which=\"both\", bottom=\"off\", top=\"off\", labelbottom=\"on\", left=\"off\", right=\"off\", labelleft=\"on\")\n",
    "\n",
    "    # Draw horizontal axis lines\n",
    "    vals = x.get_yticks()\n",
    "    for tick in vals:\n",
    "        x.axhline(y=tick, linestyle='dashed', alpha=0.4, color='#eeeeee', zorder=1)\n",
    "\n",
    "    # Remove title\n",
    "    x.set_title(\"Simuations Roll of 2  Dice\")\n",
    "\n",
    "    # Set x-axis label\n",
    "    x.set_xlabel(\"Range of possible outcomes\", labelpad=20, weight='bold', size=12)\n",
    "\n",
    "    # Set y-axis label\n",
    "    x.set_ylabel(\"Simulations Results\", labelpad=20, weight='bold', size=12)\n",
    "\n",
    "    # Format y-axis label\n",
    "    #x.yaxis.set_major_formatter(StrMethodFormatter('{x:,g}'))"
   ]
  },
  {
   "cell_type": "markdown",
   "metadata": {},
   "source": [
    "---"
   ]
  }
 ],
 "metadata": {
  "kernelspec": {
   "display_name": "Python 3",
   "language": "python",
   "name": "python3"
  },
  "language_info": {
   "codemirror_mode": {
    "name": "ipython",
    "version": 3
   },
   "file_extension": ".py",
   "mimetype": "text/x-python",
   "name": "python",
   "nbconvert_exporter": "python",
   "pygments_lexer": "ipython3",
   "version": "3.9.0"
  }
 },
 "nbformat": 4,
 "nbformat_minor": 4
}
